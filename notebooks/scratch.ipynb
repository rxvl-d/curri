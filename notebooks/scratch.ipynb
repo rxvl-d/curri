{
 "cells": [
  {
   "cell_type": "code",
   "execution_count": 1,
   "id": "1f6a88a9",
   "metadata": {},
   "outputs": [],
   "source": [
    "import sys\n",
    "sys.path.append('..')"
   ]
  },
  {
   "cell_type": "code",
   "execution_count": 2,
   "id": "b2e75e26",
   "metadata": {},
   "outputs": [],
   "source": [
    "from curry.loader import Loader\n",
    "from curry.clean import Cleaner\n",
    "from curry.features import Extractor"
   ]
  },
  {
   "cell_type": "code",
   "execution_count": 3,
   "id": "b13d5549",
   "metadata": {},
   "outputs": [],
   "source": [
    "loader = Loader()\n",
    "extractor = Extractor('tf')"
   ]
  },
  {
   "cell_type": "code",
   "execution_count": 4,
   "id": "7da88e5c",
   "metadata": {},
   "outputs": [
    {
     "name": "stderr",
     "output_type": "stream",
     "text": [
      "cleaning:  35%|██████████████████████████████▌                                                         | 4051/11667 [00:20<00:34, 218.02it/s]/home/rsebastian/.anaconda3/envs/curry/lib/python3.7/site-packages/dateparser/date_parser.py:35: PytzUsageWarning: The localize method is no longer necessary, as this time zone supports the fold attribute (PEP 495). For more details on migrating to a PEP 495-compliant implementation, see https://pytz-deprecation-shim.readthedocs.io/en/latest/migration.html\n",
      "  date_obj = stz.localize(date_obj)\n",
      "cleaning: 100%|███████████████████████████████████████████████████████████████████████████████████████| 11667/11667 [01:18<00:00, 148.04it/s]\n",
      "keyword ex.: 100%|████████████████████████████████████████████████████████████████████████████████████| 11667/11667 [00:53<00:00, 218.44it/s]\n"
     ]
    },
    {
     "data": {
      "text/plain": [
       "<11667x7684 sparse matrix of type '<class 'numpy.int64'>'\n",
       "\twith 229090 stored elements in Compressed Sparse Row format>"
      ]
     },
     "execution_count": 4,
     "metadata": {},
     "output_type": "execute_result"
    }
   ],
   "source": [
    "extractor.keywords(loader.sublessons_w_content().content)"
   ]
  },
  {
   "cell_type": "code",
   "execution_count": null,
   "id": "83926e95",
   "metadata": {},
   "outputs": [],
   "source": []
  },
  {
   "cell_type": "code",
   "execution_count": null,
   "id": "d0055c77",
   "metadata": {},
   "outputs": [],
   "source": []
  },
  {
   "cell_type": "code",
   "execution_count": null,
   "id": "e35921b2",
   "metadata": {},
   "outputs": [],
   "source": []
  },
  {
   "cell_type": "code",
   "execution_count": null,
   "id": "5c1f2a09",
   "metadata": {},
   "outputs": [],
   "source": [
    "extractor"
   ]
  },
  {
   "cell_type": "code",
   "execution_count": 7,
   "id": "17807d88",
   "metadata": {},
   "outputs": [
    {
     "data": {
      "text/plain": [
       "'Bei den Aufgaben zur Dichte lässt sich das Volumen mancher (sehr einfacher) Körper rechnerisch ermitteln.  Im Folgenden sind die Formeln für einige wichtige Umfangs-, Flächen- und Volumenberechnungen angegeben'"
      ]
     },
     "execution_count": 7,
     "metadata": {},
     "output_type": "execute_result"
    }
   ],
   "source": [
    "cleaner.clean(df.content.iloc[0])"
   ]
  },
  {
   "cell_type": "code",
   "execution_count": null,
   "id": "e4f21147",
   "metadata": {},
   "outputs": [],
   "source": []
  },
  {
   "cell_type": "code",
   "execution_count": 17,
   "id": "c17b3071",
   "metadata": {},
   "outputs": [],
   "source": [
    "import pandas as pd\n",
    "import pickle"
   ]
  },
  {
   "cell_type": "code",
   "execution_count": 9,
   "id": "bfbc5761",
   "metadata": {},
   "outputs": [],
   "source": [
    "lessons = pd.read_csv('../data/lessons.csv', index_col=0)"
   ]
  },
  {
   "cell_type": "code",
   "execution_count": 12,
   "id": "781bcc9e",
   "metadata": {},
   "outputs": [],
   "source": [
    "detail_pages = pd.read_csv('../data/detail_pages.csv', index_col=0)"
   ]
  },
  {
   "cell_type": "code",
   "execution_count": 21,
   "id": "fb3bdbd0",
   "metadata": {},
   "outputs": [],
   "source": [
    "sublessons = pd.merge(\n",
    "        lessons, \n",
    "        detail_pages, \n",
    "        left_on='url', right_on='lesson_url').drop(columns='lesson_url')"
   ]
  },
  {
   "cell_type": "code",
   "execution_count": 22,
   "id": "3ea1f55e",
   "metadata": {},
   "outputs": [
    {
     "data": {
      "text/html": [
       "<div>\n",
       "<style scoped>\n",
       "    .dataframe tbody tr th:only-of-type {\n",
       "        vertical-align: middle;\n",
       "    }\n",
       "\n",
       "    .dataframe tbody tr th {\n",
       "        vertical-align: top;\n",
       "    }\n",
       "\n",
       "    .dataframe thead th {\n",
       "        text-align: right;\n",
       "    }\n",
       "</style>\n",
       "<table border=\"1\" class=\"dataframe\">\n",
       "  <thead>\n",
       "    <tr style=\"text-align: right;\">\n",
       "      <th></th>\n",
       "      <th>land</th>\n",
       "      <th>klass</th>\n",
       "      <th>name</th>\n",
       "      <th>url</th>\n",
       "      <th>lessons_cat</th>\n",
       "      <th>grundwissen_url</th>\n",
       "    </tr>\n",
       "  </thead>\n",
       "  <tbody>\n",
       "    <tr>\n",
       "      <th>0</th>\n",
       "      <td>baden-wuerttemberg</td>\n",
       "      <td>5</td>\n",
       "      <td>Masse, Volumen und Dichte</td>\n",
       "      <td>/mechanik/masse-volumen-und-dichte</td>\n",
       "      <td>mechanik</td>\n",
       "      <td>/mechanik/masse-volumen-und-dichte/grundwissen...</td>\n",
       "    </tr>\n",
       "    <tr>\n",
       "      <th>1</th>\n",
       "      <td>baden-wuerttemberg</td>\n",
       "      <td>5</td>\n",
       "      <td>Masse, Volumen und Dichte</td>\n",
       "      <td>/mechanik/masse-volumen-und-dichte</td>\n",
       "      <td>mechanik</td>\n",
       "      <td>/mechanik/masse-volumen-und-dichte/grundwissen...</td>\n",
       "    </tr>\n",
       "  </tbody>\n",
       "</table>\n",
       "</div>"
      ],
      "text/plain": [
       "                 land  klass                       name  \\\n",
       "0  baden-wuerttemberg      5  Masse, Volumen und Dichte   \n",
       "1  baden-wuerttemberg      5  Masse, Volumen und Dichte   \n",
       "\n",
       "                                  url lessons_cat  \\\n",
       "0  /mechanik/masse-volumen-und-dichte    mechanik   \n",
       "1  /mechanik/masse-volumen-und-dichte    mechanik   \n",
       "\n",
       "                                     grundwissen_url  \n",
       "0  /mechanik/masse-volumen-und-dichte/grundwissen...  \n",
       "1  /mechanik/masse-volumen-und-dichte/grundwissen...  "
      ]
     },
     "execution_count": 22,
     "metadata": {},
     "output_type": "execute_result"
    }
   ],
   "source": [
    "sublessons.head(2)"
   ]
  },
  {
   "cell_type": "code",
   "execution_count": 28,
   "id": "6a05a2b3",
   "metadata": {},
   "outputs": [],
   "source": [
    "import os"
   ]
  },
  {
   "cell_type": "code",
   "execution_count": 29,
   "id": "2f38154f",
   "metadata": {},
   "outputs": [
    {
     "data": {
      "text/plain": [
       "556"
      ]
     },
     "execution_count": 29,
     "metadata": {},
     "output_type": "execute_result"
    }
   ],
   "source": [
    "len(os.listdir('../data/grundwissen_pages/'))"
   ]
  },
  {
   "cell_type": "code",
   "execution_count": 24,
   "id": "fabd0d0b",
   "metadata": {},
   "outputs": [],
   "source": [
    "\n",
    "\n",
    "def to_kws(content):\n",
    "    ranked_kws = yake.KeywordExtractor(lan='de').extract_keywords(content)\n",
    "    sorted_kws = sorted(ranked_kws, key=lambda x: x[1], reverse=True)\n",
    "    return [kw for (kw, _) in sorted_kws]\n"
   ]
  },
  {
   "cell_type": "code",
   "execution_count": 27,
   "id": "69a2163a",
   "metadata": {},
   "outputs": [
    {
     "data": {
      "text/plain": [
       "0        <!DOCTYPE html>\\n<html lang=\"de\" dir=\"ltr\">\\n<...\n",
       "1        <!DOCTYPE html>\\n<html lang=\"de\" dir=\"ltr\">\\n<...\n",
       "2        <!DOCTYPE html>\\n<html lang=\"de\" dir=\"ltr\">\\n<...\n",
       "3        <!DOCTYPE html>\\n<html lang=\"de\" dir=\"ltr\">\\n<...\n",
       "4        <!DOCTYPE html>\\n<html lang=\"de\" dir=\"ltr\">\\n<...\n",
       "                               ...                        \n",
       "11685    <!DOCTYPE html>\\n<html lang=\"de\" dir=\"ltr\">\\n<...\n",
       "11686    <!DOCTYPE html>\\n<html lang=\"de\" dir=\"ltr\">\\n<...\n",
       "11687    <!DOCTYPE html>\\n<html lang=\"de\" dir=\"ltr\">\\n<...\n",
       "11688    <!DOCTYPE html>\\n<html lang=\"de\" dir=\"ltr\">\\n<...\n",
       "11689    <!DOCTYPE html>\\n<html lang=\"de\" dir=\"ltr\">\\n<...\n",
       "Name: grundwissen_url, Length: 11690, dtype: object"
      ]
     },
     "execution_count": 27,
     "metadata": {},
     "output_type": "execute_result"
    }
   ],
   "source": [
    "sublessons.grundwissen_url.apply(read_file)"
   ]
  },
  {
   "cell_type": "code",
   "execution_count": null,
   "id": "00c7c725",
   "metadata": {},
   "outputs": [],
   "source": [
    "!ls ../data/grundwissen_pages/SLASHmechanikSLASHmasse-volumen-und-dicht"
   ]
  },
  {
   "cell_type": "code",
   "execution_count": 18,
   "id": "3293fde7",
   "metadata": {},
   "outputs": [
    {
     "ename": "ValueError",
     "evalue": "unsupported pickle protocol: 5",
     "output_type": "error",
     "traceback": [
      "\u001b[0;31m---------------------------------------------------------------------------\u001b[0m",
      "\u001b[0;31mValueError\u001b[0m                                Traceback (most recent call last)",
      "\u001b[0;32m/tmp/ipykernel_190835/1310821253.py\u001b[0m in \u001b[0;36m<module>\u001b[0;34m\u001b[0m\n\u001b[1;32m      1\u001b[0m \u001b[0;32mwith\u001b[0m \u001b[0mopen\u001b[0m\u001b[0;34m(\u001b[0m\u001b[0;34m'../data/keywords.pkl'\u001b[0m\u001b[0;34m,\u001b[0m \u001b[0;34m'rb'\u001b[0m\u001b[0;34m)\u001b[0m \u001b[0;32mas\u001b[0m \u001b[0mf\u001b[0m\u001b[0;34m:\u001b[0m\u001b[0;34m\u001b[0m\u001b[0;34m\u001b[0m\u001b[0m\n\u001b[0;32m----> 2\u001b[0;31m     \u001b[0mkw\u001b[0m \u001b[0;34m=\u001b[0m \u001b[0mpickle\u001b[0m\u001b[0;34m.\u001b[0m\u001b[0mload\u001b[0m\u001b[0;34m(\u001b[0m\u001b[0mf\u001b[0m\u001b[0;34m)\u001b[0m\u001b[0;34m\u001b[0m\u001b[0;34m\u001b[0m\u001b[0m\n\u001b[0m",
      "\u001b[0;31mValueError\u001b[0m: unsupported pickle protocol: 5"
     ]
    }
   ],
   "source": [
    "with open('../data/keywords.pkl', 'rb') as f:\n",
    "    kw = pickle.load(f)"
   ]
  },
  {
   "cell_type": "code",
   "execution_count": null,
   "id": "cd849160",
   "metadata": {},
   "outputs": [],
   "source": []
  }
 ],
 "metadata": {
  "kernelspec": {
   "display_name": "Python 3 (ipykernel)",
   "language": "python",
   "name": "python3"
  },
  "language_info": {
   "codemirror_mode": {
    "name": "ipython",
    "version": 3
   },
   "file_extension": ".py",
   "mimetype": "text/x-python",
   "name": "python",
   "nbconvert_exporter": "python",
   "pygments_lexer": "ipython3",
   "version": "3.7.11"
  }
 },
 "nbformat": 4,
 "nbformat_minor": 5
}
