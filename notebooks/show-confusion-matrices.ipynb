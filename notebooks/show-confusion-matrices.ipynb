{
 "cells": [
  {
   "cell_type": "code",
   "execution_count": 11,
   "id": "32717764",
   "metadata": {},
   "outputs": [],
   "source": [
    "from glob import glob\n",
    "import numpy as np\n",
    "import os"
   ]
  },
  {
   "cell_type": "code",
   "execution_count": null,
   "id": "c0d82f04",
   "metadata": {},
   "outputs": [],
   "source": []
  },
  {
   "cell_type": "code",
   "execution_count": 19,
   "id": "675e796e",
   "metadata": {},
   "outputs": [
    {
     "name": "stdout",
     "output_type": "stream",
     "text": [
      "[[10  3  4  3 13 16 17]\n",
      " [ 3 11  3  9  1 31 13]\n",
      " [ 4  3  1  3  0  6  9]\n",
      " [ 1  4  3  9  3 48 18]\n",
      " [ 7  4  2  6 21  9 42]\n",
      " [11 29  3 42  0 21 18]\n",
      " [ 6 10  8 12 13 22 50]]\n"
     ]
    }
   ],
   "source": [
    "with open('../results/results_w_top_features/xgbClassifier_kw_False_sachsen[confusion_matrix].txt') as f:\n",
    "    lines = f.read()"
   ]
  },
  {
   "cell_type": "code",
   "execution_count": 17,
   "id": "d53b5e47",
   "metadata": {},
   "outputs": [
    {
     "data": {
      "text/plain": [
       "array([1.42644430e-153, 4.16304653e-062, 9.50076221e-259, 1.28223030e-153,\n",
       "       4.56345996e-072, 9.49568104e-259, 1.42644431e-153, 6.96324776e-077,\n",
       "       9.50321844e-259, 1.50102771e-153, 1.95999113e-062, 9.50203251e-259,\n",
       "       1.50102773e-153, 1.02588539e-071, 9.49442564e-259, 1.87918889e-153,\n",
       "       6.96324168e-077, 9.50203251e-259, 1.20764691e-153, 4.16304307e-062,\n",
       "       5.56143594e+141])"
      ]
     },
     "execution_count": 17,
     "metadata": {},
     "output_type": "execute_result"
    }
   ],
   "source": [
    "cm"
   ]
  },
  {
   "cell_type": "code",
   "execution_count": 8,
   "id": "36f023b6",
   "metadata": {},
   "outputs": [
    {
     "data": {
      "text/plain": [
       "['../results/results_w_top_features/xgbClassifier_kw_False_sachsen[confusion_matrix].txt',\n",
       " '../results/results_w_top_features/xgbClassifier_wikikw_False_hamburg[confusion_matrix].txt',\n",
       " '../results/results_w_top_features/xgbClassifier_kw_False_bayern[confusion_matrix].txt',\n",
       " '../results/results_w_top_features/xgbClassifier_babelkw_False_thueringen[confusion_matrix].txt',\n",
       " '../results/results_w_top_features/xgbClassifier_kw_False_brandenburg[confusion_matrix].txt',\n",
       " '../results/results_w_top_features/xgbClassifier_kw_False_schleswig-holstein[confusion_matrix].txt',\n",
       " '../results/results_w_top_features/xgbClassifier_babelkw_False_rheinland-pfalz[confusion_matrix].txt',\n",
       " '../results/results_w_top_features/xgbClassifier_babelkw_False_saarland[confusion_matrix].txt',\n",
       " '../results/results_w_top_features/xgbClassifier_kw_False_saarland[confusion_matrix].txt',\n",
       " '../results/results_w_top_features/xgbClassifier_babelkw_False_sachsen-anhalt[confusion_matrix].txt',\n",
       " '../results/results_w_top_features/xgbClassifier_babelkw_False_hamburg[confusion_matrix].txt',\n",
       " '../results/results_w_top_features/xgbClassifier_wikikw_False_sachsen[confusion_matrix].txt',\n",
       " '../results/results_w_top_features/xgbClassifier_wikikw_False_hessen[confusion_matrix].txt',\n",
       " '../results/results_w_top_features/xgbClassifier_babelkw_False_berlin[confusion_matrix].txt',\n",
       " '../results/results_w_top_features/xgbClassifier_wikikw_False_saarland[confusion_matrix].txt',\n",
       " '../results/results_w_top_features/xgbClassifier_wikikw_False_berlin[confusion_matrix].txt',\n",
       " '../results/results_w_top_features/xgbClassifier_wikikw_False_mecklenburg-vorpommern[confusion_matrix].txt',\n",
       " '../results/results_w_top_features/xgbClassifier_kw_False_berlin[confusion_matrix].txt',\n",
       " '../results/results_w_top_features/xgbClassifier_wikikw_False_bremen[confusion_matrix].txt',\n",
       " '../results/results_w_top_features/xgbClassifier_babelkw_False_brandenburg[confusion_matrix].txt',\n",
       " '../results/results_w_top_features/xgbClassifier_babelkw_False_nordrhein-westfalen[confusion_matrix].txt',\n",
       " '../results/results_w_top_features/xgbClassifier_wikikw_False_sachsen-anhalt[confusion_matrix].txt',\n",
       " '../results/results_w_top_features/xgbClassifier_kw_False_thueringen[confusion_matrix].txt',\n",
       " '../results/results_w_top_features/xgbClassifier_kw_False_bremen[confusion_matrix].txt',\n",
       " '../results/results_w_top_features/xgbClassifier_babelkw_False_schleswig-holstein[confusion_matrix].txt',\n",
       " '../results/results_w_top_features/xgbClassifier_babelkw_False_sachsen[confusion_matrix].txt',\n",
       " '../results/results_w_top_features/xgbClassifier_wikikw_False_nordrhein-westfalen[confusion_matrix].txt',\n",
       " '../results/results_w_top_features/xgbClassifier_kw_False_baden-wuerttemberg[confusion_matrix].txt',\n",
       " '../results/results_w_top_features/xgbClassifier_babelkw_False_niedersachsen[confusion_matrix].txt',\n",
       " '../results/results_w_top_features/xgbClassifier_kw_False_rheinland-pfalz[confusion_matrix].txt',\n",
       " '../results/results_w_top_features/xgbClassifier_wikikw_False_baden-wuerttemberg[confusion_matrix].txt',\n",
       " '../results/results_w_top_features/xgbClassifier_wikikw_False_thueringen[confusion_matrix].txt',\n",
       " '../results/results_w_top_features/xgbClassifier_wikikw_False_schleswig-holstein[confusion_matrix].txt',\n",
       " '../results/results_w_top_features/xgbClassifier_kw_False_mecklenburg-vorpommern[confusion_matrix].txt',\n",
       " '../results/results_w_top_features/xgbClassifier_babelkw_False_baden-wuerttemberg[confusion_matrix].txt',\n",
       " '../results/results_w_top_features/xgbClassifier_wikikw_False_niedersachsen[confusion_matrix].txt',\n",
       " '../results/results_w_top_features/xgbClassifier_kw_False_hamburg[confusion_matrix].txt',\n",
       " '../results/results_w_top_features/xgbClassifier_wikikw_False_rheinland-pfalz[confusion_matrix].txt',\n",
       " '../results/results_w_top_features/xgbClassifier_kw_False_nordrhein-westfalen[confusion_matrix].txt',\n",
       " '../results/results_w_top_features/xgbClassifier_babelkw_False_bremen[confusion_matrix].txt',\n",
       " '../results/results_w_top_features/xgbClassifier_kw_False_sachsen-anhalt[confusion_matrix].txt',\n",
       " '../results/results_w_top_features/xgbClassifier_babelkw_False_bayern[confusion_matrix].txt',\n",
       " '../results/results_w_top_features/xgbClassifier_kw_False_hessen[confusion_matrix].txt',\n",
       " '../results/results_w_top_features/xgbClassifier_babelkw_False_hessen[confusion_matrix].txt',\n",
       " '../results/results_w_top_features/xgbClassifier_wikikw_False_brandenburg[confusion_matrix].txt',\n",
       " '../results/results_w_top_features/xgbClassifier_wikikw_False_bayern[confusion_matrix].txt',\n",
       " '../results/results_w_top_features/xgbClassifier_babelkw_False_mecklenburg-vorpommern[confusion_matrix].txt',\n",
       " '../results/results_w_top_features/xgbClassifier_kw_False_niedersachsen[confusion_matrix].txt']"
      ]
     },
     "execution_count": 8,
     "metadata": {},
     "output_type": "execute_result"
    }
   ],
   "source": [
    "for cm_file in glob('../results/results_w_top_features/*confusion_matrix*'):\n",
    "    with open(cm_file) as f:\n",
    "        f.read()"
   ]
  },
  {
   "cell_type": "code",
   "execution_count": null,
   "id": "11df4e04",
   "metadata": {},
   "outputs": [],
   "source": []
  }
 ],
 "metadata": {
  "kernelspec": {
   "display_name": "Python 3 (ipykernel)",
   "language": "python",
   "name": "python3"
  },
  "language_info": {
   "codemirror_mode": {
    "name": "ipython",
    "version": 3
   },
   "file_extension": ".py",
   "mimetype": "text/x-python",
   "name": "python",
   "nbconvert_exporter": "python",
   "pygments_lexer": "ipython3",
   "version": "3.7.11"
  }
 },
 "nbformat": 4,
 "nbformat_minor": 5
}
