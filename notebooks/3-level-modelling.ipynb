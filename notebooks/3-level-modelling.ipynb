{
 "cells": [
  {
   "cell_type": "code",
   "execution_count": 31,
   "id": "00330205",
   "metadata": {},
   "outputs": [],
   "source": [
    "import sys\n",
    "sys.path.append('..')"
   ]
  },
  {
   "cell_type": "code",
   "execution_count": 32,
   "id": "aabb16c2",
   "metadata": {},
   "outputs": [],
   "source": [
    "from curry.loader import Loader"
   ]
  },
  {
   "cell_type": "code",
   "execution_count": 33,
   "id": "22e28b47",
   "metadata": {},
   "outputs": [],
   "source": [
    "from curry.features import Extractor"
   ]
  },
  {
   "cell_type": "code",
   "execution_count": 34,
   "id": "74a2acf6",
   "metadata": {},
   "outputs": [],
   "source": [
    "import seaborn as sns\n",
    "import pandas as pd\n",
    "import pickle\n",
    "from tqdm import tqdm"
   ]
  },
  {
   "cell_type": "code",
   "execution_count": 35,
   "id": "76e2eeee",
   "metadata": {},
   "outputs": [],
   "source": [
    "loader = Loader()"
   ]
  },
  {
   "cell_type": "code",
   "execution_count": 36,
   "id": "6d5be180",
   "metadata": {},
   "outputs": [],
   "source": [
    "extractor = Extractor(cache_dir='../data/cache/')"
   ]
  },
  {
   "cell_type": "code",
   "execution_count": 37,
   "id": "4223a4b8",
   "metadata": {},
   "outputs": [],
   "source": [
    "df, _, _ = loader.sublessons_w_content(False, None)"
   ]
  },
  {
   "cell_type": "code",
   "execution_count": 8,
   "id": "fdbe91a3",
   "metadata": {},
   "outputs": [
    {
     "data": {
      "text/plain": [
       "land\n",
       "baden-wuerttemberg            {5, 6, 7, 8, 9, 10, 11, 12}\n",
       "bayern                           {5, 7, 8, 9, 10, 11, 12}\n",
       "berlin                        {5, 6, 7, 8, 9, 10, 11, 12}\n",
       "brandenburg                   {5, 6, 7, 8, 9, 10, 11, 12}\n",
       "bremen                        {5, 6, 7, 8, 9, 10, 11, 12}\n",
       "hamburg                       {5, 6, 7, 8, 9, 10, 11, 12}\n",
       "hessen                             {7, 8, 10, 11, 12, 13}\n",
       "mecklenburg-vorpommern           {6, 7, 8, 9, 10, 11, 12}\n",
       "niedersachsen             {5, 6, 7, 8, 9, 10, 11, 12, 13}\n",
       "nordrhein-westfalen           {5, 6, 7, 8, 9, 10, 11, 12}\n",
       "rheinland-pfalz              {5, 6, 8, 9, 10, 11, 12, 13}\n",
       "saarland                            {7, 8, 9, 10, 11, 12}\n",
       "sachsen                          {6, 7, 8, 9, 10, 11, 12}\n",
       "sachsen-anhalt                   {6, 7, 8, 9, 10, 11, 12}\n",
       "schleswig-holstein               {6, 7, 8, 9, 10, 11, 12}\n",
       "thueringen                    {5, 6, 7, 8, 9, 10, 11, 12}\n",
       "dtype: object"
      ]
     },
     "execution_count": 8,
     "metadata": {},
     "output_type": "execute_result"
    }
   ],
   "source": [
    "df.groupby('land').apply(lambda df: set(df.klass.values))"
   ]
  },
  {
   "cell_type": "code",
   "execution_count": 38,
   "id": "b8de88ce",
   "metadata": {},
   "outputs": [],
   "source": [
    "df['simple_level'] = df.klass.apply(\n",
    "    lambda c: 'primary' if c <=5 else ('sec1' if c <= 9 else 'sec2'))"
   ]
  },
  {
   "cell_type": "code",
   "execution_count": 39,
   "id": "d7290ccd",
   "metadata": {},
   "outputs": [],
   "source": [
    "secondary = df[df.simple_level != 'primary']"
   ]
  },
  {
   "cell_type": "code",
   "execution_count": 10,
   "id": "9b945408",
   "metadata": {},
   "outputs": [
    {
     "data": {
      "text/plain": [
       "<AxesSubplot:xlabel='land', ylabel='Count'>"
      ]
     },
     "execution_count": 10,
     "metadata": {},
     "output_type": "execute_result"
    },
    {
     "data": {
      "image/png": "[encoded data removed]",
      "text/plain": [
       "<Figure size 432x288 with 1 Axes>"
      ]
     },
     "metadata": {
      "needs_background": "light"
     },
     "output_type": "display_data"
    }
   ],
   "source": [
    "sns.histplot(data=df, x=\"land\", hue=\"simple_level\", multiple=\"dodge\", shrink=.8)"
   ]
  },
  {
   "cell_type": "code",
   "execution_count": 11,
   "id": "2244f9fb",
   "metadata": {},
   "outputs": [],
   "source": [
    "secondary = df[df.simple_level != 'primary']"
   ]
  },
  {
   "cell_type": "code",
   "execution_count": 65,
   "id": "e4e27aca",
   "metadata": {},
   "outputs": [],
   "source": [
    "with open('../data/cache/babelfied.cache', 'rb') as f:\n",
    "    babelfy = pickle.load(f)\n"
   ]
  },
  {
   "cell_type": "code",
   "execution_count": 60,
   "id": "e86645aa",
   "metadata": {},
   "outputs": [],
   "source": [
    "with open('../data/cache/wikified.cache', 'rb') as f:\n",
    "    wikified = pickle.load(f)\n"
   ]
  },
  {
   "cell_type": "code",
   "execution_count": 96,
   "id": "3c4d27e8",
   "metadata": {},
   "outputs": [],
   "source": [
    "page_ranks = []\n",
    "cosines = []\n",
    "\n",
    "for k in wikified:\n",
    "    v = wikified[k]\n",
    "    for a in v['annotations']:\n",
    "        page_ranks.append(a['pageRank'])\n",
    "        cosines.append(a['cosine'])"
   ]
  },
  {
   "cell_type": "code",
   "execution_count": 104,
   "id": "5f0565d7",
   "metadata": {},
   "outputs": [
    {
     "data": {
      "text/plain": [
       "<AxesSubplot:ylabel='Frequency'>"
      ]
     },
     "execution_count": 104,
     "metadata": {},
     "output_type": "execute_result"
    },
    {
     "data": {
      "image/png": "[encoded data removed]",
      "text/plain": [
       "<Figure size 432x288 with 1 Axes>"
      ]
     },
     "metadata": {
      "needs_background": "light"
     },
     "output_type": "display_data"
    }
   ],
   "source": [
    "pd.Series(page_ranks).plot(kind='hist', logy=True, bins=20)"
   ]
  },
  {
   "cell_type": "code",
   "execution_count": 103,
   "id": "783b1672",
   "metadata": {},
   "outputs": [
    {
     "data": {
      "text/plain": [
       "<AxesSubplot:ylabel='Frequency'>"
      ]
     },
     "execution_count": 103,
     "metadata": {},
     "output_type": "execute_result"
    },
    {
     "data": {
      "image/png": "[encoded data removed]",
      "text/plain": [
       "<Figure size 432x288 with 1 Axes>"
      ]
     },
     "metadata": {
      "needs_background": "light"
     },
     "output_type": "display_data"
    }
   ],
   "source": [
    "pd.Series(cosines).plot(kind='hist', logy=True)"
   ]
  },
  {
   "cell_type": "code",
   "execution_count": 133,
   "id": "a2cedf5a",
   "metadata": {},
   "outputs": [
    {
     "data": {
      "text/plain": [
       "0.21067585325141172"
      ]
     },
     "execution_count": 133,
     "metadata": {},
     "output_type": "execute_result"
    }
   ],
   "source": [
    "count = 0\n",
    "wikified_dbpedia_iris = []\n",
    "for k in wikified:\n",
    "    w = wikified[k]\n",
    "    for a in w['annotations']:\n",
    "        count += 1\n",
    "        if a.get('dbPediaIri') and a['cosine']>0.1:\n",
    "            wikified_dbpedia_iris.append(a.get('dbPediaIri'))\n",
    "            \n",
    "len(wikified_dbpedia_iris) / count"
   ]
  },
  {
   "cell_type": "code",
   "execution_count": 134,
   "id": "e9aa5e27",
   "metadata": {},
   "outputs": [],
   "source": [
    "babelfy_dbpedia_iris = list()\n",
    "\n",
    "for values in babelfy.values():\n",
    "    for value in values:\n",
    "        if value.get('DBpediaURL'):\n",
    "            babelfy_dbpedia_iris.append(value.get('DBpediaURL'))"
   ]
  },
  {
   "cell_type": "code",
   "execution_count": 135,
   "id": "cfa958f4",
   "metadata": {},
   "outputs": [
    {
     "data": {
      "text/plain": [
       "3280"
      ]
     },
     "execution_count": 135,
     "metadata": {},
     "output_type": "execute_result"
    }
   ],
   "source": [
    "len(set(babelfy_dbpedia_iris))"
   ]
  },
  {
   "cell_type": "code",
   "execution_count": 137,
   "id": "8003fc01",
   "metadata": {},
   "outputs": [
    {
     "data": {
      "text/plain": [
       "5092"
      ]
     },
     "execution_count": 137,
     "metadata": {},
     "output_type": "execute_result"
    }
   ],
   "source": [
    "all_dbpedia_iris = set(wikified_dbpedia_iris).union(set(babelfy_dbpedia_iris))\n",
    "len(all_dbpedia_iris)"
   ]
  },
  {
   "cell_type": "code",
   "execution_count": 138,
   "id": "2983cdd9",
   "metadata": {},
   "outputs": [],
   "source": [
    "entities = pd.Series(wikified_dbpedia_iris + babelfy_dbpedia_iris).value_counts().sort_values(ascending=False)"
   ]
  },
  {
   "cell_type": "code",
   "execution_count": 139,
   "id": "d9938bf8",
   "metadata": {},
   "outputs": [
    {
     "data": {
      "text/plain": [
       "http://dbpedia.org/resource/Fundamental_science          571\n",
       "http://dbpedia.org/resource/Force                        507\n",
       "http://dbpedia.org/resource/Thermodynamic_free_energy    452\n",
       "http://dbpedia.org/resource/Physical_body                442\n",
       "http://dbpedia.org/resource/Light                        425\n",
       "                                                        ... \n",
       "http://de.dbpedia.org/resource/Messbereich                 1\n",
       "http://dbpedia.org/resource/Wound                          1\n",
       "http://dbpedia.org/resource/Henri_Becquerel                1\n",
       "http://dbpedia.org/resource/Building                       1\n",
       "http://dbpedia.org/resource/O                              1\n",
       "Length: 5092, dtype: int64"
      ]
     },
     "execution_count": 139,
     "metadata": {},
     "output_type": "execute_result"
    }
   ],
   "source": [
    "entities"
   ]
  },
  {
   "cell_type": "code",
   "execution_count": 140,
   "id": "03f0df79",
   "metadata": {},
   "outputs": [],
   "source": [
    "import sparql_dataframe\n",
    "from functools import lru_cache\n",
    "\n",
    "@lru_cache(maxsize=4000)\n",
    "def get_rdf_type(resource, depth):\n",
    "    endpoint = \"http://dbpedia.org/sparql\"\n",
    "\n",
    "    q = \"\"\"\n",
    "        prefix dbr: <http://dbpedia.org/resource/> \n",
    "        prefix dbo: <http://dbpedia.org/ontology/>\n",
    "        prefix skos: <http://www.w3.org/2004/02/skos/core#>\n",
    "\n",
    "        select distinct ?subcategory  where {\n",
    "          <\"\"\" + resource + \"\"\"> dbo:wikiPageRedirects* ?redirect.\n",
    "          ?redirect <http://purl.org/dc/terms/subject> ?category.\n",
    "          ?category \"\"\" + '?/'.join(['skos:broader' for _ in range(depth)]) + \"\"\" ?subcategory\n",
    "        }\n",
    "    \"\"\"\n",
    "    df = sparql_dataframe.get(endpoint, q)\n",
    "    return df.subcategory.values"
   ]
  },
  {
   "cell_type": "code",
   "execution_count": 141,
   "id": "190521a4",
   "metadata": {},
   "outputs": [
    {
     "name": "stderr",
     "output_type": "stream",
     "text": [
      "100%|█████████████████████████████████████████████████████████████████████████████████████████████████████████| 5092/5092 [22:10<00:00,  3.83it/s]\n"
     ]
    }
   ],
   "source": [
    "categories = [get_rdf_type(r, 5) for r in tqdm(entities.index)]"
   ]
  },
  {
   "cell_type": "code",
   "execution_count": 142,
   "id": "3ba23ba2",
   "metadata": {},
   "outputs": [],
   "source": [
    "categories_by_iri = dict(zip(entities.index, categories))"
   ]
  },
  {
   "cell_type": "code",
   "execution_count": 144,
   "id": "0b1868e7",
   "metadata": {},
   "outputs": [],
   "source": [
    "# with open('../data/cache/categories_depth_5.pkl', 'wb') as f:\n",
    "#     pickle.dump(categories_by_iri, f)"
   ]
  },
  {
   "cell_type": "code",
   "execution_count": 146,
   "id": "1066b773",
   "metadata": {},
   "outputs": [],
   "source": [
    "with open('../data/cache/categories_depth_5.pkl', 'rb') as f:\n",
    "    categories_by_iri = pickle.load(f)"
   ]
  },
  {
   "cell_type": "code",
   "execution_count": 66,
   "id": "0b62f2ec",
   "metadata": {},
   "outputs": [],
   "source": [
    "categories_ordered = [categories_by_entity[e] for e in entities.index]"
   ]
  },
  {
   "cell_type": "code",
   "execution_count": 147,
   "id": "d3380b08",
   "metadata": {},
   "outputs": [],
   "source": [
    "all_categories = pd.Series([c for e in entities.index for c in categories_by_iri[e]]).value_counts().sort_values(ascending=False)"
   ]
  },
  {
   "cell_type": "code",
   "execution_count": 149,
   "id": "4751f240",
   "metadata": {},
   "outputs": [],
   "source": [
    "def is_accepted_topics(c):\n",
    "    return ('http://dbpedia.org/resource/Category:Subfields_of_physics' in c) or \\\n",
    "    ('http://dbpedia.org/resource/Category:Physics' in c) or \\\n",
    "    ('http://dbpedia.org/resource/Category:Concepts_in_physics' in c) or \\\n",
    "    ('http://dbpedia.org/resource/Category:Physical_sciences' in c) or \\\n",
    "    ('http://dbpedia.org/resource/Category:Electromagnetism' in c) or \\\n",
    "    ('http://dbpedia.org/resource/Category:Electrical_engineering' in c) or \\\n",
    "    ('http://dbpedia.org/resource/Category:Physical_quantities' in c) or \\\n",
    "    ('http://dbpedia.org/resource/Category:Universe' in c) or \\\n",
    "    ('http://dbpedia.org/resource/Category:Metrology' in c) or \\\n",
    "    ('http://dbpedia.org/resource/Category:Classical_mechanics' in c) or \\\n",
    "    ('http://dbpedia.org/resource/Category:Engineering_disciplines' in c) or \\\n",
    "    ('http://dbpedia.org/resource/Category:Applied_and_interdisciplinary_physics' in c) or \\\n",
    "    ('http://dbpedia.org/resource/Category:Applied_sciences' in c) or \\\n",
    "    ('http://dbpedia.org/resource/Category:Engineering_disciplines' in c)"
   ]
  },
  {
   "cell_type": "code",
   "execution_count": 150,
   "id": "b07f88ad",
   "metadata": {},
   "outputs": [
    {
     "data": {
      "text/plain": [
       "0.7802435192458759"
      ]
     },
     "execution_count": 150,
     "metadata": {},
     "output_type": "execute_result"
    }
   ],
   "source": [
    "entities[[any([is_accepted_topics(c) for c in categories_by_iri[e]]) for e in entities.index]].shape[0] / entities.shape[0]"
   ]
  },
  {
   "cell_type": "code",
   "execution_count": 171,
   "id": "ad8a4758",
   "metadata": {},
   "outputs": [],
   "source": [
    "relevant_annotations_filtered_babel = dict()\n",
    "for url in babelfy:\n",
    "    out = []\n",
    "    bs = babelfy[url]\n",
    "    for b in bs:\n",
    "        if b.get('DBpediaURL') and b['score'] > 0.5:\n",
    "            if any([is_accepted_topics(c) for c in categories_by_iri[b['DBpediaURL']]]):\n",
    "                out.append(b['DBpediaURL'])\n",
    "    relevant_annotations_filtered_babel[url] = out"
   ]
  },
  {
   "cell_type": "code",
   "execution_count": 172,
   "id": "b001fe78",
   "metadata": {},
   "outputs": [],
   "source": [
    "relevant_annotations_babel = dict()\n",
    "for url in babelfy:\n",
    "    out = []\n",
    "    bs = babelfy[url]\n",
    "    for b in bs:\n",
    "        if b.get('DBpediaURL'):\n",
    "            if any([is_accepted_topics(c) for c in categories_by_iri[b['DBpediaURL']]]):\n",
    "                out.append(b['DBpediaURL'])\n",
    "    relevant_annotations_babel[url] = out"
   ]
  },
  {
   "cell_type": "code",
   "execution_count": 173,
   "id": "745ef345",
   "metadata": {},
   "outputs": [],
   "source": [
    "relevant_annotations_filtered_wikifier = dict()\n",
    "for url in wikified:\n",
    "    out = []\n",
    "    bs = wikified[url]\n",
    "    for b in bs['annotations']:\n",
    "        if b.get('dbPediaIri') and b['cosine'] > 0.2:\n",
    "            if any([is_accepted_topics(c) for c in categories_by_iri[b['dbPediaIri']]]):\n",
    "                out.append(b['dbPediaIri'])\n",
    "    relevant_annotations_filtered_wikifier[url] = out"
   ]
  },
  {
   "cell_type": "code",
   "execution_count": 174,
   "id": "805d6e27",
   "metadata": {},
   "outputs": [],
   "source": [
    "relevant_annotations_wikifier = dict()\n",
    "for url in wikified:\n",
    "    out = []\n",
    "    bs = wikified[url]\n",
    "    for b in bs['annotations']:\n",
    "        if b.get('dbPediaIri') and b['cosine'] > 0.1:\n",
    "            if any([is_accepted_topics(c) for c in categories_by_iri[b['dbPediaIri']]]):\n",
    "                out.append(b['dbPediaIri'])\n",
    "    relevant_annotations_wikifier[url] = out"
   ]
  },
  {
   "cell_type": "code",
   "execution_count": 175,
   "id": "097a562a",
   "metadata": {},
   "outputs": [],
   "source": [
    "def get_no_annotations(relevant_annotations):\n",
    "    no_annotations = []\n",
    "    for k in relevant_annotations:\n",
    "        v = relevant_annotations[k]\n",
    "    #     lengths.append(len(v))\n",
    "        if v == []:\n",
    "            no_annotations.append(k)\n",
    "\n",
    "    return no_annotations"
   ]
  },
  {
   "cell_type": "markdown",
   "id": "34807d9c",
   "metadata": {},
   "source": [
    "1. one => Babelfy doesn't recognize Hooke's Law\n",
    "2. Many sentences are stripped out because of containing equational material\n",
    "3. Prob. same as above. Stripped out in preprocessing"
   ]
  },
  {
   "cell_type": "code",
   "execution_count": 176,
   "id": "14f04151",
   "metadata": {},
   "outputs": [],
   "source": [
    "def get_clean(relevant_annotations):\n",
    "    no_annotations = get_no_annotations(relevant_annotations)\n",
    "    multiple_levels = secondary.groupby(['land', 'grundwissen_url']).simple_level.unique()\n",
    "    one_level_mask = secondary[['land', 'grundwissen_url']].apply(tuple, axis=1).isin(\n",
    "        multiple_levels[multiple_levels.apply(len) == 1].index\n",
    "    )\n",
    "    one_level_subset=secondary[one_level_mask]\n",
    "    clean_one_level = one_level_subset.drop(columns=['klass']).drop_duplicates()\n",
    "    if no_annotations:\n",
    "        clean_one_level = clean_one_level[~clean_one_level.grundwissen_url.isin(no_annotations)]\n",
    "    return clean_one_level"
   ]
  },
  {
   "cell_type": "code",
   "execution_count": 167,
   "id": "a6d8d319",
   "metadata": {},
   "outputs": [],
   "source": [
    "from curry.model import Trainer,  Models"
   ]
  },
  {
   "cell_type": "code",
   "execution_count": 168,
   "id": "ae86151a",
   "metadata": {},
   "outputs": [],
   "source": [
    "trainer = Trainer(data_dir='../data/')"
   ]
  },
  {
   "cell_type": "code",
   "execution_count": 190,
   "id": "1a2dbf26",
   "metadata": {},
   "outputs": [],
   "source": [
    "def train(relevant_annotations):\n",
    "    results = dict()\n",
    "    for land in tqdm(clean_one_level.land.unique()):\n",
    "        features, featur_names = extractor.count_vectorize(\n",
    "        [relevant_annotations[c] for c \n",
    "         in clean_one_level[clean_one_level.land == land].grundwissen_url])\n",
    "        results[land] = trainer.kfold(\n",
    "        Models.xgbClassifier(10, num_class=2),\n",
    "        features,\n",
    "        clean_one_level[clean_one_level.land == land].simple_level.astype('category').cat.codes.values,\n",
    "        featur_names)\n",
    "    return results"
   ]
  },
  {
   "cell_type": "code",
   "execution_count": 191,
   "id": "cb080d49",
   "metadata": {},
   "outputs": [
    {
     "name": "stderr",
     "output_type": "stream",
     "text": [
      "100%|█████████████████████████████████████████████████████████████████████████████████████████████████████████████| 16/16 [00:15<00:00,  1.05it/s]\n"
     ]
    }
   ],
   "source": [
    "results_babel_cat_filtered = train(relevant_annotations_babel)"
   ]
  },
  {
   "cell_type": "code",
   "execution_count": 194,
   "id": "e8804470",
   "metadata": {},
   "outputs": [
    {
     "name": "stderr",
     "output_type": "stream",
     "text": [
      "100%|█████████████████████████████████████████████████████████████████████████████████████████████████████████████| 16/16 [00:15<00:00,  1.03it/s]\n"
     ]
    }
   ],
   "source": [
    "results_babel_cat_score_fitered = train(relevant_annotations_filtered_babel)"
   ]
  },
  {
   "cell_type": "code",
   "execution_count": 195,
   "id": "dd6fe692",
   "metadata": {},
   "outputs": [
    {
     "name": "stderr",
     "output_type": "stream",
     "text": [
      "100%|█████████████████████████████████████████████████████████████████████████████████████████████████████████████| 16/16 [00:16<00:00,  1.02s/it]\n"
     ]
    }
   ],
   "source": [
    "results_wikifier_cat_score_fitered = train(relevant_annotations_filtered_wikifier)"
   ]
  },
  {
   "cell_type": "code",
   "execution_count": 196,
   "id": "41fbab1b",
   "metadata": {},
   "outputs": [
    {
     "name": "stderr",
     "output_type": "stream",
     "text": [
      "100%|█████████████████████████████████████████████████████████████████████████████████████████████████████████████| 16/16 [00:18<00:00,  1.15s/it]\n"
     ]
    }
   ],
   "source": [
    "results_wikifier_cat_fitered = train(relevant_annotations_wikifier)"
   ]
  },
  {
   "cell_type": "code",
   "execution_count": 183,
   "id": "7a1e92c0",
   "metadata": {},
   "outputs": [
    {
     "name": "stderr",
     "output_type": "stream",
     "text": [
      "100%|█████████████████████████████████████████████████████████████████████████████████████████████████████████████| 16/16 [00:17<00:00,  1.09s/it]\n"
     ]
    }
   ],
   "source": [
    "results_baseline_babel = dict()\n",
    "for land in tqdm(clean_one_level.land.unique()):\n",
    "    features, featur_names = extractor.count_vectorize(\n",
    "    [[a.get('DBpediaURL', a['text']) for a in babelfy[c]] for c \n",
    "     in clean_one_level[clean_one_level.land == land].grundwissen_url])\n",
    "    results_baseline_babel[land] = trainer.kfold(\n",
    "    Models.xgbClassifier(10, num_class=2),\n",
    "    features,\n",
    "    clean_one_level[clean_one_level.land == land].simple_level.astype('category').cat.codes.values,\n",
    "    featur_names)"
   ]
  },
  {
   "cell_type": "code",
   "execution_count": 186,
   "id": "eafeed37",
   "metadata": {},
   "outputs": [
    {
     "name": "stderr",
     "output_type": "stream",
     "text": [
      "100%|█████████████████████████████████████████████████████████████████████████████████████████████████████████████| 16/16 [00:17<00:00,  1.12s/it]\n"
     ]
    }
   ],
   "source": [
    "results_baseline_wikifier = dict()\n",
    "for land in tqdm(clean_one_level.land.unique()):\n",
    "    features, featur_names = extractor.count_vectorize(\n",
    "    [[a['title'] for a in wikified[c]['annotations']] for c \n",
    "     in clean_one_level[clean_one_level.land == land].grundwissen_url])\n",
    "    results_baseline_wikifier[land] = trainer.kfold(\n",
    "    Models.xgbClassifier(10, num_class=2),\n",
    "    features,\n",
    "    clean_one_level[clean_one_level.land == land].simple_level.astype('category').cat.codes.values,\n",
    "    featur_names)"
   ]
  },
  {
   "cell_type": "code",
   "execution_count": 212,
   "id": "26c55d06",
   "metadata": {},
   "outputs": [],
   "source": [
    "with open('../data/cache/sentence_transformers.cache', 'rb') as f:\n",
    "    doc_vecs = pickle.load(f)"
   ]
  },
  {
   "cell_type": "code",
   "execution_count": 214,
   "id": "608ac701",
   "metadata": {},
   "outputs": [
    {
     "name": "stderr",
     "output_type": "stream",
     "text": [
      "100%|█████████████████████████████████████████████████████████████████████████████████████████████████████████████| 16/16 [00:20<00:00,  1.26s/it]\n"
     ]
    }
   ],
   "source": [
    "results_baseline_st = dict()\n",
    "for land in tqdm(clean_one_level.land.unique()):\n",
    "    features = np.array([doc_vecs[u] for u in\n",
    "        clean_one_level[clean_one_level.land == land].grundwissen_url])\n",
    "    results_baseline_st[land] = trainer.kfold(\n",
    "    Models.xgbClassifier(10, num_class=2),\n",
    "    features,\n",
    "    clean_one_level[clean_one_level.land == land].simple_level.astype('category').cat.codes.values,\n",
    "    featur_names)"
   ]
  },
  {
   "cell_type": "code",
   "execution_count": 187,
   "id": "277e71e1",
   "metadata": {},
   "outputs": [],
   "source": [
    "import numpy as np"
   ]
  },
  {
   "cell_type": "code",
   "execution_count": 216,
   "id": "9accd809",
   "metadata": {},
   "outputs": [],
   "source": [
    "two_level_model_results = pd.DataFrame(\n",
    "    [(l, \n",
    "      np.sum(results_babel_cat_filtered[l][0]['confusion_matrix']) ,\n",
    "      results_babel_cat_filtered[l][0]['accuracy'],\n",
    "      results_babel_cat_score_fitered[l][0]['accuracy'],\n",
    "      results_baseline_babel[l][0]['accuracy'],\n",
    "      results_wikifier_cat_fitered[l][0]['accuracy'],\n",
    "      results_wikifier_cat_score_fitered[l][0]['accuracy'],\n",
    "      results_baseline_wikifier[l][0]['accuracy'],\n",
    "      results_baseline_st[l][0]['accuracy']\n",
    "     ) for l in results_babel_cat_filtered], \n",
    "    columns=['land', \n",
    "             'total', \n",
    "             'babel: accuracy w/ domain filtering', \n",
    "             'babel: accuracy w/ domain + score filtering',\n",
    "             'babel: accuracy w/ no filtering', \n",
    "             'wikifier: accuracy w/ domain filtering', \n",
    "             'wikifier: accuracy w/ domain + score filtering',\n",
    "             'wikifier: accuracy w/ no filtering',\n",
    "             'document vectors']).set_index('land')"
   ]
  },
  {
   "cell_type": "code",
   "execution_count": 217,
   "id": "6a3a216d",
   "metadata": {},
   "outputs": [
    {
     "data": {
      "text/html": [
       "<style type=\"text/css\">\n",
       "#T_4e8d8_row2_col6, #T_4e8d8_row4_col2, #T_4e8d8_row4_col3, #T_4e8d8_row4_col5, #T_4e8d8_row5_col1, #T_4e8d8_row5_col4, #T_4e8d8_row5_col7, #T_4e8d8_row6_col0 {\n",
       "  background-color: lightgreen;\n",
       "}\n",
       "#T_4e8d8_row3_col0, #T_4e8d8_row3_col5, #T_4e8d8_row12_col1, #T_4e8d8_row12_col2, #T_4e8d8_row12_col3, #T_4e8d8_row12_col4, #T_4e8d8_row12_col6, #T_4e8d8_row12_col7 {\n",
       "  background-color: red;\n",
       "}\n",
       "</style>\n",
       "<table id=\"T_4e8d8_\">\n",
       "  <thead>\n",
       "    <tr>\n",
       "      <th class=\"blank level0\" >&nbsp;</th>\n",
       "      <th class=\"col_heading level0 col0\" >total</th>\n",
       "      <th class=\"col_heading level0 col1\" >babel: accuracy w/ domain filtering</th>\n",
       "      <th class=\"col_heading level0 col2\" >babel: accuracy w/ domain + score filtering</th>\n",
       "      <th class=\"col_heading level0 col3\" >babel: accuracy w/ no filtering</th>\n",
       "      <th class=\"col_heading level0 col4\" >wikifier: accuracy w/ domain filtering</th>\n",
       "      <th class=\"col_heading level0 col5\" >wikifier: accuracy w/ domain + score filtering</th>\n",
       "      <th class=\"col_heading level0 col6\" >wikifier: accuracy w/ no filtering</th>\n",
       "      <th class=\"col_heading level0 col7\" >document vectors</th>\n",
       "    </tr>\n",
       "    <tr>\n",
       "      <th class=\"index_name level0\" >land</th>\n",
       "      <th class=\"blank col0\" >&nbsp;</th>\n",
       "      <th class=\"blank col1\" >&nbsp;</th>\n",
       "      <th class=\"blank col2\" >&nbsp;</th>\n",
       "      <th class=\"blank col3\" >&nbsp;</th>\n",
       "      <th class=\"blank col4\" >&nbsp;</th>\n",
       "      <th class=\"blank col5\" >&nbsp;</th>\n",
       "      <th class=\"blank col6\" >&nbsp;</th>\n",
       "      <th class=\"blank col7\" >&nbsp;</th>\n",
       "    </tr>\n",
       "  </thead>\n",
       "  <tbody>\n",
       "    <tr>\n",
       "      <th id=\"T_4e8d8_level0_row0\" class=\"row_heading level0 row0\" >baden-wuerttemberg</th>\n",
       "      <td id=\"T_4e8d8_row0_col0\" class=\"data row0 col0\" >287</td>\n",
       "      <td id=\"T_4e8d8_row0_col1\" class=\"data row0 col1\" >0.679203</td>\n",
       "      <td id=\"T_4e8d8_row0_col2\" class=\"data row0 col2\" >0.658406</td>\n",
       "      <td id=\"T_4e8d8_row0_col3\" class=\"data row0 col3\" >0.696637</td>\n",
       "      <td id=\"T_4e8d8_row0_col4\" class=\"data row0 col4\" >0.665534</td>\n",
       "      <td id=\"T_4e8d8_row0_col5\" class=\"data row0 col5\" >0.679605</td>\n",
       "      <td id=\"T_4e8d8_row0_col6\" class=\"data row0 col6\" >0.658553</td>\n",
       "      <td id=\"T_4e8d8_row0_col7\" class=\"data row0 col7\" >0.700475</td>\n",
       "    </tr>\n",
       "    <tr>\n",
       "      <th id=\"T_4e8d8_level0_row1\" class=\"row_heading level0 row1\" >bayern</th>\n",
       "      <td id=\"T_4e8d8_row1_col0\" class=\"data row1 col0\" >403</td>\n",
       "      <td id=\"T_4e8d8_row1_col1\" class=\"data row1 col1\" >0.694877</td>\n",
       "      <td id=\"T_4e8d8_row1_col2\" class=\"data row1 col2\" >0.680007</td>\n",
       "      <td id=\"T_4e8d8_row1_col3\" class=\"data row1 col3\" >0.669965</td>\n",
       "      <td id=\"T_4e8d8_row1_col4\" class=\"data row1 col4\" >0.665082</td>\n",
       "      <td id=\"T_4e8d8_row1_col5\" class=\"data row1 col5\" >0.608034</td>\n",
       "      <td id=\"T_4e8d8_row1_col6\" class=\"data row1 col6\" >0.660088</td>\n",
       "      <td id=\"T_4e8d8_row1_col7\" class=\"data row1 col7\" >0.756845</td>\n",
       "    </tr>\n",
       "    <tr>\n",
       "      <th id=\"T_4e8d8_level0_row2\" class=\"row_heading level0 row2\" >berlin</th>\n",
       "      <td id=\"T_4e8d8_row2_col0\" class=\"data row2 col0\" >246</td>\n",
       "      <td id=\"T_4e8d8_row2_col1\" class=\"data row2 col1\" >0.650407</td>\n",
       "      <td id=\"T_4e8d8_row2_col2\" class=\"data row2 col2\" >0.621951</td>\n",
       "      <td id=\"T_4e8d8_row2_col3\" class=\"data row2 col3\" >0.650407</td>\n",
       "      <td id=\"T_4e8d8_row2_col4\" class=\"data row2 col4\" >0.691057</td>\n",
       "      <td id=\"T_4e8d8_row2_col5\" class=\"data row2 col5\" >0.699187</td>\n",
       "      <td id=\"T_4e8d8_row2_col6\" class=\"data row2 col6\" >0.747967</td>\n",
       "      <td id=\"T_4e8d8_row2_col7\" class=\"data row2 col7\" >0.719512</td>\n",
       "    </tr>\n",
       "    <tr>\n",
       "      <th id=\"T_4e8d8_level0_row3\" class=\"row_heading level0 row3\" >brandenburg</th>\n",
       "      <td id=\"T_4e8d8_row3_col0\" class=\"data row3 col0\" >208</td>\n",
       "      <td id=\"T_4e8d8_row3_col1\" class=\"data row3 col1\" >0.629952</td>\n",
       "      <td id=\"T_4e8d8_row3_col2\" class=\"data row3 col2\" >0.519462</td>\n",
       "      <td id=\"T_4e8d8_row3_col3\" class=\"data row3 col3\" >0.605935</td>\n",
       "      <td id=\"T_4e8d8_row3_col4\" class=\"data row3 col4\" >0.648930</td>\n",
       "      <td id=\"T_4e8d8_row3_col5\" class=\"data row3 col5\" >0.524569</td>\n",
       "      <td id=\"T_4e8d8_row3_col6\" class=\"data row3 col6\" >0.673292</td>\n",
       "      <td id=\"T_4e8d8_row3_col7\" class=\"data row3 col7\" >0.706970</td>\n",
       "    </tr>\n",
       "    <tr>\n",
       "      <th id=\"T_4e8d8_level0_row4\" class=\"row_heading level0 row4\" >bremen</th>\n",
       "      <td id=\"T_4e8d8_row4_col0\" class=\"data row4 col0\" >373</td>\n",
       "      <td id=\"T_4e8d8_row4_col1\" class=\"data row4 col1\" >0.705226</td>\n",
       "      <td id=\"T_4e8d8_row4_col2\" class=\"data row4 col2\" >0.689032</td>\n",
       "      <td id=\"T_4e8d8_row4_col3\" class=\"data row4 col3\" >0.707892</td>\n",
       "      <td id=\"T_4e8d8_row4_col4\" class=\"data row4 col4\" >0.688925</td>\n",
       "      <td id=\"T_4e8d8_row4_col5\" class=\"data row4 col5\" >0.731914</td>\n",
       "      <td id=\"T_4e8d8_row4_col6\" class=\"data row4 col6\" >0.718624</td>\n",
       "      <td id=\"T_4e8d8_row4_col7\" class=\"data row4 col7\" >0.716000</td>\n",
       "    </tr>\n",
       "    <tr>\n",
       "      <th id=\"T_4e8d8_level0_row5\" class=\"row_heading level0 row5\" >hamburg</th>\n",
       "      <td id=\"T_4e8d8_row5_col0\" class=\"data row5 col0\" >267</td>\n",
       "      <td id=\"T_4e8d8_row5_col1\" class=\"data row5 col1\" >0.722846</td>\n",
       "      <td id=\"T_4e8d8_row5_col2\" class=\"data row5 col2\" >0.685393</td>\n",
       "      <td id=\"T_4e8d8_row5_col3\" class=\"data row5 col3\" >0.681648</td>\n",
       "      <td id=\"T_4e8d8_row5_col4\" class=\"data row5 col4\" >0.704120</td>\n",
       "      <td id=\"T_4e8d8_row5_col5\" class=\"data row5 col5\" >0.655431</td>\n",
       "      <td id=\"T_4e8d8_row5_col6\" class=\"data row5 col6\" >0.640449</td>\n",
       "      <td id=\"T_4e8d8_row5_col7\" class=\"data row5 col7\" >0.797753</td>\n",
       "    </tr>\n",
       "    <tr>\n",
       "      <th id=\"T_4e8d8_level0_row6\" class=\"row_heading level0 row6\" >hessen</th>\n",
       "      <td id=\"T_4e8d8_row6_col0\" class=\"data row6 col0\" >476</td>\n",
       "      <td id=\"T_4e8d8_row6_col1\" class=\"data row6 col1\" >0.670170</td>\n",
       "      <td id=\"T_4e8d8_row6_col2\" class=\"data row6 col2\" >0.640740</td>\n",
       "      <td id=\"T_4e8d8_row6_col3\" class=\"data row6 col3\" >0.668100</td>\n",
       "      <td id=\"T_4e8d8_row6_col4\" class=\"data row6 col4\" >0.653478</td>\n",
       "      <td id=\"T_4e8d8_row6_col5\" class=\"data row6 col5\" >0.703819</td>\n",
       "      <td id=\"T_4e8d8_row6_col6\" class=\"data row6 col6\" >0.682841</td>\n",
       "      <td id=\"T_4e8d8_row6_col7\" class=\"data row6 col7\" >0.716477</td>\n",
       "    </tr>\n",
       "    <tr>\n",
       "      <th id=\"T_4e8d8_level0_row7\" class=\"row_heading level0 row7\" >mecklenburg-vorpommern</th>\n",
       "      <td id=\"T_4e8d8_row7_col0\" class=\"data row7 col0\" >375</td>\n",
       "      <td id=\"T_4e8d8_row7_col1\" class=\"data row7 col1\" >0.528000</td>\n",
       "      <td id=\"T_4e8d8_row7_col2\" class=\"data row7 col2\" >0.552000</td>\n",
       "      <td id=\"T_4e8d8_row7_col3\" class=\"data row7 col3\" >0.525333</td>\n",
       "      <td id=\"T_4e8d8_row7_col4\" class=\"data row7 col4\" >0.626667</td>\n",
       "      <td id=\"T_4e8d8_row7_col5\" class=\"data row7 col5\" >0.536000</td>\n",
       "      <td id=\"T_4e8d8_row7_col6\" class=\"data row7 col6\" >0.648000</td>\n",
       "      <td id=\"T_4e8d8_row7_col7\" class=\"data row7 col7\" >0.629333</td>\n",
       "    </tr>\n",
       "    <tr>\n",
       "      <th id=\"T_4e8d8_level0_row8\" class=\"row_heading level0 row8\" >nordrhein-westfalen</th>\n",
       "      <td id=\"T_4e8d8_row8_col0\" class=\"data row8 col0\" >403</td>\n",
       "      <td id=\"T_4e8d8_row8_col1\" class=\"data row8 col1\" >0.595522</td>\n",
       "      <td id=\"T_4e8d8_row8_col2\" class=\"data row8 col2\" >0.598102</td>\n",
       "      <td id=\"T_4e8d8_row8_col3\" class=\"data row8 col3\" >0.625189</td>\n",
       "      <td id=\"T_4e8d8_row8_col4\" class=\"data row8 col4\" >0.650028</td>\n",
       "      <td id=\"T_4e8d8_row8_col5\" class=\"data row8 col5\" >0.570831</td>\n",
       "      <td id=\"T_4e8d8_row8_col6\" class=\"data row8 col6\" >0.595522</td>\n",
       "      <td id=\"T_4e8d8_row8_col7\" class=\"data row8 col7\" >0.689773</td>\n",
       "    </tr>\n",
       "    <tr>\n",
       "      <th id=\"T_4e8d8_level0_row9\" class=\"row_heading level0 row9\" >saarland</th>\n",
       "      <td id=\"T_4e8d8_row9_col0\" class=\"data row9 col0\" >391</td>\n",
       "      <td id=\"T_4e8d8_row9_col1\" class=\"data row9 col1\" >0.624153</td>\n",
       "      <td id=\"T_4e8d8_row9_col2\" class=\"data row9 col2\" >0.608808</td>\n",
       "      <td id=\"T_4e8d8_row9_col3\" class=\"data row9 col3\" >0.629262</td>\n",
       "      <td id=\"T_4e8d8_row9_col4\" class=\"data row9 col4\" >0.631709</td>\n",
       "      <td id=\"T_4e8d8_row9_col5\" class=\"data row9 col5\" >0.542259</td>\n",
       "      <td id=\"T_4e8d8_row9_col6\" class=\"data row9 col6\" >0.670053</td>\n",
       "      <td id=\"T_4e8d8_row9_col7\" class=\"data row9 col7\" >0.713486</td>\n",
       "    </tr>\n",
       "    <tr>\n",
       "      <th id=\"T_4e8d8_level0_row10\" class=\"row_heading level0 row10\" >sachsen</th>\n",
       "      <td id=\"T_4e8d8_row10_col0\" class=\"data row10 col0\" >363</td>\n",
       "      <td id=\"T_4e8d8_row10_col1\" class=\"data row10 col1\" >0.592287</td>\n",
       "      <td id=\"T_4e8d8_row10_col2\" class=\"data row10 col2\" >0.553719</td>\n",
       "      <td id=\"T_4e8d8_row10_col3\" class=\"data row10 col3\" >0.578512</td>\n",
       "      <td id=\"T_4e8d8_row10_col4\" class=\"data row10 col4\" >0.650138</td>\n",
       "      <td id=\"T_4e8d8_row10_col5\" class=\"data row10 col5\" >0.617080</td>\n",
       "      <td id=\"T_4e8d8_row10_col6\" class=\"data row10 col6\" >0.606061</td>\n",
       "      <td id=\"T_4e8d8_row10_col7\" class=\"data row10 col7\" >0.644628</td>\n",
       "    </tr>\n",
       "    <tr>\n",
       "      <th id=\"T_4e8d8_level0_row11\" class=\"row_heading level0 row11\" >sachsen-anhalt</th>\n",
       "      <td id=\"T_4e8d8_row11_col0\" class=\"data row11 col0\" >328</td>\n",
       "      <td id=\"T_4e8d8_row11_col1\" class=\"data row11 col1\" >0.628107</td>\n",
       "      <td id=\"T_4e8d8_row11_col2\" class=\"data row11 col2\" >0.619155</td>\n",
       "      <td id=\"T_4e8d8_row11_col3\" class=\"data row11 col3\" >0.579233</td>\n",
       "      <td id=\"T_4e8d8_row11_col4\" class=\"data row11 col4\" >0.649374</td>\n",
       "      <td id=\"T_4e8d8_row11_col5\" class=\"data row11 col5\" >0.557965</td>\n",
       "      <td id=\"T_4e8d8_row11_col6\" class=\"data row11 col6\" >0.652433</td>\n",
       "      <td id=\"T_4e8d8_row11_col7\" class=\"data row11 col7\" >0.673756</td>\n",
       "    </tr>\n",
       "    <tr>\n",
       "      <th id=\"T_4e8d8_level0_row12\" class=\"row_heading level0 row12\" >schleswig-holstein</th>\n",
       "      <td id=\"T_4e8d8_row12_col0\" class=\"data row12 col0\" >212</td>\n",
       "      <td id=\"T_4e8d8_row12_col1\" class=\"data row12 col1\" >0.514554</td>\n",
       "      <td id=\"T_4e8d8_row12_col2\" class=\"data row12 col2\" >0.505164</td>\n",
       "      <td id=\"T_4e8d8_row12_col3\" class=\"data row12 col3\" >0.472032</td>\n",
       "      <td id=\"T_4e8d8_row12_col4\" class=\"data row12 col4\" >0.552113</td>\n",
       "      <td id=\"T_4e8d8_row12_col5\" class=\"data row12 col5\" >0.547284</td>\n",
       "      <td id=\"T_4e8d8_row12_col6\" class=\"data row12 col6\" >0.571294</td>\n",
       "      <td id=\"T_4e8d8_row12_col7\" class=\"data row12 col7\" >0.561368</td>\n",
       "    </tr>\n",
       "    <tr>\n",
       "      <th id=\"T_4e8d8_level0_row13\" class=\"row_heading level0 row13\" >thueringen</th>\n",
       "      <td id=\"T_4e8d8_row13_col0\" class=\"data row13 col0\" >386</td>\n",
       "      <td id=\"T_4e8d8_row13_col1\" class=\"data row13 col1\" >0.673631</td>\n",
       "      <td id=\"T_4e8d8_row13_col2\" class=\"data row13 col2\" >0.645127</td>\n",
       "      <td id=\"T_4e8d8_row13_col3\" class=\"data row13 col3\" >0.663275</td>\n",
       "      <td id=\"T_4e8d8_row13_col4\" class=\"data row13 col4\" >0.670886</td>\n",
       "      <td id=\"T_4e8d8_row13_col5\" class=\"data row13 col5\" >0.673732</td>\n",
       "      <td id=\"T_4e8d8_row13_col6\" class=\"data row13 col6\" >0.696867</td>\n",
       "      <td id=\"T_4e8d8_row13_col7\" class=\"data row13 col7\" >0.681302</td>\n",
       "    </tr>\n",
       "    <tr>\n",
       "      <th id=\"T_4e8d8_level0_row14\" class=\"row_heading level0 row14\" >niedersachsen</th>\n",
       "      <td id=\"T_4e8d8_row14_col0\" class=\"data row14 col0\" >266</td>\n",
       "      <td id=\"T_4e8d8_row14_col1\" class=\"data row14 col1\" >0.609210</td>\n",
       "      <td id=\"T_4e8d8_row14_col2\" class=\"data row14 col2\" >0.590441</td>\n",
       "      <td id=\"T_4e8d8_row14_col3\" class=\"data row14 col3\" >0.507916</td>\n",
       "      <td id=\"T_4e8d8_row14_col4\" class=\"data row14 col4\" >0.552860</td>\n",
       "      <td id=\"T_4e8d8_row14_col5\" class=\"data row14 col5\" >0.635215</td>\n",
       "      <td id=\"T_4e8d8_row14_col6\" class=\"data row14 col6\" >0.605507</td>\n",
       "      <td id=\"T_4e8d8_row14_col7\" class=\"data row14 col7\" >0.733018</td>\n",
       "    </tr>\n",
       "    <tr>\n",
       "      <th id=\"T_4e8d8_level0_row15\" class=\"row_heading level0 row15\" >rheinland-pfalz</th>\n",
       "      <td id=\"T_4e8d8_row15_col0\" class=\"data row15 col0\" >412</td>\n",
       "      <td id=\"T_4e8d8_row15_col1\" class=\"data row15 col1\" >0.667531</td>\n",
       "      <td id=\"T_4e8d8_row15_col2\" class=\"data row15 col2\" >0.657851</td>\n",
       "      <td id=\"T_4e8d8_row15_col3\" class=\"data row15 col3\" >0.669964</td>\n",
       "      <td id=\"T_4e8d8_row15_col4\" class=\"data row15 col4\" >0.640908</td>\n",
       "      <td id=\"T_4e8d8_row15_col5\" class=\"data row15 col5\" >0.689376</td>\n",
       "      <td id=\"T_4e8d8_row15_col6\" class=\"data row15 col6\" >0.640908</td>\n",
       "      <td id=\"T_4e8d8_row15_col7\" class=\"data row15 col7\" >0.662788</td>\n",
       "    </tr>\n",
       "  </tbody>\n",
       "</table>\n"
      ],
      "text/plain": [
       "<pandas.io.formats.style.Styler at 0x7f7502a9a950>"
      ]
     },
     "execution_count": 217,
     "metadata": {},
     "output_type": "execute_result"
    }
   ],
   "source": [
    "two_level_model_results.\\\n",
    "    style.highlight_max(color='lightgreen').highlight_min(color='red')"
   ]
  },
  {
   "cell_type": "code",
   "execution_count": 221,
   "id": "6da9f1f4",
   "metadata": {},
   "outputs": [
    {
     "data": {
      "text/html": [
       "<style type=\"text/css\">\n",
       "#T_74b49_row0_col1, #T_74b49_row0_col5, #T_74b49_row0_col8, #T_74b49_row0_col10, #T_74b49_row1_col0, #T_74b49_row1_col4, #T_74b49_row1_col6, #T_74b49_row1_col14, #T_74b49_row1_col15, #T_74b49_row2_col2, #T_74b49_row2_col3, #T_74b49_row2_col7, #T_74b49_row2_col9, #T_74b49_row2_col11, #T_74b49_row2_col12, #T_74b49_row2_col13 {\n",
       "  background-color: lightgreen;\n",
       "}\n",
       "#T_74b49_row0_col2, #T_74b49_row0_col4, #T_74b49_row0_col6, #T_74b49_row0_col13, #T_74b49_row0_col14, #T_74b49_row1_col1, #T_74b49_row1_col3, #T_74b49_row1_col7, #T_74b49_row1_col8, #T_74b49_row1_col9, #T_74b49_row1_col11, #T_74b49_row1_col12, #T_74b49_row2_col0, #T_74b49_row2_col5, #T_74b49_row2_col10, #T_74b49_row2_col15 {\n",
       "  background-color: red;\n",
       "}\n",
       "</style>\n",
       "<table id=\"T_74b49_\">\n",
       "  <thead>\n",
       "    <tr>\n",
       "      <th class=\"index_name level0\" >land</th>\n",
       "      <th class=\"col_heading level0 col0\" >baden-wuerttemberg</th>\n",
       "      <th class=\"col_heading level0 col1\" >bayern</th>\n",
       "      <th class=\"col_heading level0 col2\" >berlin</th>\n",
       "      <th class=\"col_heading level0 col3\" >brandenburg</th>\n",
       "      <th class=\"col_heading level0 col4\" >bremen</th>\n",
       "      <th class=\"col_heading level0 col5\" >hamburg</th>\n",
       "      <th class=\"col_heading level0 col6\" >hessen</th>\n",
       "      <th class=\"col_heading level0 col7\" >mecklenburg-vorpommern</th>\n",
       "      <th class=\"col_heading level0 col8\" >nordrhein-westfalen</th>\n",
       "      <th class=\"col_heading level0 col9\" >saarland</th>\n",
       "      <th class=\"col_heading level0 col10\" >sachsen</th>\n",
       "      <th class=\"col_heading level0 col11\" >sachsen-anhalt</th>\n",
       "      <th class=\"col_heading level0 col12\" >schleswig-holstein</th>\n",
       "      <th class=\"col_heading level0 col13\" >thueringen</th>\n",
       "      <th class=\"col_heading level0 col14\" >niedersachsen</th>\n",
       "      <th class=\"col_heading level0 col15\" >rheinland-pfalz</th>\n",
       "    </tr>\n",
       "  </thead>\n",
       "  <tbody>\n",
       "    <tr>\n",
       "      <th id=\"T_74b49_level0_row0\" class=\"row_heading level0 row0\" >wikifier: accuracy w/ domain filtering</th>\n",
       "      <td id=\"T_74b49_row0_col0\" class=\"data row0 col0\" >0.665534</td>\n",
       "      <td id=\"T_74b49_row0_col1\" class=\"data row0 col1\" >0.665082</td>\n",
       "      <td id=\"T_74b49_row0_col2\" class=\"data row0 col2\" >0.691057</td>\n",
       "      <td id=\"T_74b49_row0_col3\" class=\"data row0 col3\" >0.648930</td>\n",
       "      <td id=\"T_74b49_row0_col4\" class=\"data row0 col4\" >0.688925</td>\n",
       "      <td id=\"T_74b49_row0_col5\" class=\"data row0 col5\" >0.704120</td>\n",
       "      <td id=\"T_74b49_row0_col6\" class=\"data row0 col6\" >0.653478</td>\n",
       "      <td id=\"T_74b49_row0_col7\" class=\"data row0 col7\" >0.626667</td>\n",
       "      <td id=\"T_74b49_row0_col8\" class=\"data row0 col8\" >0.650028</td>\n",
       "      <td id=\"T_74b49_row0_col9\" class=\"data row0 col9\" >0.631709</td>\n",
       "      <td id=\"T_74b49_row0_col10\" class=\"data row0 col10\" >0.650138</td>\n",
       "      <td id=\"T_74b49_row0_col11\" class=\"data row0 col11\" >0.649374</td>\n",
       "      <td id=\"T_74b49_row0_col12\" class=\"data row0 col12\" >0.552113</td>\n",
       "      <td id=\"T_74b49_row0_col13\" class=\"data row0 col13\" >0.670886</td>\n",
       "      <td id=\"T_74b49_row0_col14\" class=\"data row0 col14\" >0.552860</td>\n",
       "      <td id=\"T_74b49_row0_col15\" class=\"data row0 col15\" >0.640908</td>\n",
       "    </tr>\n",
       "    <tr>\n",
       "      <th id=\"T_74b49_level0_row1\" class=\"row_heading level0 row1\" >wikifier: accuracy w/ domain + score filtering</th>\n",
       "      <td id=\"T_74b49_row1_col0\" class=\"data row1 col0\" >0.679605</td>\n",
       "      <td id=\"T_74b49_row1_col1\" class=\"data row1 col1\" >0.608034</td>\n",
       "      <td id=\"T_74b49_row1_col2\" class=\"data row1 col2\" >0.699187</td>\n",
       "      <td id=\"T_74b49_row1_col3\" class=\"data row1 col3\" >0.524569</td>\n",
       "      <td id=\"T_74b49_row1_col4\" class=\"data row1 col4\" >0.731914</td>\n",
       "      <td id=\"T_74b49_row1_col5\" class=\"data row1 col5\" >0.655431</td>\n",
       "      <td id=\"T_74b49_row1_col6\" class=\"data row1 col6\" >0.703819</td>\n",
       "      <td id=\"T_74b49_row1_col7\" class=\"data row1 col7\" >0.536000</td>\n",
       "      <td id=\"T_74b49_row1_col8\" class=\"data row1 col8\" >0.570831</td>\n",
       "      <td id=\"T_74b49_row1_col9\" class=\"data row1 col9\" >0.542259</td>\n",
       "      <td id=\"T_74b49_row1_col10\" class=\"data row1 col10\" >0.617080</td>\n",
       "      <td id=\"T_74b49_row1_col11\" class=\"data row1 col11\" >0.557965</td>\n",
       "      <td id=\"T_74b49_row1_col12\" class=\"data row1 col12\" >0.547284</td>\n",
       "      <td id=\"T_74b49_row1_col13\" class=\"data row1 col13\" >0.673732</td>\n",
       "      <td id=\"T_74b49_row1_col14\" class=\"data row1 col14\" >0.635215</td>\n",
       "      <td id=\"T_74b49_row1_col15\" class=\"data row1 col15\" >0.689376</td>\n",
       "    </tr>\n",
       "    <tr>\n",
       "      <th id=\"T_74b49_level0_row2\" class=\"row_heading level0 row2\" >wikifier: accuracy w/ no filtering</th>\n",
       "      <td id=\"T_74b49_row2_col0\" class=\"data row2 col0\" >0.658553</td>\n",
       "      <td id=\"T_74b49_row2_col1\" class=\"data row2 col1\" >0.660088</td>\n",
       "      <td id=\"T_74b49_row2_col2\" class=\"data row2 col2\" >0.747967</td>\n",
       "      <td id=\"T_74b49_row2_col3\" class=\"data row2 col3\" >0.673292</td>\n",
       "      <td id=\"T_74b49_row2_col4\" class=\"data row2 col4\" >0.718624</td>\n",
       "      <td id=\"T_74b49_row2_col5\" class=\"data row2 col5\" >0.640449</td>\n",
       "      <td id=\"T_74b49_row2_col6\" class=\"data row2 col6\" >0.682841</td>\n",
       "      <td id=\"T_74b49_row2_col7\" class=\"data row2 col7\" >0.648000</td>\n",
       "      <td id=\"T_74b49_row2_col8\" class=\"data row2 col8\" >0.595522</td>\n",
       "      <td id=\"T_74b49_row2_col9\" class=\"data row2 col9\" >0.670053</td>\n",
       "      <td id=\"T_74b49_row2_col10\" class=\"data row2 col10\" >0.606061</td>\n",
       "      <td id=\"T_74b49_row2_col11\" class=\"data row2 col11\" >0.652433</td>\n",
       "      <td id=\"T_74b49_row2_col12\" class=\"data row2 col12\" >0.571294</td>\n",
       "      <td id=\"T_74b49_row2_col13\" class=\"data row2 col13\" >0.696867</td>\n",
       "      <td id=\"T_74b49_row2_col14\" class=\"data row2 col14\" >0.605507</td>\n",
       "      <td id=\"T_74b49_row2_col15\" class=\"data row2 col15\" >0.640908</td>\n",
       "    </tr>\n",
       "  </tbody>\n",
       "</table>\n"
      ],
      "text/plain": [
       "<pandas.io.formats.style.Styler at 0x7f750c977e50>"
      ]
     },
     "execution_count": 221,
     "metadata": {},
     "output_type": "execute_result"
    }
   ],
   "source": [
    "two_level_model_results.drop(columns=[\n",
    "    'total',\n",
    "    'babel: accuracy w/ domain filtering', \n",
    "    'babel: accuracy w/ domain + score filtering',\n",
    "    'babel: accuracy w/ no filtering',\n",
    "    'document vectors'\n",
    "]).transpose().\\\n",
    "    style.highlight_max(color='lightgreen').highlight_min(color='red')"
   ]
  },
  {
   "cell_type": "code",
   "execution_count": 222,
   "id": "2396625b",
   "metadata": {},
   "outputs": [
    {
     "data": {
      "text/html": [
       "<style type=\"text/css\">\n",
       "#T_ca7da_row0_col1, #T_ca7da_row0_col2, #T_ca7da_row0_col3, #T_ca7da_row0_col5, #T_ca7da_row0_col6, #T_ca7da_row0_col10, #T_ca7da_row0_col11, #T_ca7da_row0_col12, #T_ca7da_row0_col13, #T_ca7da_row0_col14, #T_ca7da_row1_col7, #T_ca7da_row2_col0, #T_ca7da_row2_col2, #T_ca7da_row2_col4, #T_ca7da_row2_col8, #T_ca7da_row2_col9, #T_ca7da_row2_col15 {\n",
       "  background-color: lightgreen;\n",
       "}\n",
       "#T_ca7da_row0_col8, #T_ca7da_row1_col0, #T_ca7da_row1_col2, #T_ca7da_row1_col3, #T_ca7da_row1_col4, #T_ca7da_row1_col6, #T_ca7da_row1_col9, #T_ca7da_row1_col10, #T_ca7da_row1_col13, #T_ca7da_row1_col15, #T_ca7da_row2_col1, #T_ca7da_row2_col5, #T_ca7da_row2_col7, #T_ca7da_row2_col11, #T_ca7da_row2_col12, #T_ca7da_row2_col14 {\n",
       "  background-color: red;\n",
       "}\n",
       "</style>\n",
       "<table id=\"T_ca7da_\">\n",
       "  <thead>\n",
       "    <tr>\n",
       "      <th class=\"index_name level0\" >land</th>\n",
       "      <th class=\"col_heading level0 col0\" >baden-wuerttemberg</th>\n",
       "      <th class=\"col_heading level0 col1\" >bayern</th>\n",
       "      <th class=\"col_heading level0 col2\" >berlin</th>\n",
       "      <th class=\"col_heading level0 col3\" >brandenburg</th>\n",
       "      <th class=\"col_heading level0 col4\" >bremen</th>\n",
       "      <th class=\"col_heading level0 col5\" >hamburg</th>\n",
       "      <th class=\"col_heading level0 col6\" >hessen</th>\n",
       "      <th class=\"col_heading level0 col7\" >mecklenburg-vorpommern</th>\n",
       "      <th class=\"col_heading level0 col8\" >nordrhein-westfalen</th>\n",
       "      <th class=\"col_heading level0 col9\" >saarland</th>\n",
       "      <th class=\"col_heading level0 col10\" >sachsen</th>\n",
       "      <th class=\"col_heading level0 col11\" >sachsen-anhalt</th>\n",
       "      <th class=\"col_heading level0 col12\" >schleswig-holstein</th>\n",
       "      <th class=\"col_heading level0 col13\" >thueringen</th>\n",
       "      <th class=\"col_heading level0 col14\" >niedersachsen</th>\n",
       "      <th class=\"col_heading level0 col15\" >rheinland-pfalz</th>\n",
       "    </tr>\n",
       "  </thead>\n",
       "  <tbody>\n",
       "    <tr>\n",
       "      <th id=\"T_ca7da_level0_row0\" class=\"row_heading level0 row0\" >babel: accuracy w/ domain filtering</th>\n",
       "      <td id=\"T_ca7da_row0_col0\" class=\"data row0 col0\" >0.679203</td>\n",
       "      <td id=\"T_ca7da_row0_col1\" class=\"data row0 col1\" >0.694877</td>\n",
       "      <td id=\"T_ca7da_row0_col2\" class=\"data row0 col2\" >0.650407</td>\n",
       "      <td id=\"T_ca7da_row0_col3\" class=\"data row0 col3\" >0.629952</td>\n",
       "      <td id=\"T_ca7da_row0_col4\" class=\"data row0 col4\" >0.705226</td>\n",
       "      <td id=\"T_ca7da_row0_col5\" class=\"data row0 col5\" >0.722846</td>\n",
       "      <td id=\"T_ca7da_row0_col6\" class=\"data row0 col6\" >0.670170</td>\n",
       "      <td id=\"T_ca7da_row0_col7\" class=\"data row0 col7\" >0.528000</td>\n",
       "      <td id=\"T_ca7da_row0_col8\" class=\"data row0 col8\" >0.595522</td>\n",
       "      <td id=\"T_ca7da_row0_col9\" class=\"data row0 col9\" >0.624153</td>\n",
       "      <td id=\"T_ca7da_row0_col10\" class=\"data row0 col10\" >0.592287</td>\n",
       "      <td id=\"T_ca7da_row0_col11\" class=\"data row0 col11\" >0.628107</td>\n",
       "      <td id=\"T_ca7da_row0_col12\" class=\"data row0 col12\" >0.514554</td>\n",
       "      <td id=\"T_ca7da_row0_col13\" class=\"data row0 col13\" >0.673631</td>\n",
       "      <td id=\"T_ca7da_row0_col14\" class=\"data row0 col14\" >0.609210</td>\n",
       "      <td id=\"T_ca7da_row0_col15\" class=\"data row0 col15\" >0.667531</td>\n",
       "    </tr>\n",
       "    <tr>\n",
       "      <th id=\"T_ca7da_level0_row1\" class=\"row_heading level0 row1\" >babel: accuracy w/ domain + score filtering</th>\n",
       "      <td id=\"T_ca7da_row1_col0\" class=\"data row1 col0\" >0.658406</td>\n",
       "      <td id=\"T_ca7da_row1_col1\" class=\"data row1 col1\" >0.680007</td>\n",
       "      <td id=\"T_ca7da_row1_col2\" class=\"data row1 col2\" >0.621951</td>\n",
       "      <td id=\"T_ca7da_row1_col3\" class=\"data row1 col3\" >0.519462</td>\n",
       "      <td id=\"T_ca7da_row1_col4\" class=\"data row1 col4\" >0.689032</td>\n",
       "      <td id=\"T_ca7da_row1_col5\" class=\"data row1 col5\" >0.685393</td>\n",
       "      <td id=\"T_ca7da_row1_col6\" class=\"data row1 col6\" >0.640740</td>\n",
       "      <td id=\"T_ca7da_row1_col7\" class=\"data row1 col7\" >0.552000</td>\n",
       "      <td id=\"T_ca7da_row1_col8\" class=\"data row1 col8\" >0.598102</td>\n",
       "      <td id=\"T_ca7da_row1_col9\" class=\"data row1 col9\" >0.608808</td>\n",
       "      <td id=\"T_ca7da_row1_col10\" class=\"data row1 col10\" >0.553719</td>\n",
       "      <td id=\"T_ca7da_row1_col11\" class=\"data row1 col11\" >0.619155</td>\n",
       "      <td id=\"T_ca7da_row1_col12\" class=\"data row1 col12\" >0.505164</td>\n",
       "      <td id=\"T_ca7da_row1_col13\" class=\"data row1 col13\" >0.645127</td>\n",
       "      <td id=\"T_ca7da_row1_col14\" class=\"data row1 col14\" >0.590441</td>\n",
       "      <td id=\"T_ca7da_row1_col15\" class=\"data row1 col15\" >0.657851</td>\n",
       "    </tr>\n",
       "    <tr>\n",
       "      <th id=\"T_ca7da_level0_row2\" class=\"row_heading level0 row2\" >babel: accuracy w/ no filtering</th>\n",
       "      <td id=\"T_ca7da_row2_col0\" class=\"data row2 col0\" >0.696637</td>\n",
       "      <td id=\"T_ca7da_row2_col1\" class=\"data row2 col1\" >0.669965</td>\n",
       "      <td id=\"T_ca7da_row2_col2\" class=\"data row2 col2\" >0.650407</td>\n",
       "      <td id=\"T_ca7da_row2_col3\" class=\"data row2 col3\" >0.605935</td>\n",
       "      <td id=\"T_ca7da_row2_col4\" class=\"data row2 col4\" >0.707892</td>\n",
       "      <td id=\"T_ca7da_row2_col5\" class=\"data row2 col5\" >0.681648</td>\n",
       "      <td id=\"T_ca7da_row2_col6\" class=\"data row2 col6\" >0.668100</td>\n",
       "      <td id=\"T_ca7da_row2_col7\" class=\"data row2 col7\" >0.525333</td>\n",
       "      <td id=\"T_ca7da_row2_col8\" class=\"data row2 col8\" >0.625189</td>\n",
       "      <td id=\"T_ca7da_row2_col9\" class=\"data row2 col9\" >0.629262</td>\n",
       "      <td id=\"T_ca7da_row2_col10\" class=\"data row2 col10\" >0.578512</td>\n",
       "      <td id=\"T_ca7da_row2_col11\" class=\"data row2 col11\" >0.579233</td>\n",
       "      <td id=\"T_ca7da_row2_col12\" class=\"data row2 col12\" >0.472032</td>\n",
       "      <td id=\"T_ca7da_row2_col13\" class=\"data row2 col13\" >0.663275</td>\n",
       "      <td id=\"T_ca7da_row2_col14\" class=\"data row2 col14\" >0.507916</td>\n",
       "      <td id=\"T_ca7da_row2_col15\" class=\"data row2 col15\" >0.669964</td>\n",
       "    </tr>\n",
       "  </tbody>\n",
       "</table>\n"
      ],
      "text/plain": [
       "<pandas.io.formats.style.Styler at 0x7f759e8ca450>"
      ]
     },
     "execution_count": 222,
     "metadata": {},
     "output_type": "execute_result"
    }
   ],
   "source": [
    "two_level_model_results.drop(columns=[\n",
    "    'total',\n",
    "    'wikifier: accuracy w/ domain filtering', \n",
    "    'wikifier: accuracy w/ domain + score filtering',\n",
    "    'wikifier: accuracy w/ no filtering', \n",
    "    'document vectors'\n",
    "]).transpose().\\\n",
    "    style.highlight_max(color='lightgreen').highlight_min(color='red')"
   ]
  },
  {
   "cell_type": "code",
   "execution_count": 223,
   "id": "ffa23452",
   "metadata": {},
   "outputs": [
    {
     "data": {
      "text/plain": [
       "babel: accuracy w/ domain filtering               0.636605\n",
       "babel: accuracy w/ domain + score filtering       0.614085\n",
       "babel: accuracy w/ no filtering                   0.620706\n",
       "wikifier: accuracy w/ domain filtering            0.646363\n",
       "wikifier: accuracy w/ domain + score filtering    0.623269\n",
       "wikifier: accuracy w/ no filtering                0.654279\n",
       "document vectors                                  0.693968\n",
       "dtype: float64"
      ]
     },
     "execution_count": 223,
     "metadata": {},
     "output_type": "execute_result"
    }
   ],
   "source": [
    "two_level_model_results.drop(columns='total').transpose().mean(axis=1)"
   ]
  },
  {
   "cell_type": "code",
   "execution_count": null,
   "id": "438cb5e4",
   "metadata": {},
   "outputs": [],
   "source": []
  },
  {
   "cell_type": "code",
   "execution_count": 88,
   "id": "45bb9875",
   "metadata": {},
   "outputs": [
    {
     "data": {
      "text/plain": [
       "0.6210403977768351"
      ]
     },
     "execution_count": 88,
     "metadata": {},
     "output_type": "execute_result"
    }
   ],
   "source": [
    "two_level_model_results.accuracy.mean()"
   ]
  },
  {
   "cell_type": "code",
   "execution_count": null,
   "id": "09a6329d",
   "metadata": {},
   "outputs": [],
   "source": [
    "two_level_model_results = pd.DataFrame(\n",
    "    [(l, \n",
    "      np.sum(results[l][0]['confusion_matrix']) ,\n",
    "      results[l][0]['accuracy']\n",
    "     ) for l in results], \n",
    "    columns=['land', 'total', 'accuracy']).set_index('land')"
   ]
  },
  {
   "cell_type": "code",
   "execution_count": 109,
   "id": "63a5bb04",
   "metadata": {},
   "outputs": [],
   "source": [
    "with open('../data/cache/categories_sorted_by_resource_freq.pkl', 'rb') as f:\n",
    "    cat_r_freq = pickle.load(f)"
   ]
  },
  {
   "cell_type": "code",
   "execution_count": null,
   "id": "515f0faf",
   "metadata": {},
   "outputs": [],
   "source": []
  },
  {
   "cell_type": "code",
   "execution_count": null,
   "id": "1a3b135c",
   "metadata": {},
   "outputs": [],
   "source": []
  },
  {
   "cell_type": "code",
   "execution_count": 101,
   "id": "b0855e5d",
   "metadata": {},
   "outputs": [
    {
     "data": {
      "text/plain": [
       "Index(['http://dbpedia.org/resource/Cloud',\n",
       "       'http://dbpedia.org/resource/Bottle',\n",
       "       'http://dbpedia.org/resource/Dust',\n",
       "       'http://dbpedia.org/resource/Vitreous_humour',\n",
       "       'http://dbpedia.org/resource/Constantan',\n",
       "       'http://dbpedia.org/resource/Viscose',\n",
       "       'http://dbpedia.org/resource/Sled',\n",
       "       'http://dbpedia.org/resource/Dry_cleaning',\n",
       "       'http://dbpedia.org/resource/Synovial_fluid',\n",
       "       'http://dbpedia.org/resource/Rainwater_tank',\n",
       "       'http://dbpedia.org/resource/Mineral_dust',\n",
       "       'http://dbpedia.org/resource/Brush',\n",
       "       'http://dbpedia.org/resource/Phosphoric_acid',\n",
       "       'http://dbpedia.org/resource/Ice_cube'],\n",
       "      dtype='object')"
      ]
     },
     "execution_count": 101,
     "metadata": {},
     "output_type": "execute_result"
    }
   ],
   "source": [
    "entities.index[[\n",
    "    (('http://dbpedia.org/resource/Category:Physical_chemistry' in c) and\n",
    "     (not is_accepted_topics(c))\n",
    "    ) for c in categories_ordered]]"
   ]
  },
  {
   "cell_type": "code",
   "execution_count": 97,
   "id": "a128e0b1",
   "metadata": {},
   "outputs": [
    {
     "data": {
      "text/plain": [
       "3280"
      ]
     },
     "execution_count": 97,
     "metadata": {},
     "output_type": "execute_result"
    }
   ],
   "source": [
    "entities.shape[0]"
   ]
  },
  {
   "cell_type": "code",
   "execution_count": 98,
   "id": "3d70c693",
   "metadata": {},
   "outputs": [
    {
     "data": {
      "text/plain": [
       "1773"
      ]
     },
     "execution_count": 98,
     "metadata": {},
     "output_type": "execute_result"
    }
   ],
   "source": [
    "len([c for c in categories if is_accepted_topics(c)])"
   ]
  },
  {
   "cell_type": "code",
   "execution_count": null,
   "id": "efacf310",
   "metadata": {},
   "outputs": [],
   "source": []
  },
  {
   "cell_type": "code",
   "execution_count": null,
   "id": "2e0a42cd",
   "metadata": {},
   "outputs": [],
   "source": []
  }
 ],
 "metadata": {
  "kernelspec": {
   "display_name": "Python 3 (ipykernel)",
   "language": "python",
   "name": "python3"
  },
  "language_info": {
   "codemirror_mode": {
    "name": "ipython",
    "version": 3
   },
   "file_extension": ".py",
   "mimetype": "text/x-python",
   "name": "python",
   "nbconvert_exporter": "python",
   "pygments_lexer": "ipython3",
   "version": "3.7.11"
  }
 },
 "nbformat": 4,
 "nbformat_minor": 5
}
