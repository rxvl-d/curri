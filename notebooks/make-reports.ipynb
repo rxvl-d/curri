{
 "cells": [
  {
   "cell_type": "code",
   "execution_count": 15,
   "id": "6120c990",
   "metadata": {},
   "outputs": [],
   "source": [
    "import pandas as pd"
   ]
  },
  {
   "cell_type": "code",
   "execution_count": 16,
   "id": "7ab5b737",
   "metadata": {},
   "outputs": [],
   "source": [
    "better_col_names = {\n",
    "    'xgbClassifier': 'Simple Classification',\n",
    "    'xgbOrdinalClassifier': 'Ordinal Classification',\n",
    "    'xgbCoarseGrainedClassifier': 'Binned(3 Bins) Classification'\n",
    "}\n",
    "\n",
    "better_index_name = {\n",
    "    'babelkw': 'Babelfy KWs',\n",
    "    'kw': 'YAKE KWs',\n",
    "    'wikikw': 'Wikifier KWs',\n",
    "    'st': 'Sentence Transformer',\n",
    "    'tfidf': 'TF-IDF'\n",
    "}"
   ]
  },
  {
   "cell_type": "code",
   "execution_count": 17,
   "id": "38a62bf6",
   "metadata": {},
   "outputs": [],
   "source": [
    "results_dir = '../../ansible/results/accuracies'\n",
    "parsed = dict()\n",
    "with open(results_dir) as f:\n",
    "    for l in f:\n",
    "        label, acc = l.split('\\t')\n",
    "        parsed[label] = acc"
   ]
  },
  {
   "cell_type": "code",
   "execution_count": 26,
   "id": "55a96d9f",
   "metadata": {},
   "outputs": [],
   "source": [
    "results = []\n",
    "for k in parsed:\n",
    "    model, features, filtered = k.split('.')[0].split('_')\n",
    "    filtered = filtered == 'True'\n",
    "    accuracy = float(parsed[k].strip())\n",
    "    results.append((model, features, filtered, accuracy))\n",
    "df = pd.DataFrame(results, columns=['model', 'features', 'filtered', 'accuracy'])"
   ]
  },
  {
   "cell_type": "code",
   "execution_count": 27,
   "id": "45ad8783",
   "metadata": {},
   "outputs": [
    {
     "data": {
      "text/html": [
       "<style type=\"text/css\">\n",
       "#T_95391_row2_col0, #T_95391_row2_col2, #T_95391_row3_col1 {\n",
       "  background-color: lightgreen;\n",
       "}\n",
       "</style>\n",
       "<table id=\"T_95391_\">\n",
       "  <thead>\n",
       "    <tr>\n",
       "      <th class=\"blank\" >&nbsp;</th>\n",
       "      <th class=\"index_name level0\" >model</th>\n",
       "      <th class=\"col_heading level0 col0\" >Simple Classification</th>\n",
       "      <th class=\"col_heading level0 col1\" >Binned(3 Bins) Classification</th>\n",
       "      <th class=\"col_heading level0 col2\" >Ordinal Classification</th>\n",
       "    </tr>\n",
       "    <tr>\n",
       "      <th class=\"index_name level0\" >&nbsp;</th>\n",
       "      <th class=\"index_name level1\" >features</th>\n",
       "      <th class=\"blank col0\" >&nbsp;</th>\n",
       "      <th class=\"blank col1\" >&nbsp;</th>\n",
       "      <th class=\"blank col2\" >&nbsp;</th>\n",
       "    </tr>\n",
       "  </thead>\n",
       "  <tbody>\n",
       "    <tr>\n",
       "      <th id=\"T_95391_level0_row0\" class=\"row_heading level0 row0\" rowspan=\"5\">accuracy</th>\n",
       "      <th id=\"T_95391_level1_row0\" class=\"row_heading level1 row0\" >Babelfy KWs</th>\n",
       "      <td id=\"T_95391_row0_col0\" class=\"data row0 col0\" >0.123890</td>\n",
       "      <td id=\"T_95391_row0_col1\" class=\"data row0 col1\" >0.496260</td>\n",
       "      <td id=\"T_95391_row0_col2\" class=\"data row0 col2\" >0.119565</td>\n",
       "    </tr>\n",
       "    <tr>\n",
       "      <th id=\"T_95391_level1_row1\" class=\"row_heading level1 row1\" >YAKE KWs</th>\n",
       "      <td id=\"T_95391_row1_col0\" class=\"data row1 col0\" >0.121201</td>\n",
       "      <td id=\"T_95391_row1_col1\" class=\"data row1 col1\" >0.477443</td>\n",
       "      <td id=\"T_95391_row1_col2\" class=\"data row1 col2\" >0.111851</td>\n",
       "    </tr>\n",
       "    <tr>\n",
       "      <th id=\"T_95391_level1_row2\" class=\"row_heading level1 row2\" >Sentence Transformer</th>\n",
       "      <td id=\"T_95391_row2_col0\" class=\"data row2 col0\" >0.135227</td>\n",
       "      <td id=\"T_95391_row2_col1\" class=\"data row2 col1\" >0.504208</td>\n",
       "      <td id=\"T_95391_row2_col2\" class=\"data row2 col2\" >0.134058</td>\n",
       "    </tr>\n",
       "    <tr>\n",
       "      <th id=\"T_95391_level1_row3\" class=\"row_heading level1 row3\" >TF-IDF</th>\n",
       "      <td id=\"T_95391_row3_col0\" class=\"data row3 col0\" >0.127747</td>\n",
       "      <td id=\"T_95391_row3_col1\" class=\"data row3 col1\" >0.505259</td>\n",
       "      <td id=\"T_95391_row3_col2\" class=\"data row3 col2\" >0.116994</td>\n",
       "    </tr>\n",
       "    <tr>\n",
       "      <th id=\"T_95391_level1_row4\" class=\"row_heading level1 row4\" >Wikifier KWs</th>\n",
       "      <td id=\"T_95391_row4_col0\" class=\"data row4 col0\" >0.126578</td>\n",
       "      <td id=\"T_95391_row4_col1\" class=\"data row4 col1\" >0.479313</td>\n",
       "      <td id=\"T_95391_row4_col2\" class=\"data row4 col2\" >0.123422</td>\n",
       "    </tr>\n",
       "  </tbody>\n",
       "</table>\n"
      ],
      "text/plain": [
       "<pandas.io.formats.style.Styler at 0x7f684a761e90>"
      ]
     },
     "execution_count": 27,
     "metadata": {},
     "output_type": "execute_result"
    }
   ],
   "source": [
    "df[df.filtered].\\\n",
    "    drop(columns=['filtered']).\\\n",
    "    pivot(index='model', columns='features').\\\n",
    "    transpose().\\\n",
    "    rename(columns=better_col_names, index=better_index_name).\\\n",
    "    style.highlight_max(color='lightgreen')"
   ]
  },
  {
   "cell_type": "code",
   "execution_count": 24,
   "id": "043a191d",
   "metadata": {},
   "outputs": [
    {
     "data": {
      "text/html": [
       "<style type=\"text/css\">\n",
       "#T_ed75e_row2_col0, #T_ed75e_row2_col1, #T_ed75e_row2_col2 {\n",
       "  background-color: red;\n",
       "}\n",
       "</style>\n",
       "<table id=\"T_ed75e_\">\n",
       "  <thead>\n",
       "    <tr>\n",
       "      <th class=\"blank\" >&nbsp;</th>\n",
       "      <th class=\"index_name level0\" >model</th>\n",
       "      <th class=\"col_heading level0 col0\" >xgbClassifier</th>\n",
       "      <th class=\"col_heading level0 col1\" >xgbCoarseGrainedClassifier</th>\n",
       "      <th class=\"col_heading level0 col2\" >xgbOrdinalClassifier</th>\n",
       "    </tr>\n",
       "    <tr>\n",
       "      <th class=\"index_name level0\" >&nbsp;</th>\n",
       "      <th class=\"index_name level1\" >features</th>\n",
       "      <th class=\"blank col0\" >&nbsp;</th>\n",
       "      <th class=\"blank col1\" >&nbsp;</th>\n",
       "      <th class=\"blank col2\" >&nbsp;</th>\n",
       "    </tr>\n",
       "  </thead>\n",
       "  <tbody>\n",
       "    <tr>\n",
       "      <th id=\"T_ed75e_level0_row0\" class=\"row_heading level0 row0\" rowspan=\"5\">accuracy</th>\n",
       "      <th id=\"T_ed75e_level1_row0\" class=\"row_heading level1 row0\" >babelkw</th>\n",
       "      <td id=\"T_ed75e_row0_col0\" class=\"data row0 col0\" >0.105340</td>\n",
       "      <td id=\"T_ed75e_row0_col1\" class=\"data row0 col1\" >0.479643</td>\n",
       "      <td id=\"T_ed75e_row0_col2\" class=\"data row0 col2\" >0.111768</td>\n",
       "    </tr>\n",
       "    <tr>\n",
       "      <th id=\"T_ed75e_level1_row1\" class=\"row_heading level1 row1\" >kw</th>\n",
       "      <td id=\"T_ed75e_row1_col0\" class=\"data row1 col0\" >0.113397</td>\n",
       "      <td id=\"T_ed75e_row1_col1\" class=\"data row1 col1\" >0.467472</td>\n",
       "      <td id=\"T_ed75e_row1_col2\" class=\"data row1 col2\" >0.100626</td>\n",
       "    </tr>\n",
       "    <tr>\n",
       "      <th id=\"T_ed75e_level1_row2\" class=\"row_heading level1 row2\" >st</th>\n",
       "      <td id=\"T_ed75e_row2_col0\" class=\"data row2 col0\" >0.118968</td>\n",
       "      <td id=\"T_ed75e_row2_col1\" class=\"data row2 col1\" >0.492415</td>\n",
       "      <td id=\"T_ed75e_row2_col2\" class=\"data row2 col2\" >0.114854</td>\n",
       "    </tr>\n",
       "    <tr>\n",
       "      <th id=\"T_ed75e_level1_row3\" class=\"row_heading level1 row3\" >tfidf</th>\n",
       "      <td id=\"T_ed75e_row3_col0\" class=\"data row3 col0\" >0.109540</td>\n",
       "      <td id=\"T_ed75e_row3_col1\" class=\"data row3 col1\" >0.491900</td>\n",
       "      <td id=\"T_ed75e_row3_col2\" class=\"data row3 col2\" >0.109454</td>\n",
       "    </tr>\n",
       "    <tr>\n",
       "      <th id=\"T_ed75e_level1_row4\" class=\"row_heading level1 row4\" >wikikw</th>\n",
       "      <td id=\"T_ed75e_row4_col0\" class=\"data row4 col0\" >0.103797</td>\n",
       "      <td id=\"T_ed75e_row4_col1\" class=\"data row4 col1\" >0.454273</td>\n",
       "      <td id=\"T_ed75e_row4_col2\" class=\"data row4 col2\" >0.106368</td>\n",
       "    </tr>\n",
       "  </tbody>\n",
       "</table>\n"
      ],
      "text/plain": [
       "<pandas.io.formats.style.Styler at 0x7f2ee1c08d50>"
      ]
     },
     "execution_count": 24,
     "metadata": {},
     "output_type": "execute_result"
    }
   ],
   "source": [
    "df[~df.filtered].\\\n",
    "    drop(columns=['filtered']).\\\n",
    "    pivot(index='model', columns='features').\\\n",
    "    transpose().\\\n",
    "    rename(columns=better_col_names, index=better_index_name).\\\n",
    "    style.highlight_max(color='lightgreen')"
   ]
  },
  {
   "cell_type": "code",
   "execution_count": null,
   "id": "8d37f972",
   "metadata": {},
   "outputs": [],
   "source": []
  },
  {
   "cell_type": "code",
   "execution_count": 2,
   "id": "b4b66fd8",
   "metadata": {},
   "outputs": [],
   "source": [
    "import pandas as pd\n",
    "features = ['babel_kw', 'kw', 'wiki_kw', 'st', 'tfidf']\n",
    "models = ['xgbClassifier', 'xgbOrdinalClassifier', 'xgbCoarseGrainedClassifier']\n",
    "is_filtered_table = pd.DataFrame(index=features, columns=models)\n",
    "is_not_filtered_table = pd.DataFrame([], index=features)\n"
   ]
  },
  {
   "cell_type": "code",
   "execution_count": 3,
   "id": "8491e0cf",
   "metadata": {},
   "outputs": [
    {
     "name": "stdout",
     "output_type": "stream",
     "text": [
      "W/ Lessons assigned to grades more than 2 apart filtered out\n"
     ]
    },
    {
     "data": {
      "text/html": [
       "<style type=\"text/css\">\n",
       "#T_d5f4b_row3_col0, #T_d5f4b_row3_col1, #T_d5f4b_row4_col2 {\n",
       "  background-color: red;\n",
       "}\n",
       "</style>\n",
       "<table id=\"T_d5f4b_\">\n",
       "  <thead>\n",
       "    <tr>\n",
       "      <th class=\"blank level0\" >&nbsp;</th>\n",
       "      <th class=\"col_heading level0 col0\" >Simple Classification</th>\n",
       "      <th class=\"col_heading level0 col1\" >Ordinal Classification</th>\n",
       "      <th class=\"col_heading level0 col2\" >Binned(3 Bins) Classification</th>\n",
       "    </tr>\n",
       "  </thead>\n",
       "  <tbody>\n",
       "    <tr>\n",
       "      <th id=\"T_d5f4b_level0_row0\" class=\"row_heading level0 row0\" >Babelfy KWs</th>\n",
       "      <td id=\"T_d5f4b_row0_col0\" class=\"data row0 col0\" >0.123890</td>\n",
       "      <td id=\"T_d5f4b_row0_col1\" class=\"data row0 col1\" >0.119565</td>\n",
       "      <td id=\"T_d5f4b_row0_col2\" class=\"data row0 col2\" >0.496260</td>\n",
       "    </tr>\n",
       "    <tr>\n",
       "      <th id=\"T_d5f4b_level0_row1\" class=\"row_heading level0 row1\" >YAKE KWs</th>\n",
       "      <td id=\"T_d5f4b_row1_col0\" class=\"data row1 col0\" >0.121201</td>\n",
       "      <td id=\"T_d5f4b_row1_col1\" class=\"data row1 col1\" >0.111851</td>\n",
       "      <td id=\"T_d5f4b_row1_col2\" class=\"data row1 col2\" >0.477443</td>\n",
       "    </tr>\n",
       "    <tr>\n",
       "      <th id=\"T_d5f4b_level0_row2\" class=\"row_heading level0 row2\" >Wikifier KWs</th>\n",
       "      <td id=\"T_d5f4b_row2_col0\" class=\"data row2 col0\" >0.126578</td>\n",
       "      <td id=\"T_d5f4b_row2_col1\" class=\"data row2 col1\" >0.123422</td>\n",
       "      <td id=\"T_d5f4b_row2_col2\" class=\"data row2 col2\" >0.479313</td>\n",
       "    </tr>\n",
       "    <tr>\n",
       "      <th id=\"T_d5f4b_level0_row3\" class=\"row_heading level0 row3\" >Sentence Transformer</th>\n",
       "      <td id=\"T_d5f4b_row3_col0\" class=\"data row3 col0\" >0.135227</td>\n",
       "      <td id=\"T_d5f4b_row3_col1\" class=\"data row3 col1\" >0.134058</td>\n",
       "      <td id=\"T_d5f4b_row3_col2\" class=\"data row3 col2\" >0.504208</td>\n",
       "    </tr>\n",
       "    <tr>\n",
       "      <th id=\"T_d5f4b_level0_row4\" class=\"row_heading level0 row4\" >TF-IDF</th>\n",
       "      <td id=\"T_d5f4b_row4_col0\" class=\"data row4 col0\" >0.127747</td>\n",
       "      <td id=\"T_d5f4b_row4_col1\" class=\"data row4 col1\" >0.116994</td>\n",
       "      <td id=\"T_d5f4b_row4_col2\" class=\"data row4 col2\" >0.505259</td>\n",
       "    </tr>\n",
       "  </tbody>\n",
       "</table>\n"
      ],
      "text/plain": [
       "<pandas.io.formats.style.Styler at 0x7f2ee2014910>"
      ]
     },
     "metadata": {},
     "output_type": "display_data"
    },
    {
     "name": "stdout",
     "output_type": "stream",
     "text": [
      "W/out above filtering\n"
     ]
    },
    {
     "data": {
      "text/html": [
       "<style type=\"text/css\">\n",
       "#T_e7b11_row1_col0, #T_e7b11_row3_col1, #T_e7b11_row3_col2 {\n",
       "  background-color: red;\n",
       "}\n",
       "</style>\n",
       "<table id=\"T_e7b11_\">\n",
       "  <thead>\n",
       "    <tr>\n",
       "      <th class=\"blank level0\" >&nbsp;</th>\n",
       "      <th class=\"col_heading level0 col0\" >Simple Classification</th>\n",
       "      <th class=\"col_heading level0 col1\" >Ordinal Classification</th>\n",
       "      <th class=\"col_heading level0 col2\" >Binned(3 Bins) Classification</th>\n",
       "    </tr>\n",
       "  </thead>\n",
       "  <tbody>\n",
       "    <tr>\n",
       "      <th id=\"T_e7b11_level0_row0\" class=\"row_heading level0 row0\" >Babelfy KWs</th>\n",
       "      <td id=\"T_e7b11_row0_col0\" class=\"data row0 col0\" >0.122139</td>\n",
       "      <td id=\"T_e7b11_row0_col1\" class=\"data row0 col1\" >0.111768</td>\n",
       "      <td id=\"T_e7b11_row0_col2\" class=\"data row0 col2\" >0.479643</td>\n",
       "    </tr>\n",
       "    <tr>\n",
       "      <th id=\"T_e7b11_level0_row1\" class=\"row_heading level0 row1\" >YAKE KWs</th>\n",
       "      <td id=\"T_e7b11_row1_col0\" class=\"data row1 col0\" >0.142539</td>\n",
       "      <td id=\"T_e7b11_row1_col1\" class=\"data row1 col1\" >0.100626</td>\n",
       "      <td id=\"T_e7b11_row1_col2\" class=\"data row1 col2\" >0.467472</td>\n",
       "    </tr>\n",
       "    <tr>\n",
       "      <th id=\"T_e7b11_level0_row2\" class=\"row_heading level0 row2\" >Wikifier KWs</th>\n",
       "      <td id=\"T_e7b11_row2_col0\" class=\"data row2 col0\" >0.129853</td>\n",
       "      <td id=\"T_e7b11_row2_col1\" class=\"data row2 col1\" >0.106368</td>\n",
       "      <td id=\"T_e7b11_row2_col2\" class=\"data row2 col2\" >0.454273</td>\n",
       "    </tr>\n",
       "    <tr>\n",
       "      <th id=\"T_e7b11_level0_row3\" class=\"row_heading level0 row3\" >Sentence Transformer</th>\n",
       "      <td id=\"T_e7b11_row3_col0\" class=\"data row3 col0\" >0.122825</td>\n",
       "      <td id=\"T_e7b11_row3_col1\" class=\"data row3 col1\" >0.114854</td>\n",
       "      <td id=\"T_e7b11_row3_col2\" class=\"data row3 col2\" >0.492415</td>\n",
       "    </tr>\n",
       "    <tr>\n",
       "      <th id=\"T_e7b11_level0_row4\" class=\"row_heading level0 row4\" >TF-IDF</th>\n",
       "      <td id=\"T_e7b11_row4_col0\" class=\"data row4 col0\" >0.123854</td>\n",
       "      <td id=\"T_e7b11_row4_col1\" class=\"data row4 col1\" >0.109454</td>\n",
       "      <td id=\"T_e7b11_row4_col2\" class=\"data row4 col2\" >0.491900</td>\n",
       "    </tr>\n",
       "  </tbody>\n",
       "</table>\n"
      ],
      "text/plain": [
       "<pandas.io.formats.style.Styler at 0x7f2ee2014910>"
      ]
     },
     "metadata": {},
     "output_type": "display_data"
    }
   ],
   "source": [
    "for label in parsed:\n",
    "    split = label.split('_')\n",
    "    model = split[0].replace('xgbOrdinalClassifer', 'xgbOrdinalClassifier')\n",
    "    is_filtered = (split[-2] == 'filtered')\n",
    "    if is_filtered:\n",
    "        feature = '_'.join(label.replace('multi_grade_filtered_', '').split('_')[1:-1])\n",
    "        is_filtered_table.loc[feature, model] = float(parsed[label].strip())\n",
    "    else:\n",
    "        feature = '_'.join(label.split('_')[1:-1])\n",
    "        is_not_filtered_table.loc[feature, model] = float(parsed[label].strip())\n",
    "        \n",
    "        \n",
    "\n",
    "def style(df):\n",
    "    \n",
    "    def intensity(val):\n",
    "        color = 'red' if val == 0 else 'green'\n",
    "        return 'color: %s' % color\n",
    "    return df.rename(columns=better_col_names, index=better_index_name).style.highlight_max(color='red')\n",
    "\n",
    "print(\"W/ Lessons assigned to grades more than 2 apart filtered out\")\n",
    "display(style(is_filtered_table))\n",
    "\n",
    "print(\"W/out above filtering\")\n",
    "display(style(is_not_filtered_table))"
   ]
  },
  {
   "cell_type": "code",
   "execution_count": 54,
   "id": "42f7c920",
   "metadata": {},
   "outputs": [
    {
     "data": {
      "text/plain": [
       "Series([], Name: 0.33, dtype: float64)"
      ]
     },
     "execution_count": 54,
     "metadata": {},
     "output_type": "execute_result"
    }
   ],
   "source": [
    "is_filtered_table.quantile(.33)"
   ]
  },
  {
   "cell_type": "code",
   "execution_count": 14,
   "id": "decec686",
   "metadata": {},
   "outputs": [],
   "source": [
    "from sklearn.preprocessing import KBinsDiscretizer\n",
    "import numpy as np"
   ]
  },
  {
   "cell_type": "code",
   "execution_count": null,
   "id": "b82a6ebf",
   "metadata": {},
   "outputs": [],
   "source": [
    "from sk"
   ]
  },
  {
   "cell_type": "code",
   "execution_count": 18,
   "id": "7ba542ad",
   "metadata": {},
   "outputs": [],
   "source": []
  },
  {
   "cell_type": "code",
   "execution_count": 20,
   "id": "b032cce1",
   "metadata": {},
   "outputs": [
    {
     "data": {
      "text/plain": [
       "array([[0.],\n",
       "       [0.],\n",
       "       [1.],\n",
       "       [1.]])"
      ]
     },
     "execution_count": 20,
     "metadata": {},
     "output_type": "execute_result"
    }
   ],
   "source": [
    "disc.fit_transform(np.array([1,2,3,4,]).reshape((-1, 1)))"
   ]
  },
  {
   "cell_type": "code",
   "execution_count": null,
   "id": "4ff5deac",
   "metadata": {},
   "outputs": [],
   "source": []
  },
  {
   "cell_type": "code",
   "execution_count": null,
   "id": "a29db90f",
   "metadata": {},
   "outputs": [],
   "source": []
  },
  {
   "cell_type": "code",
   "execution_count": 3,
   "id": "74f30eee",
   "metadata": {},
   "outputs": [
    {
     "name": "stderr",
     "output_type": "stream",
     "text": [
      "/home/rsebastian/.anaconda3/envs/curry/lib/python3.7/site-packages/xgboost/sklearn.py:1224: UserWarning: The use of label encoder in XGBClassifier is deprecated and will be removed in a future release. To remove this warning, do the following: 1) Pass option use_label_encoder=False when constructing XGBClassifier object; and 2) Encode your labels (y) as integers starting with 0, i.e. 0, 1, 2, ..., [num_class - 1].\n",
      "  warnings.warn(label_encoder_deprecation_msg, UserWarning)\n"
     ]
    },
    {
     "name": "stdout",
     "output_type": "stream",
     "text": [
      "Accuracy on test data: 49.8%\n"
     ]
    }
   ],
   "source": [
    "import xgboost as xgb\n",
    "from sklearn.datasets import make_multilabel_classification\n",
    "from sklearn.model_selection import train_test_split\n",
    "from sklearn.multioutput import MultiOutputClassifier\n",
    "from sklearn.metrics import accuracy_score\n",
    "\n",
    "# create sample dataset\n",
    "X, y = make_multilabel_classification(n_samples=3000, n_features=45, n_classes=20, n_labels=1,\n",
    "                                      allow_unlabeled=False, random_state=42)\n",
    "\n",
    "# split dataset into training and test set\n",
    "X_train, X_test, y_train, y_test = train_test_split(X, y, test_size=0.2, random_state=123)\n",
    "\n",
    "# create XGBoost instance with default hyper-parameters\n",
    "xgb_estimator = xgb.XGBClassifier(objective='binary:logistic', eval_metric='error')\n",
    "\n",
    "# create MultiOutputClassifier instance with XGBoost model inside\n",
    "multilabel_model = MultiOutputClassifier(xgb_estimator)\n",
    "\n",
    "# fit the model\n",
    "multilabel_model.fit(X_train, y_train)\n",
    "\n",
    "# evaluate on test data\n",
    "print('Accuracy on test data: {:.1f}%'.format(accuracy_score(y_test, multilabel_model.predict(X_test))*100))\n",
    "\n"
   ]
  },
  {
   "cell_type": "code",
   "execution_count": 4,
   "id": "f456ee48",
   "metadata": {},
   "outputs": [
    {
     "data": {
      "text/plain": [
       "(3000, 45)"
      ]
     },
     "execution_count": 4,
     "metadata": {},
     "output_type": "execute_result"
    }
   ],
   "source": [
    "X.shape"
   ]
  },
  {
   "cell_type": "code",
   "execution_count": 5,
   "id": "f42735d0",
   "metadata": {},
   "outputs": [
    {
     "data": {
      "text/plain": [
       "(3000, 20)"
      ]
     },
     "execution_count": 5,
     "metadata": {},
     "output_type": "execute_result"
    }
   ],
   "source": [
    "y.shape"
   ]
  },
  {
   "cell_type": "code",
   "execution_count": 6,
   "id": "6f66d469",
   "metadata": {},
   "outputs": [
    {
     "data": {
      "text/plain": [
       "array([0, 1, 0, 0, 0, 0, 0, 0, 0, 0, 0, 0, 0, 0, 0, 0, 0, 0, 0, 0])"
      ]
     },
     "execution_count": 6,
     "metadata": {},
     "output_type": "execute_result"
    }
   ],
   "source": [
    "y[1, :]"
   ]
  },
  {
   "cell_type": "code",
   "execution_count": null,
   "id": "669e6269",
   "metadata": {},
   "outputs": [],
   "source": []
  },
  {
   "cell_type": "code",
   "execution_count": null,
   "id": "333cf915",
   "metadata": {},
   "outputs": [],
   "source": []
  },
  {
   "cell_type": "code",
   "execution_count": null,
   "id": "b7baa849",
   "metadata": {},
   "outputs": [],
   "source": []
  },
  {
   "cell_type": "code",
   "execution_count": null,
   "id": "a29c0203",
   "metadata": {},
   "outputs": [],
   "source": []
  },
  {
   "cell_type": "code",
   "execution_count": 1,
   "id": "040c781e",
   "metadata": {},
   "outputs": [],
   "source": [
    "import sys\n",
    "sys.path.append('..')"
   ]
  },
  {
   "cell_type": "code",
   "execution_count": 2,
   "id": "85a6a9c2",
   "metadata": {},
   "outputs": [],
   "source": [
    "from curry.loader import Loader"
   ]
  },
  {
   "cell_type": "code",
   "execution_count": 3,
   "id": "0494fa80",
   "metadata": {},
   "outputs": [],
   "source": [
    "loader = Loader()"
   ]
  },
  {
   "cell_type": "code",
   "execution_count": 6,
   "id": "68d733ca",
   "metadata": {},
   "outputs": [],
   "source": [
    "df = loader.sublessons_w_content(True)"
   ]
  },
  {
   "cell_type": "code",
   "execution_count": 8,
   "id": "02b1ad4f",
   "metadata": {},
   "outputs": [],
   "source": [
    "agged = df.groupby(['land', 'url']).klass.apply(lambda s: s.max()-s.min())"
   ]
  },
  {
   "cell_type": "code",
   "execution_count": 19,
   "id": "f1ba2449",
   "metadata": {},
   "outputs": [],
   "source": [
    "filtered_df = df[df[['land', 'url']].apply(tuple, axis=1).isin(agged[agged<=2].index)]"
   ]
  },
  {
   "cell_type": "code",
   "execution_count": 33,
   "id": "56666996",
   "metadata": {},
   "outputs": [],
   "source": [
    "selected_ilocs = []\n",
    "for idx in filtered_df.index:\n",
    "    iloc = filtered_df.index.get_loc(idx)\n",
    "    selected_ilocs.append(iloc)\n"
   ]
  },
  {
   "cell_type": "code",
   "execution_count": 20,
   "id": "88fb9f34",
   "metadata": {},
   "outputs": [
    {
     "data": {
      "text/plain": [
       "0.7333504757006942"
      ]
     },
     "execution_count": 20,
     "metadata": {},
     "output_type": "execute_result"
    }
   ],
   "source": [
    "filtered_df.shape[0] / df.shape[0]"
   ]
  },
  {
   "cell_type": "code",
   "execution_count": 23,
   "id": "8b4a55f8",
   "metadata": {},
   "outputs": [
    {
     "data": {
      "text/plain": [
       "11689"
      ]
     },
     "execution_count": 23,
     "metadata": {},
     "output_type": "execute_result"
    }
   ],
   "source": [
    "df.index[-1]"
   ]
  },
  {
   "cell_type": "code",
   "execution_count": 29,
   "id": "2f0ed94f",
   "metadata": {},
   "outputs": [],
   "source": [
    "from curry.features import Extractor"
   ]
  },
  {
   "cell_type": "code",
   "execution_count": 30,
   "id": "03abeddb",
   "metadata": {},
   "outputs": [],
   "source": [
    "ex = Extractor()"
   ]
  },
  {
   "cell_type": "code",
   "execution_count": 31,
   "id": "5526e60e",
   "metadata": {},
   "outputs": [],
   "source": [
    "X = ex.join(df.content, df.land, 'babel_kw')"
   ]
  },
  {
   "cell_type": "code",
   "execution_count": 35,
   "id": "d4389395",
   "metadata": {},
   "outputs": [
    {
     "data": {
      "text/plain": [
       "<8556x5129 sparse matrix of type '<class 'numpy.float64'>'\n",
       "\twith 333126 stored elements in Compressed Sparse Row format>"
      ]
     },
     "execution_count": 35,
     "metadata": {},
     "output_type": "execute_result"
    }
   ],
   "source": [
    "X[selected_ilocs]"
   ]
  },
  {
   "cell_type": "code",
   "execution_count": 37,
   "id": "2651e58c",
   "metadata": {},
   "outputs": [
    {
     "data": {
      "text/plain": [
       "array([0, 0, 0, ..., 6, 6, 6], dtype=int8)"
      ]
     },
     "execution_count": 37,
     "metadata": {},
     "output_type": "execute_result"
    }
   ],
   "source": [
    "df.klass.astype('category').cat.codes.values[selected_ilocs]"
   ]
  },
  {
   "cell_type": "code",
   "execution_count": 28,
   "id": "439f4d0d",
   "metadata": {},
   "outputs": [
    {
     "data": {
      "text/plain": [
       "8556"
      ]
     },
     "execution_count": 28,
     "metadata": {},
     "output_type": "execute_result"
    }
   ],
   "source": [
    "len(selected_ilocs)"
   ]
  },
  {
   "cell_type": "code",
   "execution_count": null,
   "id": "838811ad",
   "metadata": {},
   "outputs": [],
   "source": []
  },
  {
   "cell_type": "code",
   "execution_count": null,
   "id": "063eb27f",
   "metadata": {},
   "outputs": [],
   "source": []
  },
  {
   "cell_type": "code",
   "execution_count": null,
   "id": "16a9320d",
   "metadata": {},
   "outputs": [],
   "source": []
  },
  {
   "cell_type": "code",
   "execution_count": 2,
   "id": "b1e24e5f",
   "metadata": {},
   "outputs": [],
   "source": [
    "from curry.babelfy import Babelfier"
   ]
  },
  {
   "cell_type": "code",
   "execution_count": 3,
   "id": "ff0c6bf4",
   "metadata": {},
   "outputs": [],
   "source": [
    "babelfier = Babelfier()"
   ]
  },
  {
   "cell_type": "code",
   "execution_count": 4,
   "id": "5b0b5e36",
   "metadata": {},
   "outputs": [],
   "source": [
    "from curry.features import Extractor"
   ]
  },
  {
   "cell_type": "code",
   "execution_count": 5,
   "id": "041bc807",
   "metadata": {},
   "outputs": [],
   "source": [
    "extractor = Extractor(cleaner = 'tf')"
   ]
  },
  {
   "cell_type": "code",
   "execution_count": 6,
   "id": "0dcb5f56",
   "metadata": {},
   "outputs": [],
   "source": [
    "cleaned = extractor.cleaned_content(None)"
   ]
  },
  {
   "cell_type": "code",
   "execution_count": 7,
   "id": "b514cf7b",
   "metadata": {},
   "outputs": [],
   "source": [
    "import pickle"
   ]
  },
  {
   "cell_type": "code",
   "execution_count": 8,
   "id": "9b13fb4f",
   "metadata": {},
   "outputs": [
    {
     "name": "stdout",
     "output_type": "stream",
     "text": [
      "399\n"
     ]
    }
   ],
   "source": [
    "with open('.babelfier_bab.cache', 'rb') as f:\n",
    "    print(len(pickle.load(f)))"
   ]
  },
  {
   "cell_type": "code",
   "execution_count": 9,
   "id": "7163b238",
   "metadata": {},
   "outputs": [
    {
     "name": "stderr",
     "output_type": "stream",
     "text": [
      "babelfy:  55%|███████████████████████████████████████████████▍                                       | 6365/11667 [00:00<00:00, 63646.57it/s]"
     ]
    },
    {
     "name": "stdout",
     "output_type": "stream",
     "text": [
      "failed for\n",
      "Der Physik-Nobelpreisträger Richard P.  FEYNMAN (1918 - 1988) versuchte in seinem Buch \"Vom Wesen physikalischer Gesetze\" (Piper-Verlag) einem breiten Publikum die Besonderheiten der quantenphysikalischen Objekte wie Photon und Elektron an der einfachen Versuchsanordnung \"Doppelspalt\" zu erklären.  Diesem Weg werden wir im weiteren folgen.  Darüber hinaus hat sich in der deutschsprachigen Didaktik in den letzten Jahren die Beschreibung von Wesenszügen von Quantenobjekten heraus kristallisiert (Prof.  Müller, Dr.  Kübelbeck: Die Wesenszüge der Quantenphysik, Aulis-Verlag) auch auf diese Wesenszüge werden wir kurz eingehen.  Doppelspaltversuch mit klassischen Teilchen (z. B.  Kugeln) Der Doppelspalt wird mit einer Schrotflinte sehr schlechter Bauart beschossen.  Die resultierende \"Kugelintensität\" in der Nachweisebene ergibt sich aus der Addition der Einzelintensitäten.  Einzelne klassische Teilchen gehen beim Doppelspaltexperiment entweder durch den linken oder den rechten Spalt.  Es ist nicht von Belang, ob der jeweils andere Spalt geöffnet ist.  Doppelspaltversuch mit klassischen Wellen (z. B.  Wasserwellen) Die resultierende Intensität bei der Öffnung beider Spalte ergibt sich nicht (ähnlich wie beim Experiment mit klassischen Teilchen) durch Addition der Einzelintensitäten.  Wird die Intensität der auf den Doppelspalt auftreffenden Strahlung extrem verkleinert, so entsteht in der Nachweisebene trotzdem ein Interferenzmuster, das allerdings sehr schwach ausgeprägt ist.  Doppelspaltversuch mit Quantenobjekten (z. B.  Photonen oder Elektronen) Der Doppelspaltversuch mit Licht von YOUNG (bei nicht zu geringen Intensitäten) aber auch der Doppelspaltversuch mit Elektronen von JÖNSSON (mit nicht zu geringen Intensitäten) zeigt das bereits bekannte Interferenzmuster.  Während wir die Interferenzerscheinung beim Doppelspaltversuch mit Licht mit der Wellenvorstellung recht gut deuten konnten (Photonen waren uns zu diesem Zeitpunkt noch nicht bekannt), erregte das Interferenzmuster bei den Elektronen doch Aufsehen.  Bisher kamen wir mit der Vorstellung, dass sich Elektronen wie klassische Teilchen verhalten gut zu Rande.  Führt man den Doppelspaltversuch mit Licht (TAYLOR, WEIS und WAYNANDS) bzw.  Elektronen (MERLI, POZZI et. al.  bzw.  TONOMURA) bei extrem geringen Intensitäten durch, so werden die in der Nachweisebene ankommenden Objekte nie gleichzeitig an verschiedenen Stellen nachgewiesen, sie treffen zu einer bestimmten Zeit nur an einem bestimmten Ort auf.  Die Objekte die da ankommen treten \"stückweise\", in stets der gleichen Größe auf, ihre Auftrefforte scheinen zunächst regellos verteilt zu sein.  Und doch, wartet man genügend lange, stellt sich das bekannte Interferenzmuster ein.  Fazit: Photonen, Elektronen und viele anderen Objekte aus der Mikrowelt verhalten sich weder wie klassische Teilchen noch wie klassische Wellen.  Man bezeichnet Sie als Quantenobjekte.  Zusammenfassung Klassische Teilchen Klassische Wellen Quantenobjekte Teilchen kommen stückweise an Wellen können jede Intensität besitzen Objekte kommen stückweise an Gemessen wird die Wahrscheinlichkeit des Eintreffens Gemessen wird die Intensität der Wellen Gemessen wird die Wahrscheinlichkeit des Eintreffens Nres = N1 + N2 Ires ≠ I1 + I2 Nres ≠ N1 + N2 Es kommt zu keiner Interferenz Es kommt zur Interferenz Es kommt zur Interferenz Die Wegentscheidung zerstört die Interferenz von Quantenobjekten Um entscheiden zu können, durch welchen Spalt ein Elektron fliegt, kann man sich in einem Gedankenexperiment eine Lichtquelle hinter den Doppelspalt eingebaut denken.  Kommt z. B.  ein Elektron durch Spalt 1, dann sollte vom Auge in der skizzierten Lage ein Reflex wahrnehmbar sein.  Das Ergebnis aller Experimente bei denen eine Wegentscheidung für ein Quantenobjekt ermöglicht wurde, war die Zerstörung der Interferenz.  FEYNMAN schreibt: \"Es ist unmöglich, irgendeine Vorrichtung zu ersinnen, die imstande wäre festzustellen, welches Loch ein Elektron (Quantenobjekt) passiert, ohne gleichzeitig das Elektron so zu stören, dass das Interferenzmuster zerstört wird. \" Interferenz tritt also nur dann auf, wenn wir nicht wissen, durch welchen Spalt das Quantenobjekt zum Schirm gelangte.  Dies führt dazu, dass man für Quantenobjekte den klassischen Begriff \"Teilchenbahn\" nicht verwenden kann.  Dr.  Hübel schreibt: Es ist physikalisch sinnlos, von einem Weg des Teilchens von der Quelle zum Nachweisort auf dem Schirm zu sprechen.  Ja, noch schärfer: Das Teilchen tritt erst auf, wenn wir es auf dem Schirm nachweisen.  Vorher hat es keinen Sinn, ihm irgendein Verhalten oder irgendwelche Eigenschaften zuzuschreiben, es sei denn, diese werden in einem Experiment gemessen.  Aber dann verschwindet die Interferenz.  Gut lesbar ist die gesamte Problematik in einem Auszug aus dem Büchlein von Robert GILMORE: Die geheimnisvollen Visionen des Herrn S (Birkhäuser-Verlag, Basel 1996) beschrieben, die du dir hier einblenden lassen kannst.  Sehr pointiert werden die Eigenschaft von Quantenobjekten in dem Buch von Prof.  Dr.  Müller und Dr.  Kübelbeck: Die Wesenszüge der Quantenphysik, (Aulis-Verlag) dargestellt.  Im Folgenden werden die vier Wesenszüge kurz dargestellt.  Wer sich intensiver für diese Wesenszüge interessiert möge das Büchlein lesen oder für einen ersten Überblick den Artikel von Prof.  Müller bei piko studieren.  Wesenszug 1: Statistisches Verhalten a) In der Quantenphysik können Einzelereignisse im Allgemeinen nicht vorhergesagt werden.  b) Bei vielen Wiederholungen ergibt sich jedoch eine Verteilung, die – bis auf stochastische Schwankungen – reproduzierbar ist.  Wesenszug 2: Fähigkeit zur Interferenz Auch einzelne Quantenobjekte können zu einem Interferenzmuster beitragen.  Voraussetzung ist, dass es für das Eintreten des gleichen Versuchsergebnisses mehr als eine klassisch denkbare Möglichkeit gibt.  Erläuterung: Beim Doppelspalt bedeutet dies, dass ein Photon durch den oberen Spalt 1 (Möglichkeit 1) oder durch den unteren Spalt 2 (Möglichkeit 2) zum Schirmpunkt X gelangt.  Das Ergebnis des Versuchs, der Nachweis eines Photons am Schirmpunkt X, ist in beiden Fällen das gleiche.  Wesenszug 3: Eindeutige Messergebnisse Messergebnisse sind stets eindeutig, auch wenn sich das Quantenobjekt vor der Messung in einem Zustand befindet, der unbestimmt bezüglich der gemessenen Größe ist.  Erläuterung: Die Lichtquelle hinter dem Doppelspalt ermöglicht eine genaue Ortsmessung für ein Photon bzw.  Elektron (vgl.  4.  Wegentscheidung .  .  .  ).  Vor der Messung war der Ort des Elektrons nicht bekannt.  Man sagt dazu auch: Die Elektronen besaßen die Eigenschaft \"Ort\" nicht.  Wesenszug 4: Komplementarität Interferenzmuster und Unterscheidbarkeit der klassisch denkbaren Möglichkeiten schließen sich aus.  Erläuterung: Bezogen auf den Doppelspalt bedeutet \"Unterscheidbarkeit der klassisch denkbaren Möglichkeiten\": Man weiß durch eine geeignete Vorrichtung, ob das Quantenobjekt durch den oberen oder unteren Spalt gegangen ist.  Wie oben ausgeführt wurde, verschwindet dann das Interferenzmuster.  Ortseigenschaft und Interferenzmuster sind nicht gleichzeitig realisierbar, sondern schließen sich gegenseitig aus.  Dies ist ein Spezialfall eines allgemeinen Prinzips, das man nach Niels BOHR Komplementarität nennt. \n"
     ]
    },
    {
     "name": "stderr",
     "output_type": "stream",
     "text": [
      "babelfy:  96%|█████████████████████████████████████████████████████████████████████████████████████▎   | 11177/11667 [01:05<00:06, 72.00it/s]"
     ]
    },
    {
     "name": "stdout",
     "output_type": "stream",
     "text": [
      "failed for\n",
      "Starke Wechselwirkung Die starke Wechselwirkung ist u. a.  für die Bindung der Quarks in Protonen und Neutronen, die Kraft zwischen Protonen und Neutronen im Atomkern (Kernkraft) und den radioaktiven α-Zerfall verantwortlich.  unten) besitzen.  Die Vermittlung der starken Wechselwirkung zwischen Teilchen mit einer Farbladung geschieht durch Emission und Absorption von Gluonen (engl.  glue: kleben), den Botenteilchen der starken Wechselwirkung.  Dabei ändert sich im allgemeinen die Farbladung der einzelnen Teilchen.  Die Vermittlung der starken Wechselwirkung zwischen Teilchen mit starker Ladung durch Emission und Absorption von Gluonen ist in der Animation in Abb.  2 am Beispiel der Wechselwirkung zwischen zwei Quarks dargestellt: Das rote Up-Quark emittiert ein Gluon mit den Farben rot und anti-grün und wird zum grünen Up-Quark.  Bei der Absorption dieses Gluons wird das grüne Up-Quark zum roten Up-Quark.  Insgesamt kommt es also zu einem Farbwechsel der beiden Up-Quarks.  Beachte, dass während des Prozesses die gesamte Farbladung konstant bleibt.  Starke Wechselwirkung im Proton Protonen sind aufgebaut aus zwei Up-Quarks und einem Down-Quark.  Die drei Quarks werden zusammengehalten durch die Emission und Absorption von Gluonen zwischen jeweils zwei der drei Quarks, bei denen dann im allgemeinen die Farbladungen der beteiligten Quarks wechseln.  Beachte, dass die gesamte Farbladung des Protons ständig \"weiß\" ist.  Starke Wechselwirkung im Neutron Neutronen sind aufgebaut aus einem Up-Quark und zwei Down-Quarks.  Die drei Quarks werden zusammengehalten durch die Emission und Absorption von Gluonen zwischen jeweils zwei der drei Quarks, bei denen dann im allgemeinen die Farbladungen der beteiligten Quarks wechseln.  Beachte, dass die gesamte Farbladung des Neutrons ständig \"weiß\" ist.  Zusammenhalt von Protonen und Neutronen im Atomkern Mesonen und Baryonen (z. B.  Proton und Neutron) sind in Bezug auf die Farbladung \"weiß\", d. h.  nach außen hin bemerkt man kaum noch etwas von ihren Farbladungen.  Bringt man jedoch zwei Baryonen (z. B.  Proton und Neutron) sehr dicht zusammen, so ist eine Restwechselwirkung zu spüren.  Die dadurch bedingte Kraft ist zwar viel schwächer als die direkte starke Kraft zwischen den Quarks, aber immer noch stärker als die elektromagnetische Kraft, wie sie bei der Abstoßung zwischen zwei Protonen auftritt.  Auf diese Weise kann man mit der starken Wechselwirkung zwischen den Quarks auch den Zusammenhalt der Protonen und Neutronen im Atomkern erklären.  Zum oben beschriebenen Phänomen gibt es eine Entsprechung im Atom: Ein Atom ist nach außen hin elektrisch neutral, obwohl es einen positiv geladenen Kern und eine negativ geladene Hülle besitzt.  Trotzdem ist es möglich, dass zwei eng benachbarte Atome aufeinander elektrische Kräfte (van-der-Waals-Kräfte) ausüben.  eines Teilchensystems bestimmt, ob es der starken Wechselwirkung unterliegt.  •Die Beschreibung der physikalischen Größe \"Farbladung\" geschieht durch Vektoren.  Es gibt sechs verschiedene Farbladungen: rot, grün, blau, anti-rot, anti-grün und anti-blau.  Die Einordnung der Elementarteilchen geschieht in einem zweidimensionalen Farbgitter.  Die drei Farben \"rot\", \"grün\" und \"blau\" werden in die Pfeilrichtungen, die Anti-Farben \"anti-rot\", \"anti-grün\" und \"anti-blau\" entgegen der Pfeilrichtungen abgetragen.  Jedes Elementarteilchen oder Teilchensystem, das eine oder mehrere Farbladungen besitzt, kann auf einem der Gitterpunkte des Farbgitters platziert werden.  •Die Farbladung eines Teilchensystems erhält man aus der vektoriellen Addition der Farbladungsvektoren der Elementarteilchen, aus denen das Teilchensystem zusammengesetzt ist.  •Bei allen Prozessen, die in der Natur ablaufen, ist die Summe der Farbladungen aller Teilchen vor dem Prozess gleich der Summe der Farbladungen aller Teilchen nach dem Prozess - Farbladungen bleiben erhalten.  Die nebenstehende Abbildung zeigt die Farbladungen aller Elementarteilchen mit Farbladung.  Die Quarks, die Anti-Quarks und die Gluonen sind die einzigen bekannten Elementarteilchen, die eine Farbladung d. h.  Farbladungsvektoren besitzen.  Jedes der Quarks kommt jeweils mit einem der drei verschiedenen Farbladungsvektoren vor.  Entsprechend kommt jedes Anti-Quark jeweils mit einem der drei verschiedenen Anti-Farbladungsvektoren vor.  Die acht Gluonen besitzen jeweils eine Kombination aus Farbladungsvektoren.  Sechs der acht Gluonen besitzen einen Farbladungsvektor, der sich aus einer Farbe und einer Anti-Farbe zusammensetzt.  Bei den beiden verbleibenden Gluonen addieren sich Farben und Anti-Farben jeweils auf komplizierte Art und Weise zum Nullvektor, sie besitzen also keine resultierende Farbladung, ihre Farbladung ist \"weiß\".  Aufgabe Bestimme mit Hilfe von Abb.  7 und Abb.  8 die Farbladung des Protons.  Bestimme mit Hilfe von Abb.  7 und Abb.  Gluonen - die Botenteilchen der starken Wechselwirkung Die Gluonen (engl.  glue: kleben) sind die Botenteilchen der starken Wechselwirkung.  Experimente am Beschleuniger PETRA bei DESY liefern 1979 die ersten experimentellen Nachweise für die Existenz des Gluons.  Es gibt insgesamt 8 verschiedene Gluonen, die jeweils verschiedenen Kombinationen aus Farbladungen tragen.  Sechs der acht Gluonen besitzen einen Farbladungsvektor, der sich aus einer Farbe und einer Anti-Farbe zusammensetzt.  Bei den beiden verbleibenden Gluonen addieren sich Farben und Anti-Farben jeweils auf komplizierte Art und Weise zum Nullvektor, sie besitzen also keine resultierende Farbladung, ihre Farbladung ist \"weiß\". . . . . . .  Da die Gluonen ausschließlich starke Farbladungen und keine weiteren Ladungen besitzen, kann aufgrund der starken Wechselwirkung die elektrische und die schwache Ladung eines Teilchens nicht geändert werden.  Bei der starken Wechselwirkung kann ausschließlich die Farbladung eines Quarks oder Anti-Quarks geändert werden.  Confinement (Quark-Gefangenschaft) Man hat bis heute keine einzelnen, freien Quarks gefunden, sondern immer nur Zweier- oder Dreiergruppen.  Quarks kommen also nur in gebundenen \"farbneutralen\" Zuständen vor, d. h.  einem Teilchensystem aus einem Quark und einem Anti-Quark (Mesonen) oder einem Teilchensystem aus drei Quarks (Baryonen).  Die Farbladungen der Quarks addieren sich dabei zu \"weiß\" wie z. B.  beim Proton.  Die Tatsache, dass Quarks niemals einzeln, sondern stets nur in Gruppen vorkommen, wird mit dem Begriff confinement (Gefangenschaft) umschrieben.  Versucht man mit hoher Energie z. B.  ein Quark und ein Anti-Quark zu trennen, so bilden sich spontan neue Paare aus Quark und Anti-Quark.  Eine Analogie aus der klassischen Physik wäre das Auseinanderziehen zweier geladener Kondensatorplatten, zwischen denen ein homogenes elektrisches Feld herrscht.  Weil die Anziehungskraft zwischen dem beiden Platten konstant bleibt, wächst die Energie dieses Systems mit zunehmender Entfernung immer weiter an.  Glueballs Da die Botenteilchen der starken Wechselwirkung, die Gluonen, selbst eine Farbladung tragen, wechselwirken sie nicht nur mit den Quarks, sondern auch mit anderen Gluonen.  Theoretisch sollte es dann ein gebundenes System aus mehreren Gluonen geben, deren Farbladungen sich zu \"weiß\" addieren.  Dieses hypothetischen zusammengesetzten Teilchen bezeichnet man als Glueball.  Leider sind Glueballs in Teilchenbeschleunigern nur sehr schwer nachzuweisen, so dass wir immer noch auf die Entdeckung warten.  Die Animation in Abb.  11 gibt eine Übersicht über die möglichen Wechselwirkungen von Quarks und Anti-Quarks.  1 Die angegebene Gleichung für die potenzielle Energie gilt prinzipiell nur für Teilchen, die eine Farbladung besitzen. \n"
     ]
    },
    {
     "name": "stderr",
     "output_type": "stream",
     "text": [
      "babelfy: 100%|████████████████████████████████████████████████████████████████████████████████████████| 11667/11667 [01:48<00:00, 107.70it/s]\n"
     ]
    },
    {
     "data": {
      "text/plain": [
       "<11667x5113 sparse matrix of type '<class 'numpy.int64'>'\n",
       "\twith 443520 stored elements in Compressed Sparse Row format>"
      ]
     },
     "execution_count": 9,
     "metadata": {},
     "output_type": "execute_result"
    }
   ],
   "source": [
    "extractor.babelfy_kws(None)"
   ]
  },
  {
   "cell_type": "code",
   "execution_count": 10,
   "id": "1b8fc217",
   "metadata": {},
   "outputs": [
    {
     "name": "stdout",
     "output_type": "stream",
     "text": [
      "(11667, 5113)\n"
     ]
    }
   ],
   "source": [
    "with open('.babelfier.cache', 'rb') as f:\n",
    "    print(pickle.load(f).shape)"
   ]
  },
  {
   "cell_type": "code",
   "execution_count": 16,
   "id": "5dc6d831",
   "metadata": {},
   "outputs": [
    {
     "data": {
      "text/plain": [
       "[{'start': 8,\n",
       "  'end': 15,\n",
       "  'text': 'Aufgaben',\n",
       "  'isEntity': True,\n",
       "  'tokenFragment': {'start': 2, 'end': 2},\n",
       "  'charFragment': {'start': 8, 'end': 15},\n",
       "  'babelSynsetID': 'bn:00018756n',\n",
       "  'DBpediaURL': '',\n",
       "  'BabelNetURL': 'http://babelnet.org/rdf/s00018756n',\n",
       "  'score': 0.0,\n",
       "  'coherenceScore': 0.0,\n",
       "  'globalScore': 0.0,\n",
       "  'source': 'MCS'},\n",
       " {'start': 21,\n",
       "  'end': 26,\n",
       "  'text': 'Dichte',\n",
       "  'isEntity': True,\n",
       "  'tokenFragment': {'start': 4, 'end': 4},\n",
       "  'charFragment': {'start': 21, 'end': 26},\n",
       "  'babelSynsetID': 'bn:00026259n',\n",
       "  'DBpediaURL': 'http://dbpedia.org/resource/Density',\n",
       "  'BabelNetURL': 'http://babelnet.org/rdf/s00026259n',\n",
       "  'score': 0.7297297297297297,\n",
       "  'coherenceScore': 0.5,\n",
       "  'globalScore': 0.05934065934065934,\n",
       "  'source': 'BABELFY'},\n",
       " {'start': 28,\n",
       "  'end': 32,\n",
       "  'text': 'lässt',\n",
       "  'isEntity': True,\n",
       "  'tokenFragment': {'start': 5, 'end': 5},\n",
       "  'charFragment': {'start': 28, 'end': 32},\n",
       "  'babelSynsetID': 'bn:00084198v',\n",
       "  'DBpediaURL': '',\n",
       "  'BabelNetURL': 'http://babelnet.org/rdf/s00084198v',\n",
       "  'score': 0.0,\n",
       "  'coherenceScore': 0.0,\n",
       "  'globalScore': 0.0,\n",
       "  'source': 'MCS'},\n",
       " {'start': 43,\n",
       "  'end': 49,\n",
       "  'text': 'Volumen',\n",
       "  'isEntity': True,\n",
       "  'tokenFragment': {'start': 8, 'end': 8},\n",
       "  'charFragment': {'start': 43, 'end': 49},\n",
       "  'babelSynsetID': 'bn:00080229n',\n",
       "  'DBpediaURL': 'http://dbpedia.org/resource/Volume',\n",
       "  'BabelNetURL': 'http://babelnet.org/rdf/s00080229n',\n",
       "  'score': 0.9239130434782609,\n",
       "  'coherenceScore': 0.8333333333333334,\n",
       "  'globalScore': 0.18681318681318682,\n",
       "  'source': 'BABELFY'},\n",
       " {'start': 65,\n",
       "  'end': 73,\n",
       "  'text': 'einfacher',\n",
       "  'isEntity': True,\n",
       "  'tokenFragment': {'start': 12, 'end': 12},\n",
       "  'charFragment': {'start': 65, 'end': 73},\n",
       "  'babelSynsetID': 'bn:00101973a',\n",
       "  'DBpediaURL': '',\n",
       "  'BabelNetURL': 'http://babelnet.org/rdf/s00101973a',\n",
       "  'score': 0.0,\n",
       "  'coherenceScore': 0.0,\n",
       "  'globalScore': 0.0,\n",
       "  'source': 'MCS'},\n",
       " {'start': 76,\n",
       "  'end': 81,\n",
       "  'text': 'Körper',\n",
       "  'isEntity': True,\n",
       "  'tokenFragment': {'start': 14, 'end': 14},\n",
       "  'charFragment': {'start': 76, 'end': 81},\n",
       "  'babelSynsetID': 'bn:00011744n',\n",
       "  'DBpediaURL': 'http://dbpedia.org/resource/Physical_body',\n",
       "  'BabelNetURL': 'http://babelnet.org/rdf/s00011744n',\n",
       "  'score': 0.0,\n",
       "  'coherenceScore': 0.0,\n",
       "  'globalScore': 0.0,\n",
       "  'source': 'MCS'},\n",
       " {'start': 83,\n",
       "  'end': 93,\n",
       "  'text': 'rechnerisch',\n",
       "  'isEntity': True,\n",
       "  'tokenFragment': {'start': 15, 'end': 15},\n",
       "  'charFragment': {'start': 83, 'end': 93},\n",
       "  'babelSynsetID': 'bn:00106491a',\n",
       "  'DBpediaURL': '',\n",
       "  'BabelNetURL': 'http://babelnet.org/rdf/s00106491a',\n",
       "  'score': 0.0,\n",
       "  'coherenceScore': 0.0,\n",
       "  'globalScore': 0.0,\n",
       "  'source': 'MCS'},\n",
       " {'start': 95,\n",
       "  'end': 103,\n",
       "  'text': 'ermitteln',\n",
       "  'isEntity': True,\n",
       "  'tokenFragment': {'start': 16, 'end': 16},\n",
       "  'charFragment': {'start': 95, 'end': 103},\n",
       "  'babelSynsetID': 'bn:00082813v',\n",
       "  'DBpediaURL': '',\n",
       "  'BabelNetURL': 'http://babelnet.org/rdf/s00082813v',\n",
       "  'score': 0.0,\n",
       "  'coherenceScore': 0.0,\n",
       "  'globalScore': 0.0,\n",
       "  'source': 'MCS'},\n",
       " {'start': 128,\n",
       "  'end': 134,\n",
       "  'text': 'Formeln',\n",
       "  'isEntity': True,\n",
       "  'tokenFragment': {'start': 22, 'end': 22},\n",
       "  'charFragment': {'start': 128, 'end': 134},\n",
       "  'babelSynsetID': 'bn:00032395n',\n",
       "  'DBpediaURL': 'http://dbpedia.org/resource/Formula',\n",
       "  'BabelNetURL': 'http://babelnet.org/rdf/s00032395n',\n",
       "  'score': 1.0,\n",
       "  'coherenceScore': 0.6666666666666666,\n",
       "  'globalScore': 0.06153846153846154,\n",
       "  'source': 'BABELFY'},\n",
       " {'start': 147,\n",
       "  'end': 154,\n",
       "  'text': 'wichtige',\n",
       "  'isEntity': True,\n",
       "  'tokenFragment': {'start': 25, 'end': 25},\n",
       "  'charFragment': {'start': 147, 'end': 154},\n",
       "  'babelSynsetID': 'bn:00100716a',\n",
       "  'DBpediaURL': '',\n",
       "  'BabelNetURL': 'http://babelnet.org/rdf/s00100716a',\n",
       "  'score': 0.0,\n",
       "  'coherenceScore': 0.0,\n",
       "  'globalScore': 0.0,\n",
       "  'source': 'MCS'},\n",
       " {'start': 156,\n",
       "  'end': 162,\n",
       "  'text': 'Umfangs',\n",
       "  'isEntity': True,\n",
       "  'tokenFragment': {'start': 26, 'end': 26},\n",
       "  'charFragment': {'start': 156, 'end': 162},\n",
       "  'babelSynsetID': 'bn:00012213n',\n",
       "  'DBpediaURL': 'http://dbpedia.org/resource/Perimeter',\n",
       "  'BabelNetURL': 'http://babelnet.org/rdf/s00012213n',\n",
       "  'score': 0.0,\n",
       "  'coherenceScore': 0.0,\n",
       "  'globalScore': 0.0,\n",
       "  'source': 'MCS'},\n",
       " {'start': 166,\n",
       "  'end': 172,\n",
       "  'text': 'Flächen',\n",
       "  'isEntity': True,\n",
       "  'tokenFragment': {'start': 29, 'end': 29},\n",
       "  'charFragment': {'start': 166, 'end': 172},\n",
       "  'babelSynsetID': 'bn:02146864n',\n",
       "  'DBpediaURL': 'http://dbpedia.org/resource/Surface',\n",
       "  'BabelNetURL': 'http://babelnet.org/rdf/s02146864n',\n",
       "  'score': 0.0,\n",
       "  'coherenceScore': 0.0,\n",
       "  'globalScore': 0.0,\n",
       "  'source': 'MCS'},\n",
       " {'start': 199,\n",
       "  'end': 207,\n",
       "  'text': 'angegeben',\n",
       "  'isEntity': True,\n",
       "  'tokenFragment': {'start': 33, 'end': 33},\n",
       "  'charFragment': {'start': 199, 'end': 207},\n",
       "  'babelSynsetID': 'bn:00083668v',\n",
       "  'DBpediaURL': '',\n",
       "  'BabelNetURL': 'http://babelnet.org/rdf/s00083668v',\n",
       "  'score': 0.0,\n",
       "  'coherenceScore': 0.0,\n",
       "  'globalScore': 0.0,\n",
       "  'source': 'MCS'}]"
      ]
     },
     "execution_count": 16,
     "metadata": {},
     "output_type": "execute_result"
    }
   ],
   "source": [
    "babelfier.bab(cleaned[0])"
   ]
  },
  {
   "cell_type": "code",
   "execution_count": null,
   "id": "b6fa610d",
   "metadata": {},
   "outputs": [],
   "source": [
    "Out[7]"
   ]
  },
  {
   "cell_type": "code",
   "execution_count": null,
   "id": "e2bcdd15",
   "metadata": {},
   "outputs": [],
   "source": []
  },
  {
   "cell_type": "code",
   "execution_count": null,
   "id": "c15abb50",
   "metadata": {},
   "outputs": [],
   "source": [
    "wikifer.wikify(c.)"
   ]
  },
  {
   "cell_type": "code",
   "execution_count": null,
   "id": "4fc66e24",
   "metadata": {},
   "outputs": [],
   "source": []
  },
  {
   "cell_type": "code",
   "execution_count": 2,
   "id": "7bd77b17",
   "metadata": {},
   "outputs": [],
   "source": [
    "from curry.main import Runner"
   ]
  },
  {
   "cell_type": "code",
   "execution_count": 3,
   "id": "41c6d757",
   "metadata": {},
   "outputs": [],
   "source": [
    "runner = Runner()"
   ]
  },
  {
   "cell_type": "code",
   "execution_count": 4,
   "id": "1cb9d71a",
   "metadata": {},
   "outputs": [
    {
     "ename": "TypeError",
     "evalue": "Expected sequence or array-like, got <class 'NoneType'>",
     "output_type": "error",
     "traceback": [
      "\u001b[0;31m---------------------------------------------------------------------------\u001b[0m",
      "\u001b[0;31mTypeError\u001b[0m                                 Traceback (most recent call last)",
      "\u001b[0;32m/tmp/ipykernel_206954/3926302587.py\u001b[0m in \u001b[0;36m<module>\u001b[0;34m\u001b[0m\n\u001b[0;32m----> 1\u001b[0;31m \u001b[0mrunner\u001b[0m\u001b[0;34m.\u001b[0m\u001b[0mrun\u001b[0m\u001b[0;34m(\u001b[0m\u001b[0;34m)\u001b[0m\u001b[0;34m\u001b[0m\u001b[0;34m\u001b[0m\u001b[0m\n\u001b[0m",
      "\u001b[0;32m~/code/curry/curry/main.py\u001b[0m in \u001b[0;36mrun\u001b[0;34m(self)\u001b[0m\n\u001b[1;32m     14\u001b[0m         \u001b[0mX\u001b[0m \u001b[0;34m=\u001b[0m \u001b[0mself\u001b[0m\u001b[0;34m.\u001b[0m\u001b[0mextractor\u001b[0m\u001b[0;34m.\u001b[0m\u001b[0mjoin\u001b[0m\u001b[0;34m(\u001b[0m\u001b[0mdf\u001b[0m\u001b[0;34m.\u001b[0m\u001b[0mcontent\u001b[0m\u001b[0;34m,\u001b[0m \u001b[0mdf\u001b[0m\u001b[0;34m.\u001b[0m\u001b[0mland\u001b[0m\u001b[0;34m)\u001b[0m\u001b[0;34m\u001b[0m\u001b[0;34m\u001b[0m\u001b[0m\n\u001b[1;32m     15\u001b[0m         \u001b[0my\u001b[0m \u001b[0;34m=\u001b[0m \u001b[0mdf\u001b[0m\u001b[0;34m.\u001b[0m\u001b[0mklass\u001b[0m\u001b[0;34m\u001b[0m\u001b[0;34m\u001b[0m\u001b[0m\n\u001b[0;32m---> 16\u001b[0;31m         \u001b[0;32mreturn\u001b[0m \u001b[0mself\u001b[0m\u001b[0;34m.\u001b[0m\u001b[0mtrainer\u001b[0m\u001b[0;34m.\u001b[0m\u001b[0mtrain_score\u001b[0m\u001b[0;34m(\u001b[0m\u001b[0mX\u001b[0m\u001b[0;34m,\u001b[0m \u001b[0my\u001b[0m\u001b[0;34m)\u001b[0m\u001b[0;34m\u001b[0m\u001b[0;34m\u001b[0m\u001b[0m\n\u001b[0m",
      "\u001b[0;32m~/code/curry/curry/model.py\u001b[0m in \u001b[0;36mtrain_score\u001b[0;34m(self, X, y)\u001b[0m\n\u001b[1;32m      8\u001b[0m         \u001b[0mscores\u001b[0m \u001b[0;34m=\u001b[0m \u001b[0;34m[\u001b[0m\u001b[0;34m]\u001b[0m\u001b[0;34m\u001b[0m\u001b[0;34m\u001b[0m\u001b[0m\n\u001b[1;32m      9\u001b[0m         \u001b[0mfolder\u001b[0m \u001b[0;34m=\u001b[0m \u001b[0mStratifiedKFold\u001b[0m\u001b[0;34m(\u001b[0m\u001b[0mn_splits\u001b[0m\u001b[0;34m=\u001b[0m\u001b[0;36m3\u001b[0m\u001b[0;34m)\u001b[0m\u001b[0;34m\u001b[0m\u001b[0;34m\u001b[0m\u001b[0m\n\u001b[0;32m---> 10\u001b[0;31m         \u001b[0;32mfor\u001b[0m \u001b[0mtrain_index\u001b[0m\u001b[0;34m,\u001b[0m \u001b[0mtest_index\u001b[0m \u001b[0;32min\u001b[0m \u001b[0mfolder\u001b[0m\u001b[0;34m.\u001b[0m\u001b[0msplit\u001b[0m\u001b[0;34m(\u001b[0m\u001b[0mX\u001b[0m\u001b[0;34m,\u001b[0m \u001b[0my\u001b[0m\u001b[0;34m)\u001b[0m\u001b[0;34m:\u001b[0m\u001b[0;34m\u001b[0m\u001b[0;34m\u001b[0m\u001b[0m\n\u001b[0m\u001b[1;32m     11\u001b[0m             \u001b[0mX_train\u001b[0m\u001b[0;34m,\u001b[0m \u001b[0mX_test\u001b[0m \u001b[0;34m=\u001b[0m \u001b[0mX\u001b[0m\u001b[0;34m[\u001b[0m\u001b[0mtrain_index\u001b[0m\u001b[0;34m]\u001b[0m\u001b[0;34m,\u001b[0m \u001b[0mX\u001b[0m\u001b[0;34m[\u001b[0m\u001b[0mtest_index\u001b[0m\u001b[0;34m]\u001b[0m\u001b[0;34m\u001b[0m\u001b[0;34m\u001b[0m\u001b[0m\n\u001b[1;32m     12\u001b[0m             \u001b[0my_train\u001b[0m\u001b[0;34m,\u001b[0m \u001b[0my_test\u001b[0m \u001b[0;34m=\u001b[0m \u001b[0my\u001b[0m\u001b[0;34m[\u001b[0m\u001b[0mtrain_index\u001b[0m\u001b[0;34m]\u001b[0m\u001b[0;34m,\u001b[0m \u001b[0my\u001b[0m\u001b[0;34m[\u001b[0m\u001b[0mtest_index\u001b[0m\u001b[0;34m]\u001b[0m\u001b[0;34m\u001b[0m\u001b[0;34m\u001b[0m\u001b[0m\n",
      "\u001b[0;32m~/.anaconda3/envs/curry/lib/python3.7/site-packages/sklearn/model_selection/_split.py\u001b[0m in \u001b[0;36msplit\u001b[0;34m(self, X, y, groups)\u001b[0m\n\u001b[1;32m    329\u001b[0m         \"\"\"\n\u001b[1;32m    330\u001b[0m         \u001b[0mX\u001b[0m\u001b[0;34m,\u001b[0m \u001b[0my\u001b[0m\u001b[0;34m,\u001b[0m \u001b[0mgroups\u001b[0m \u001b[0;34m=\u001b[0m \u001b[0mindexable\u001b[0m\u001b[0;34m(\u001b[0m\u001b[0mX\u001b[0m\u001b[0;34m,\u001b[0m \u001b[0my\u001b[0m\u001b[0;34m,\u001b[0m \u001b[0mgroups\u001b[0m\u001b[0;34m)\u001b[0m\u001b[0;34m\u001b[0m\u001b[0;34m\u001b[0m\u001b[0m\n\u001b[0;32m--> 331\u001b[0;31m         \u001b[0mn_samples\u001b[0m \u001b[0;34m=\u001b[0m \u001b[0m_num_samples\u001b[0m\u001b[0;34m(\u001b[0m\u001b[0mX\u001b[0m\u001b[0;34m)\u001b[0m\u001b[0;34m\u001b[0m\u001b[0;34m\u001b[0m\u001b[0m\n\u001b[0m\u001b[1;32m    332\u001b[0m         \u001b[0;32mif\u001b[0m \u001b[0mself\u001b[0m\u001b[0;34m.\u001b[0m\u001b[0mn_splits\u001b[0m \u001b[0;34m>\u001b[0m \u001b[0mn_samples\u001b[0m\u001b[0;34m:\u001b[0m\u001b[0;34m\u001b[0m\u001b[0;34m\u001b[0m\u001b[0m\n\u001b[1;32m    333\u001b[0m             raise ValueError(\n",
      "\u001b[0;32m~/.anaconda3/envs/curry/lib/python3.7/site-packages/sklearn/utils/validation.py\u001b[0m in \u001b[0;36m_num_samples\u001b[0;34m(x)\u001b[0m\n\u001b[1;32m    263\u001b[0m             \u001b[0mx\u001b[0m \u001b[0;34m=\u001b[0m \u001b[0mnp\u001b[0m\u001b[0;34m.\u001b[0m\u001b[0masarray\u001b[0m\u001b[0;34m(\u001b[0m\u001b[0mx\u001b[0m\u001b[0;34m)\u001b[0m\u001b[0;34m\u001b[0m\u001b[0;34m\u001b[0m\u001b[0m\n\u001b[1;32m    264\u001b[0m         \u001b[0;32melse\u001b[0m\u001b[0;34m:\u001b[0m\u001b[0;34m\u001b[0m\u001b[0;34m\u001b[0m\u001b[0m\n\u001b[0;32m--> 265\u001b[0;31m             \u001b[0;32mraise\u001b[0m \u001b[0mTypeError\u001b[0m\u001b[0;34m(\u001b[0m\u001b[0mmessage\u001b[0m\u001b[0;34m)\u001b[0m\u001b[0;34m\u001b[0m\u001b[0;34m\u001b[0m\u001b[0m\n\u001b[0m\u001b[1;32m    266\u001b[0m \u001b[0;34m\u001b[0m\u001b[0m\n\u001b[1;32m    267\u001b[0m     \u001b[0;32mif\u001b[0m \u001b[0mhasattr\u001b[0m\u001b[0;34m(\u001b[0m\u001b[0mx\u001b[0m\u001b[0;34m,\u001b[0m \u001b[0;34m\"shape\"\u001b[0m\u001b[0;34m)\u001b[0m \u001b[0;32mand\u001b[0m \u001b[0mx\u001b[0m\u001b[0;34m.\u001b[0m\u001b[0mshape\u001b[0m \u001b[0;32mis\u001b[0m \u001b[0;32mnot\u001b[0m \u001b[0;32mNone\u001b[0m\u001b[0;34m:\u001b[0m\u001b[0;34m\u001b[0m\u001b[0;34m\u001b[0m\u001b[0m\n",
      "\u001b[0;31mTypeError\u001b[0m: Expected sequence or array-like, got <class 'NoneType'>"
     ]
    }
   ],
   "source": [
    "runner.run()"
   ]
  },
  {
   "cell_type": "code",
   "execution_count": 5,
   "id": "1aae0580",
   "metadata": {},
   "outputs": [],
   "source": [
    "df = runner.loader.sublessons_w_content()"
   ]
  },
  {
   "cell_type": "code",
   "execution_count": 7,
   "id": "b7d227e8",
   "metadata": {},
   "outputs": [
    {
     "data": {
      "text/plain": [
       "0        5\n",
       "1        5\n",
       "2        5\n",
       "3        5\n",
       "4        6\n",
       "        ..\n",
       "11685    6\n",
       "11686    6\n",
       "11687    6\n",
       "11688    6\n",
       "11689    6\n",
       "Name: klass, Length: 11667, dtype: category\n",
       "Categories (9, int64): [5, 6, 7, 8, ..., 10, 11, 12, 13]"
      ]
     },
     "execution_count": 7,
     "metadata": {},
     "output_type": "execute_result"
    }
   ],
   "source": [
    "df.klass.astype('category')"
   ]
  },
  {
   "cell_type": "code",
   "execution_count": 2,
   "id": "87b8b4ab",
   "metadata": {},
   "outputs": [],
   "source": [
    "from curry.loader import Loader\n",
    "from curry.clean import Cleaner\n",
    "from curry.features import Extractor"
   ]
  },
  {
   "cell_type": "code",
   "execution_count": 3,
   "id": "0b58b6bb",
   "metadata": {},
   "outputs": [],
   "source": [
    "loader = Loader()\n",
    "extractor = Extractor('tf')"
   ]
  },
  {
   "cell_type": "code",
   "execution_count": 4,
   "id": "df949412",
   "metadata": {},
   "outputs": [
    {
     "data": {
      "text/plain": [
       "<11667x7684 sparse matrix of type '<class 'numpy.int64'>'\n",
       "\twith 229090 stored elements in Compressed Sparse Row format>"
      ]
     },
     "execution_count": 4,
     "metadata": {},
     "output_type": "execute_result"
    }
   ],
   "source": [
    "extractor.keywords(loader.sublessons_w_content().content)"
   ]
  },
  {
   "cell_type": "code",
   "execution_count": 5,
   "id": "c5a6a86a",
   "metadata": {},
   "outputs": [
    {
     "data": {
      "text/plain": [
       "<11667x16 sparse matrix of type '<class 'numpy.float64'>'\n",
       "\twith 11667 stored elements in Compressed Sparse Row format>"
      ]
     },
     "execution_count": 5,
     "metadata": {},
     "output_type": "execute_result"
    }
   ],
   "source": [
    "extractor.land_one_hot(loader.sublessons_w_content().land)"
   ]
  },
  {
   "cell_type": "code",
   "execution_count": 6,
   "id": "9b38ac9b",
   "metadata": {},
   "outputs": [],
   "source": [
    "from scipy.sparse import hstack"
   ]
  },
  {
   "cell_type": "code",
   "execution_count": 7,
   "id": "b6619555",
   "metadata": {},
   "outputs": [
    {
     "data": {
      "text/plain": [
       "<11667x7700 sparse matrix of type '<class 'numpy.float64'>'\n",
       "\twith 240757 stored elements in COOrdinate format>"
      ]
     },
     "execution_count": 7,
     "metadata": {},
     "output_type": "execute_result"
    }
   ],
   "source": [
    "hstack([Out[4], Out[5]])"
   ]
  },
  {
   "cell_type": "code",
   "execution_count": 5,
   "id": "2335c14d",
   "metadata": {},
   "outputs": [],
   "source": [
    "import xgboost as xgb"
   ]
  },
  {
   "cell_type": "code",
   "execution_count": null,
   "id": "290b554f",
   "metadata": {},
   "outputs": [],
   "source": []
  },
  {
   "cell_type": "code",
   "execution_count": null,
   "id": "9363b891",
   "metadata": {},
   "outputs": [],
   "source": []
  },
  {
   "cell_type": "code",
   "execution_count": null,
   "id": "23bc54bf",
   "metadata": {},
   "outputs": [],
   "source": [
    "extractor"
   ]
  },
  {
   "cell_type": "code",
   "execution_count": 7,
   "id": "3a2e0ee9",
   "metadata": {},
   "outputs": [
    {
     "data": {
      "text/plain": [
       "'Bei den Aufgaben zur Dichte lässt sich das Volumen mancher (sehr einfacher) Körper rechnerisch ermitteln.  Im Folgenden sind die Formeln für einige wichtige Umfangs-, Flächen- und Volumenberechnungen angegeben'"
      ]
     },
     "execution_count": 7,
     "metadata": {},
     "output_type": "execute_result"
    }
   ],
   "source": [
    "cleaner.clean(df.content.iloc[0])"
   ]
  },
  {
   "cell_type": "code",
   "execution_count": null,
   "id": "1d105f01",
   "metadata": {},
   "outputs": [],
   "source": []
  },
  {
   "cell_type": "code",
   "execution_count": 6,
   "id": "19530e69",
   "metadata": {},
   "outputs": [],
   "source": [
    "import pandas as pd\n",
    "import pickle"
   ]
  },
  {
   "cell_type": "code",
   "execution_count": 7,
   "id": "e6c5fad0",
   "metadata": {},
   "outputs": [],
   "source": [
    "lessons = pd.read_csv('../data/lessons.csv', index_col=0)"
   ]
  },
  {
   "cell_type": "code",
   "execution_count": 8,
   "id": "564539ad",
   "metadata": {},
   "outputs": [],
   "source": [
    "detail_pages = pd.read_csv('../data/detail_pages.csv', index_col=0)"
   ]
  },
  {
   "cell_type": "code",
   "execution_count": 9,
   "id": "afa590a8",
   "metadata": {},
   "outputs": [],
   "source": [
    "sublessons = pd.merge(\n",
    "        lessons, \n",
    "        detail_pages, \n",
    "        left_on='url', right_on='lesson_url').drop(columns='lesson_url')"
   ]
  },
  {
   "cell_type": "code",
   "execution_count": 12,
   "id": "03e0beb5",
   "metadata": {},
   "outputs": [
    {
     "data": {
      "text/plain": [
       "(9,)"
      ]
     },
     "execution_count": 12,
     "metadata": {},
     "output_type": "execute_result"
    }
   ],
   "source": [
    "sublessons.klass.value_counts().shape"
   ]
  },
  {
   "cell_type": "code",
   "execution_count": 13,
   "id": "a0ab11f5",
   "metadata": {},
   "outputs": [
    {
     "data": {
      "text/html": [
       "<div>\n",
       "<style scoped>\n",
       "    .dataframe tbody tr th:only-of-type {\n",
       "        vertical-align: middle;\n",
       "    }\n",
       "\n",
       "    .dataframe tbody tr th {\n",
       "        vertical-align: top;\n",
       "    }\n",
       "\n",
       "    .dataframe thead th {\n",
       "        text-align: right;\n",
       "    }\n",
       "</style>\n",
       "<table border=\"1\" class=\"dataframe\">\n",
       "  <thead>\n",
       "    <tr style=\"text-align: right;\">\n",
       "      <th></th>\n",
       "      <th>land</th>\n",
       "      <th>klass</th>\n",
       "      <th>name</th>\n",
       "      <th>url</th>\n",
       "      <th>lessons_cat</th>\n",
       "      <th>grundwissen_url</th>\n",
       "    </tr>\n",
       "  </thead>\n",
       "  <tbody>\n",
       "    <tr>\n",
       "      <th>0</th>\n",
       "      <td>baden-wuerttemberg</td>\n",
       "      <td>5</td>\n",
       "      <td>Masse, Volumen und Dichte</td>\n",
       "      <td>/mechanik/masse-volumen-und-dichte</td>\n",
       "      <td>mechanik</td>\n",
       "      <td>/mechanik/masse-volumen-und-dichte/grundwissen...</td>\n",
       "    </tr>\n",
       "    <tr>\n",
       "      <th>1</th>\n",
       "      <td>baden-wuerttemberg</td>\n",
       "      <td>5</td>\n",
       "      <td>Masse, Volumen und Dichte</td>\n",
       "      <td>/mechanik/masse-volumen-und-dichte</td>\n",
       "      <td>mechanik</td>\n",
       "      <td>/mechanik/masse-volumen-und-dichte/grundwissen...</td>\n",
       "    </tr>\n",
       "  </tbody>\n",
       "</table>\n",
       "</div>"
      ],
      "text/plain": [
       "                 land  klass                       name  \\\n",
       "0  baden-wuerttemberg      5  Masse, Volumen und Dichte   \n",
       "1  baden-wuerttemberg      5  Masse, Volumen und Dichte   \n",
       "\n",
       "                                  url lessons_cat  \\\n",
       "0  /mechanik/masse-volumen-und-dichte    mechanik   \n",
       "1  /mechanik/masse-volumen-und-dichte    mechanik   \n",
       "\n",
       "                                     grundwissen_url  \n",
       "0  /mechanik/masse-volumen-und-dichte/grundwissen...  \n",
       "1  /mechanik/masse-volumen-und-dichte/grundwissen...  "
      ]
     },
     "execution_count": 13,
     "metadata": {},
     "output_type": "execute_result"
    }
   ],
   "source": [
    "sublessons.head(2)"
   ]
  },
  {
   "cell_type": "code",
   "execution_count": null,
   "id": "720a7195",
   "metadata": {},
   "outputs": [],
   "source": [
    "from curry"
   ]
  },
  {
   "cell_type": "code",
   "execution_count": 28,
   "id": "3334fb60",
   "metadata": {},
   "outputs": [],
   "source": [
    "import os"
   ]
  },
  {
   "cell_type": "code",
   "execution_count": 29,
   "id": "4ce9f795",
   "metadata": {},
   "outputs": [
    {
     "data": {
      "text/plain": [
       "556"
      ]
     },
     "execution_count": 29,
     "metadata": {},
     "output_type": "execute_result"
    }
   ],
   "source": [
    "len(os.listdir('../data/grundwissen_pages/'))"
   ]
  },
  {
   "cell_type": "code",
   "execution_count": 24,
   "id": "2392ab63",
   "metadata": {},
   "outputs": [],
   "source": [
    "\n",
    "\n",
    "def to_kws(content):\n",
    "    ranked_kws = yake.KeywordExtractor(lan='de').extract_keywords(content)\n",
    "    sorted_kws = sorted(ranked_kws, key=lambda x: x[1], reverse=True)\n",
    "    return [kw for (kw, _) in sorted_kws]\n"
   ]
  },
  {
   "cell_type": "code",
   "execution_count": 27,
   "id": "6162a1a0",
   "metadata": {},
   "outputs": [
    {
     "data": {
      "text/plain": [
       "0        <!DOCTYPE html>\\n<html lang=\"de\" dir=\"ltr\">\\n<...\n",
       "1        <!DOCTYPE html>\\n<html lang=\"de\" dir=\"ltr\">\\n<...\n",
       "2        <!DOCTYPE html>\\n<html lang=\"de\" dir=\"ltr\">\\n<...\n",
       "3        <!DOCTYPE html>\\n<html lang=\"de\" dir=\"ltr\">\\n<...\n",
       "4        <!DOCTYPE html>\\n<html lang=\"de\" dir=\"ltr\">\\n<...\n",
       "                               ...                        \n",
       "11685    <!DOCTYPE html>\\n<html lang=\"de\" dir=\"ltr\">\\n<...\n",
       "11686    <!DOCTYPE html>\\n<html lang=\"de\" dir=\"ltr\">\\n<...\n",
       "11687    <!DOCTYPE html>\\n<html lang=\"de\" dir=\"ltr\">\\n<...\n",
       "11688    <!DOCTYPE html>\\n<html lang=\"de\" dir=\"ltr\">\\n<...\n",
       "11689    <!DOCTYPE html>\\n<html lang=\"de\" dir=\"ltr\">\\n<...\n",
       "Name: grundwissen_url, Length: 11690, dtype: object"
      ]
     },
     "execution_count": 27,
     "metadata": {},
     "output_type": "execute_result"
    }
   ],
   "source": [
    "sublessons.grundwissen_url.apply(read_file)"
   ]
  },
  {
   "cell_type": "code",
   "execution_count": null,
   "id": "30867e94",
   "metadata": {},
   "outputs": [],
   "source": [
    "!ls ../data/grundwissen_pages/SLASHmechanikSLASHmasse-volumen-und-dicht"
   ]
  },
  {
   "cell_type": "code",
   "execution_count": 18,
   "id": "e0362c49",
   "metadata": {},
   "outputs": [
    {
     "ename": "ValueError",
     "evalue": "unsupported pickle protocol: 5",
     "output_type": "error",
     "traceback": [
      "\u001b[0;31m---------------------------------------------------------------------------\u001b[0m",
      "\u001b[0;31mValueError\u001b[0m                                Traceback (most recent call last)",
      "\u001b[0;32m/tmp/ipykernel_190835/1310821253.py\u001b[0m in \u001b[0;36m<module>\u001b[0;34m\u001b[0m\n\u001b[1;32m      1\u001b[0m \u001b[0;32mwith\u001b[0m \u001b[0mopen\u001b[0m\u001b[0;34m(\u001b[0m\u001b[0;34m'../data/keywords.pkl'\u001b[0m\u001b[0;34m,\u001b[0m \u001b[0;34m'rb'\u001b[0m\u001b[0;34m)\u001b[0m \u001b[0;32mas\u001b[0m \u001b[0mf\u001b[0m\u001b[0;34m:\u001b[0m\u001b[0;34m\u001b[0m\u001b[0;34m\u001b[0m\u001b[0m\n\u001b[0;32m----> 2\u001b[0;31m     \u001b[0mkw\u001b[0m \u001b[0;34m=\u001b[0m \u001b[0mpickle\u001b[0m\u001b[0;34m.\u001b[0m\u001b[0mload\u001b[0m\u001b[0;34m(\u001b[0m\u001b[0mf\u001b[0m\u001b[0;34m)\u001b[0m\u001b[0;34m\u001b[0m\u001b[0;34m\u001b[0m\u001b[0m\n\u001b[0m",
      "\u001b[0;31mValueError\u001b[0m: unsupported pickle protocol: 5"
     ]
    }
   ],
   "source": [
    "with open('../data/keywords.pkl', 'rb') as f:\n",
    "    kw = pickle.load(f)"
   ]
  },
  {
   "cell_type": "code",
   "execution_count": null,
   "id": "dff2b1c8",
   "metadata": {},
   "outputs": [],
   "source": []
  }
 ],
 "metadata": {
  "kernelspec": {
   "display_name": "Python 3 (ipykernel)",
   "language": "python",
   "name": "python3"
  },
  "language_info": {
   "codemirror_mode": {
    "name": "ipython",
    "version": 3
   },
   "file_extension": ".py",
   "mimetype": "text/x-python",
   "name": "python",
   "nbconvert_exporter": "python",
   "pygments_lexer": "ipython3",
   "version": "3.7.11"
  }
 },
 "nbformat": 4,
 "nbformat_minor": 5
}
