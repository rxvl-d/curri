{
 "cells": [
  {
   "cell_type": "code",
   "execution_count": 24,
   "id": "b3221539",
   "metadata": {},
   "outputs": [],
   "source": [
    "import sys\n",
    "sys.path.append('../')\n"
   ]
  },
  {
   "cell_type": "code",
   "execution_count": 29,
   "id": "9bf49df0",
   "metadata": {},
   "outputs": [],
   "source": [
    "import pandas as pd\n",
    "import pickle\n",
    "from tqdm import tqdm\n",
    "import requests"
   ]
  },
  {
   "cell_type": "code",
   "execution_count": 3,
   "id": "176320ac",
   "metadata": {},
   "outputs": [],
   "source": [
    "from curry.km import DBPediaPhysicsResources\n",
    "from curry.babelfy import Babelfier"
   ]
  },
  {
   "cell_type": "code",
   "execution_count": 4,
   "id": "1d5c1928",
   "metadata": {},
   "outputs": [],
   "source": [
    "phy = DBPediaPhysicsResources()"
   ]
  },
  {
   "cell_type": "code",
   "execution_count": 5,
   "id": "af6c5d04",
   "metadata": {},
   "outputs": [],
   "source": [
    "babel = phy.relevant_annotations(annotation_source='babel')"
   ]
  },
  {
   "cell_type": "code",
   "execution_count": 6,
   "id": "0b4f8869",
   "metadata": {},
   "outputs": [],
   "source": [
    "wikify = phy.relevant_annotations(annotation_source='wikifier')"
   ]
  },
  {
   "cell_type": "code",
   "execution_count": 7,
   "id": "7dfa6bff",
   "metadata": {},
   "outputs": [
    {
     "data": {
      "text/plain": [
       "539"
      ]
     },
     "execution_count": 7,
     "metadata": {},
     "output_type": "execute_result"
    }
   ],
   "source": [
    "len(babel)"
   ]
  },
  {
   "cell_type": "code",
   "execution_count": 8,
   "id": "d52c7729",
   "metadata": {},
   "outputs": [
    {
     "data": {
      "text/plain": [
       "539"
      ]
     },
     "execution_count": 8,
     "metadata": {},
     "output_type": "execute_result"
    }
   ],
   "source": [
    "len(wikify)"
   ]
  },
  {
   "cell_type": "code",
   "execution_count": 9,
   "id": "99542694",
   "metadata": {},
   "outputs": [
    {
     "data": {
      "text/plain": [
       "http://dbpedia.org/resource/Thermodynamic_free_energy      452\n",
       "http://dbpedia.org/resource/Force                          410\n",
       "http://dbpedia.org/resource/Physical_body                  390\n",
       "http://dbpedia.org/resource/Light                          349\n",
       "http://dbpedia.org/resource/Electric_charge                318\n",
       "                                                          ... \n",
       "http://dbpedia.org/resource/Annotation                       1\n",
       "http://dbpedia.org/resource/Enzyme                           1\n",
       "http://dbpedia.org/resource/Cereal                           1\n",
       "http://dbpedia.org/resource/Motte-and-bailey_castle          1\n",
       "http://dbpedia.org/resource/Cost-effectiveness_analysis      1\n",
       "Length: 2852, dtype: int64"
      ]
     },
     "execution_count": 9,
     "metadata": {},
     "output_type": "execute_result"
    }
   ],
   "source": [
    "pd.Series([r for url in babel for r in babel[url]]).value_counts().sort_values(ascending=False)"
   ]
  },
  {
   "cell_type": "markdown",
   "id": "1d8d777d",
   "metadata": {},
   "source": [
    "## Get DBPedia Resources for Elixier"
   ]
  },
  {
   "cell_type": "code",
   "execution_count": null,
   "id": "2b20c470",
   "metadata": {},
   "outputs": [],
   "source": []
  },
  {
   "cell_type": "code",
   "execution_count": 10,
   "id": "4ba22e18",
   "metadata": {},
   "outputs": [],
   "source": [
    "elixier = pd.read_csv('../data/elixier_physics_all.csv', index_col=0)"
   ]
  },
  {
   "cell_type": "code",
   "execution_count": 11,
   "id": "51ff028a",
   "metadata": {},
   "outputs": [],
   "source": [
    "with open('../data/elixier_physics_all_responses.pkl', 'rb') as f:\n",
    "    elixier_responses = pickle.load(f)"
   ]
  },
  {
   "cell_type": "code",
   "execution_count": 12,
   "id": "70e76e42",
   "metadata": {},
   "outputs": [],
   "source": [
    "success_mask = pd.Series(elixier_responses).\\\n",
    "    apply(lambda r: (not isinstance(r, Exception)) and\n",
    "          (r.status_code == 200))\n",
    "elixier = elixier[success_mask]"
   ]
  },
  {
   "cell_type": "code",
   "execution_count": 13,
   "id": "8b298bf3",
   "metadata": {},
   "outputs": [],
   "source": [
    "text_columns = ['description',\n",
    "                'titel für schüler', \n",
    "                'lange beschreibung', \n",
    "                'beschreibung für schüler', \n",
    "                'schlagwörter', \n",
    "                'freie schlagwörter']"
   ]
  },
  {
   "cell_type": "code",
   "execution_count": 14,
   "id": "ec5bd085",
   "metadata": {},
   "outputs": [],
   "source": [
    "def clean_description(desc):\n",
    "    if 'Lernressourcentyp' in desc:\n",
    "        return desc.split('; Lernressourcentyp')[0]\n",
    "    elif 'margin-' in desc: \n",
    "        return None\n",
    "    else:\n",
    "        return desc"
   ]
  },
  {
   "cell_type": "code",
   "execution_count": 15,
   "id": "ecfed5f6",
   "metadata": {},
   "outputs": [],
   "source": [
    "descriptions = elixier.description[elixier.description.notna()].apply(clean_description)\n",
    "descriptions = descriptions[descriptions.notna()]\n",
    "descriptions = descriptions[descriptions.apply(lambda x: len(x.strip())) >= 2]"
   ]
  },
  {
   "cell_type": "code",
   "execution_count": null,
   "id": "a34764ea",
   "metadata": {},
   "outputs": [],
   "source": []
  },
  {
   "cell_type": "code",
   "execution_count": 16,
   "id": "184d213d",
   "metadata": {},
   "outputs": [],
   "source": [
    "import sparql_dataframe\n",
    "from functools import lru_cache\n",
    "\n",
    "def get_rdf_type(resource, depth):\n",
    "    endpoint = \"http://dbpedia.org/sparql\"\n",
    "\n",
    "    q = \"\"\"\n",
    "        prefix dbr: <http://dbpedia.org/resource/> \n",
    "        prefix dbo: <http://dbpedia.org/ontology/>\n",
    "        prefix skos: <http://www.w3.org/2004/02/skos/core#>\n",
    "\n",
    "        select distinct ?subcategory  where {\n",
    "          <\"\"\" + resource + \"\"\"> dbo:wikiPageRedirects* ?redirect.\n",
    "          ?redirect <http://purl.org/dc/terms/subject> ?category.\n",
    "          ?category \"\"\" + '?/'.join(['skos:broader' for _ in range(depth)]) + \"\"\" ?subcategory\n",
    "        }\n",
    "    \"\"\"\n",
    "    df = sparql_dataframe.get(endpoint, q)\n",
    "    return df.subcategory.values"
   ]
  },
  {
   "cell_type": "code",
   "execution_count": 17,
   "id": "e5738667",
   "metadata": {},
   "outputs": [],
   "source": [
    "def babelfy_grouped(descriptions):\n",
    "    to_babelfy = []\n",
    "    group = []\n",
    "    mappings = {}\n",
    "\n",
    "    for description_index in descriptions.index:\n",
    "        desc = descriptions.loc[description_index]\n",
    "        group.append((description_index, desc))\n",
    "        if len(group) == 3:\n",
    "            joined_index = len(to_babelfy)\n",
    "            out = ''\n",
    "            for desc_index, desc in group:\n",
    "                start = len(out)\n",
    "                out += desc\n",
    "                out += ' '\n",
    "                end = len(out)\n",
    "                mappings[desc_index] = (joined_index, start, end)\n",
    "            to_babelfy.append(out)\n",
    "            group = []\n",
    "\n",
    "    joined_index = len(to_babelfy)\n",
    "    out = ''\n",
    "    for desc_index, desc in group:\n",
    "        start = len(out)\n",
    "        out += desc\n",
    "        out += '. '\n",
    "        end = len(out)\n",
    "        mappings[desc_index] = (joined_index, start, end)\n",
    "    to_babelfy.append(out)\n",
    "    group = []\n",
    "    #babelfy\n",
    "    annotations = []\n",
    "\n",
    "    for b in tqdm(to_babelfy):\n",
    "        annotations.append(babelfier.bab(b))\n",
    "        \n",
    "    # associate annotations back to descriptions\n",
    "    desc_id_to_annotation = dict()\n",
    "    for desc_id in mappings:\n",
    "        desc_id_to_annotation[desc_id] = []\n",
    "        group_id, start, end = mappings[desc_id]\n",
    "        desc = to_babelfy[group_id][start: end]\n",
    "        for ann in annotations[group_id]:\n",
    "            ann_start, ann_end = ann['start'], ann['end']\n",
    "            if (ann_start >= start) and (ann_end <= end):\n",
    "                desc_id_to_annotation[desc_id].append(ann)\n",
    "                \n",
    "    # check that most annotation's text is in the description\n",
    "    \n",
    "    errors = []\n",
    "    desc_to_annotation = dict()\n",
    "    for desc_id in tqdm(desc_id_to_annotation):\n",
    "        corrected = []\n",
    "        for ann in desc_id_to_annotation[desc_id]:\n",
    "            if ann['text'] not in descriptions.loc[desc_id]:\n",
    "                errors.append(f'{ann[\"text\"]} not in {descriptions.loc[desc_id]}')\n",
    "            else:\n",
    "                corrected.append(ann)\n",
    "        desc_to_annotation[descriptions.loc[desc_id]] = corrected\n",
    "        desc_id_to_annotation[desc_id] = corrected\n",
    "    \n",
    "    return desc_id_to_annotation, errors\n"
   ]
  },
  {
   "cell_type": "code",
   "execution_count": 18,
   "id": "5d429ecc",
   "metadata": {},
   "outputs": [],
   "source": [
    "\n",
    "with open('../data/elixier_id_to_annotation.pkl', 'rb') as f:\n",
    "    desc_id_to_annotation = pickle.load(f)"
   ]
  },
  {
   "cell_type": "code",
   "execution_count": 19,
   "id": "2f11dd44",
   "metadata": {},
   "outputs": [],
   "source": [
    "with open('../data/elixier_annotations_categories.pkl', 'rb') as f:\n",
    "    entity_to_categories_depth_5 = pickle.load(f)[5]"
   ]
  },
  {
   "cell_type": "code",
   "execution_count": 20,
   "id": "112839fd",
   "metadata": {},
   "outputs": [],
   "source": [
    "\n",
    "filtered_categories = {e: [cat for cat in entity_to_categories_depth_5[e] if phy.is_accepted_topics(cat)] \n",
    "                       for e in entity_to_categories_depth_5}"
   ]
  },
  {
   "cell_type": "code",
   "execution_count": 21,
   "id": "757e4c23",
   "metadata": {},
   "outputs": [],
   "source": [
    "import numpy as np"
   ]
  },
  {
   "cell_type": "code",
   "execution_count": 22,
   "id": "013c76b8",
   "metadata": {},
   "outputs": [],
   "source": [
    "filtered_annotations = {did: [ann for ann in desc_id_to_annotation[did] \n",
    "       if ann.get('DBpediaURL') and len(filtered_categories[ann['DBpediaURL']])] \n",
    " for did in desc_id_to_annotation}"
   ]
  },
  {
   "cell_type": "markdown",
   "id": "9c3e75a0",
   "metadata": {},
   "source": [
    "# Load Leifi"
   ]
  },
  {
   "cell_type": "code",
   "execution_count": 23,
   "id": "5f0ddb3c",
   "metadata": {},
   "outputs": [],
   "source": [
    "from curry.loader import Loader\n"
   ]
  },
  {
   "cell_type": "code",
   "execution_count": 20,
   "id": "79cefbdd",
   "metadata": {},
   "outputs": [
    {
     "data": {
      "text/plain": [
       "0       None\n",
       "1       None\n",
       "2       None\n",
       "3       None\n",
       "4       None\n",
       "        ... \n",
       "2893    None\n",
       "2894    None\n",
       "2896    None\n",
       "2897    None\n",
       "2898    None\n",
       "Name: description, Length: 2705, dtype: object"
      ]
     },
     "execution_count": 20,
     "metadata": {},
     "output_type": "execute_result"
    }
   ],
   "source": [
    "elixier[annotations] = [desc_id_to_annotation[did] for did in descriptions.index]"
   ]
  },
  {
   "cell_type": "code",
   "execution_count": 231,
   "id": "bcb8956b",
   "metadata": {},
   "outputs": [],
   "source": [
    "\n",
    "filtered_categories = {e: [cat for cat in entity_to_categories[e] if phy.is_accepted_topics(cat)] \n",
    "                       for e in entity_to_categories}"
   ]
  },
  {
   "cell_type": "code",
   "execution_count": 215,
   "id": "143b0659",
   "metadata": {},
   "outputs": [],
   "source": [
    "import numpy as np"
   ]
  },
  {
   "cell_type": "code",
   "execution_count": 216,
   "id": "c86ca08d",
   "metadata": {},
   "outputs": [
    {
     "data": {
      "text/plain": [
       "287.28235579253516"
      ]
     },
     "execution_count": 216,
     "metadata": {},
     "output_type": "execute_result"
    }
   ],
   "source": [
    "np.mean(list(map(len, entity_to_categories.values())))"
   ]
  },
  {
   "cell_type": "code",
   "execution_count": null,
   "id": "59c5080e",
   "metadata": {},
   "outputs": [],
   "source": []
  }
 ],
 "metadata": {
  "kernelspec": {
   "display_name": "Python 3 (ipykernel)",
   "language": "python",
   "name": "python3"
  },
  "language_info": {
   "codemirror_mode": {
    "name": "ipython",
    "version": 3
   },
   "file_extension": ".py",
   "mimetype": "text/x-python",
   "name": "python",
   "nbconvert_exporter": "python",
   "pygments_lexer": "ipython3",
   "version": "3.7.11"
  }
 },
 "nbformat": 4,
 "nbformat_minor": 5
}
