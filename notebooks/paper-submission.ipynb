{
 "cells": [
  {
   "cell_type": "code",
   "execution_count": 1,
   "id": "b18a0218-d30f-4295-b2ac-c20baafd7685",
   "metadata": {},
   "outputs": [],
   "source": [
    "import sys\n",
    "sys.path.append('..')"
   ]
  },
  {
   "cell_type": "code",
   "execution_count": 2,
   "id": "7d38a9ab-8c52-4f92-8284-0cb6d271ce7b",
   "metadata": {},
   "outputs": [],
   "source": [
    "from tqdm import tqdm\n",
    "import pandas as pd\n",
    "import pickle\n",
    "from scipy.stats import chisquare\n",
    "from matplotlib import pyplot as plt"
   ]
  },
  {
   "cell_type": "code",
   "execution_count": 3,
   "id": "be2499d3-8ebd-4ea1-b22e-5f89f00f5c85",
   "metadata": {},
   "outputs": [],
   "source": [
    "from curry.loader import Loader"
   ]
  },
  {
   "cell_type": "code",
   "execution_count": 4,
   "id": "0d6adb67-81b2-408d-9157-49baa27e94fb",
   "metadata": {},
   "outputs": [],
   "source": [
    "with open('../data/cache/leifi_enough_text.pkl', 'rb') as f:\n",
    "    leifi = pickle.load(f)"
   ]
  },
  {
   "cell_type": "markdown",
   "id": "1fe1b3f1-7c02-4542-b7e1-1fcfa19ad89e",
   "metadata": {
    "jp-MarkdownHeadingCollapsed": true,
    "tags": []
   },
   "source": [
    "### Basic Info"
   ]
  },
  {
   "cell_type": "code",
   "execution_count": 21,
   "id": "9e1dc5e6-0613-4a16-9ffc-769e8a42b7bb",
   "metadata": {},
   "outputs": [
    {
     "data": {
      "text/html": [
       "<div>\n",
       "<style scoped>\n",
       "    .dataframe tbody tr th:only-of-type {\n",
       "        vertical-align: middle;\n",
       "    }\n",
       "\n",
       "    .dataframe tbody tr th {\n",
       "        vertical-align: top;\n",
       "    }\n",
       "\n",
       "    .dataframe thead th {\n",
       "        text-align: right;\n",
       "    }\n",
       "</style>\n",
       "<table border=\"1\" class=\"dataframe\">\n",
       "  <thead>\n",
       "    <tr style=\"text-align: right;\">\n",
       "      <th></th>\n",
       "      <th>berlin</th>\n",
       "      <th>hessen</th>\n",
       "    </tr>\n",
       "    <tr>\n",
       "      <th>grundwissen_url</th>\n",
       "      <th></th>\n",
       "      <th></th>\n",
       "    </tr>\n",
       "  </thead>\n",
       "  <tbody>\n",
       "    <tr>\n",
       "      <th>/akustik/akustische-phaenomene/grundwissen/saitenschwingung</th>\n",
       "      <td>[5, 6, 9, 10]</td>\n",
       "      <td>[8]</td>\n",
       "    </tr>\n",
       "    <tr>\n",
       "      <th>/akustik/akustische-phaenomene/grundwissen/schall-schallquellen-und-schallempfaenger</th>\n",
       "      <td>[5, 6, 9, 10]</td>\n",
       "      <td>[8]</td>\n",
       "    </tr>\n",
       "    <tr>\n",
       "      <th>/akustik/akustische-phaenomene/grundwissen/schwingungen-der-luftsaeule-pfeifen</th>\n",
       "      <td>[5, 6, 9, 10]</td>\n",
       "      <td>[8]</td>\n",
       "    </tr>\n",
       "    <tr>\n",
       "      <th>/akustik/akustische-phaenomene/grundwissen/stehende-wellen-und-eigenschwingungen</th>\n",
       "      <td>[5, 6, 9, 10]</td>\n",
       "      <td>[8]</td>\n",
       "    </tr>\n",
       "    <tr>\n",
       "      <th>/akustik/akustische-phaenomene/grundwissen/toene</th>\n",
       "      <td>[5, 6, 9, 10]</td>\n",
       "      <td>[8]</td>\n",
       "    </tr>\n",
       "    <tr>\n",
       "      <th>...</th>\n",
       "      <td>...</td>\n",
       "      <td>...</td>\n",
       "    </tr>\n",
       "    <tr>\n",
       "      <th>/waermelehre/waermetransport/grundwissen/waermeleitung</th>\n",
       "      <td>[5, 6, 7, 8]</td>\n",
       "      <td>[7]</td>\n",
       "    </tr>\n",
       "    <tr>\n",
       "      <th>/waermelehre/waermetransport/grundwissen/waermemitfuehrung</th>\n",
       "      <td>[5, 6, 7, 8]</td>\n",
       "      <td>[7]</td>\n",
       "    </tr>\n",
       "    <tr>\n",
       "      <th>/waermelehre/waermetransport/grundwissen/waermestrahlung-temperaturstrahlung</th>\n",
       "      <td>[5, 6, 7, 8]</td>\n",
       "      <td>[7]</td>\n",
       "    </tr>\n",
       "    <tr>\n",
       "      <th>/waermelehre/waermetransport/grundwissen/waermetransport</th>\n",
       "      <td>[5, 6, 7, 8]</td>\n",
       "      <td>[7]</td>\n",
       "    </tr>\n",
       "    <tr>\n",
       "      <th>/waermelehre/wetter-und-klima/grundwissen/treibhauseffekt</th>\n",
       "      <td>[5, 6, 7, 8, 9, 10]</td>\n",
       "      <td>NaN</td>\n",
       "    </tr>\n",
       "  </tbody>\n",
       "</table>\n",
       "<p>509 rows × 2 columns</p>\n",
       "</div>"
      ],
      "text/plain": [
       "                                                                 berlin hessen\n",
       "grundwissen_url                                                               \n",
       "/akustik/akustische-phaenomene/grundwissen/sait...        [5, 6, 9, 10]    [8]\n",
       "/akustik/akustische-phaenomene/grundwissen/scha...        [5, 6, 9, 10]    [8]\n",
       "/akustik/akustische-phaenomene/grundwissen/schw...        [5, 6, 9, 10]    [8]\n",
       "/akustik/akustische-phaenomene/grundwissen/steh...        [5, 6, 9, 10]    [8]\n",
       "/akustik/akustische-phaenomene/grundwissen/toene          [5, 6, 9, 10]    [8]\n",
       "...                                                                 ...    ...\n",
       "/waermelehre/waermetransport/grundwissen/waerme...         [5, 6, 7, 8]    [7]\n",
       "/waermelehre/waermetransport/grundwissen/waerme...         [5, 6, 7, 8]    [7]\n",
       "/waermelehre/waermetransport/grundwissen/waerme...         [5, 6, 7, 8]    [7]\n",
       "/waermelehre/waermetransport/grundwissen/waerme...         [5, 6, 7, 8]    [7]\n",
       "/waermelehre/wetter-und-klima/grundwissen/treib...  [5, 6, 7, 8, 9, 10]    NaN\n",
       "\n",
       "[509 rows x 2 columns]"
      ]
     },
     "execution_count": 21,
     "metadata": {},
     "output_type": "execute_result"
    }
   ],
   "source": [
    "pd.DataFrame({\n",
    "    'berlin': leifi[leifi.land == 'berlin'].groupby('grundwissen_url').klass.unique(),\n",
    "    'hessen': leifi[leifi.land == 'hessen'].groupby('grundwissen_url').klass.unique()\n",
    "})"
   ]
  },
  {
   "cell_type": "code",
   "execution_count": 42,
   "id": "59c5a1f5-2faa-4799-b0a9-5b5f8337fa11",
   "metadata": {},
   "outputs": [],
   "source": [
    "loader = Loader()"
   ]
  },
  {
   "cell_type": "code",
   "execution_count": 5,
   "id": "e9768996-c40e-426b-a269-3cd6a8a3b205",
   "metadata": {},
   "outputs": [],
   "source": [
    "leifi = loader.simple()"
   ]
  },
  {
   "cell_type": "code",
   "execution_count": 6,
   "id": "c0361cc5-a26c-455d-be5e-087d0ffc324c",
   "metadata": {},
   "outputs": [
    {
     "data": {
      "text/plain": [
       "(11667, 7)"
      ]
     },
     "execution_count": 6,
     "metadata": {},
     "output_type": "execute_result"
    }
   ],
   "source": [
    "leifi.shape"
   ]
  },
  {
   "cell_type": "code",
   "execution_count": 7,
   "id": "997cf2f3-e96e-4b63-aad1-c8066cac9dad",
   "metadata": {},
   "outputs": [
    {
     "data": {
      "text/plain": [
       "539"
      ]
     },
     "execution_count": 7,
     "metadata": {},
     "output_type": "execute_result"
    }
   ],
   "source": [
    "leifi.grundwissen_url.nunique()"
   ]
  },
  {
   "cell_type": "code",
   "execution_count": 8,
   "id": "1d17521a-6323-4e29-9f01-96ecde12c275",
   "metadata": {},
   "outputs": [],
   "source": [
    "counts_per_state = leifi.land.value_counts().to_frame()\n",
    "counts_per_state.index = [l.replace('-', ' ').capitalize() for l in counts_per_state.index]\n",
    "counts_per_state = counts_per_state.reset_index().\\\n",
    "    rename(columns = {'index': 'State', 'land': 'Lesson Count'})\n",
    "# print(counts_per_state.to_latex())"
   ]
  },
  {
   "cell_type": "code",
   "execution_count": 9,
   "id": "d0ce325c-6614-4a2b-bea1-f18417893b87",
   "metadata": {},
   "outputs": [],
   "source": [
    "content_by_url = leifi.groupby('grundwissen_url').content.first()"
   ]
  },
  {
   "cell_type": "code",
   "execution_count": 10,
   "id": "0e9a8a9f-9e73-4c0a-8620-a4dc78d8a170",
   "metadata": {},
   "outputs": [],
   "source": [
    "from curry.clean import Cleaner"
   ]
  },
  {
   "cell_type": "code",
   "execution_count": 11,
   "id": "ba368a07-057f-437c-9798-10eb23b0963b",
   "metadata": {},
   "outputs": [],
   "source": [
    "cleaner = Cleaner('')"
   ]
  },
  {
   "cell_type": "code",
   "execution_count": 14,
   "id": "2b91da27-f220-42ee-b09f-1ff9427caae3",
   "metadata": {},
   "outputs": [
    {
     "name": "stderr",
     "output_type": "stream",
     "text": [
      "100%|███████████████████████████████| 539/539 [02:07<00:00,  4.23it/s]\n"
     ]
    }
   ],
   "source": [
    "cleaned_contents = [cleaner.clean(c) for c in tqdm(content_by_url)]"
   ]
  },
  {
   "cell_type": "code",
   "execution_count": 15,
   "id": "e1de9a4e-3033-4e48-92f1-771511e5a6e4",
   "metadata": {},
   "outputs": [
    {
     "data": {
      "text/plain": [
       "<AxesSubplot:>"
      ]
     },
     "execution_count": 15,
     "metadata": {},
     "output_type": "execute_result"
    },
    {
     "data": {
      "image/png": "[encoded data removed]",
      "text/plain": [
       "<Figure size 432x288 with 1 Axes>"
      ]
     },
     "metadata": {
      "needs_background": "light"
     },
     "output_type": "display_data"
    }
   ],
   "source": [
    "from sklearn.feature_extraction.text import CountVectorizer\n",
    "vec = CountVectorizer()\n",
    "tokenizer = vec.build_tokenizer()\n",
    "word_counts = pd.Series(\n",
    "    [len(tokenizer(c)) for c in cleaned_contents],\n",
    "    index=content_by_url.index)\n",
    "word_counts.hist(bins=100)"
   ]
  },
  {
   "cell_type": "code",
   "execution_count": 16,
   "id": "924011c0-6313-471e-b77a-f6f2af41d93f",
   "metadata": {},
   "outputs": [
    {
     "data": {
      "text/plain": [
       "(6, 174.0, 1227)"
      ]
     },
     "execution_count": 16,
     "metadata": {},
     "output_type": "execute_result"
    }
   ],
   "source": [
    "word_counts.min(), word_counts.median(), word_counts.max()"
   ]
  },
  {
   "cell_type": "code",
   "execution_count": 17,
   "id": "1b7f2f38-9102-4e8f-aa0c-8672f1a08488",
   "metadata": {},
   "outputs": [],
   "source": [
    "leifi = leifi[\n",
    "    leifi.grundwissen_url.isin(word_counts[word_counts > 25].index)\n",
    "]"
   ]
  },
  {
   "cell_type": "code",
   "execution_count": 18,
   "id": "c5e33fb5-c32d-4a58-80d6-47c07e3f93c4",
   "metadata": {},
   "outputs": [
    {
     "data": {
      "text/plain": [
       "(11198, 7)"
      ]
     },
     "execution_count": 18,
     "metadata": {},
     "output_type": "execute_result"
    }
   ],
   "source": [
    "leifi.shape"
   ]
  },
  {
   "cell_type": "code",
   "execution_count": 21,
   "id": "e0d505db-614a-4ca0-82e7-7a498b00856b",
   "metadata": {},
   "outputs": [],
   "source": [
    "with open('../data/cache/leifi_enough_text.pkl', 'wb') as f:\n",
    "    pickle.dump(leifi, f)"
   ]
  },
  {
   "cell_type": "markdown",
   "id": "50953c24-f21a-4835-95a4-76880b14b25a",
   "metadata": {
    "jp-MarkdownHeadingCollapsed": true,
    "tags": []
   },
   "source": [
    "### Pre -processing and filtering checkpoint"
   ]
  },
  {
   "cell_type": "code",
   "execution_count": 4,
   "id": "272791b4-9db6-4d1f-b293-c67d51118ea3",
   "metadata": {},
   "outputs": [],
   "source": []
  },
  {
   "cell_type": "code",
   "execution_count": 4,
   "id": "92a44038-a247-471b-b358-306f37988219",
   "metadata": {},
   "outputs": [],
   "source": [
    "def agg_land(land_df):\n",
    "    grade_dist = land_df.klass.value_counts()\n",
    "    expected = grade_dist.copy()\n",
    "    expected = grade_dist.mean()\n",
    "    cs = chisquare(grade_dist, expected)\n",
    "    return pd.Series({\n",
    "        'Lowest Grade': land_df.klass.min(),\n",
    "        'Highest Grade': land_df.klass.max(),\n",
    "        '# Lessons': land_df.grundwissen_url.nunique(),\n",
    "        'var': land_df.klass.std(),\n",
    "        'cs s': cs.statistic,\n",
    "        'cs p': cs.pvalue\n",
    "    })\n",
    "\n",
    "summary = leifi.groupby('land').apply(agg_land)"
   ]
  },
  {
   "cell_type": "code",
   "execution_count": null,
   "id": "cdfa0248-6336-42d6-8970-675abfe50ced",
   "metadata": {},
   "outputs": [],
   "source": []
  },
  {
   "cell_type": "markdown",
   "id": "dc46db4d-f8fe-4bad-935d-841630cf503b",
   "metadata": {
    "jp-MarkdownHeadingCollapsed": true,
    "tags": []
   },
   "source": [
    "### Getting Categories"
   ]
  },
  {
   "cell_type": "code",
   "execution_count": 186,
   "id": "89fc1711-eae1-4ce2-abf8-03144ca23db2",
   "metadata": {},
   "outputs": [],
   "source": [
    "with open('../data/cache/categories_depth_5_v2.pkl', 'rb') as f:\n",
    "    categories = pickle.load(f)"
   ]
  },
  {
   "cell_type": "code",
   "execution_count": 187,
   "id": "d34c2361-f1d5-4c3f-bd7f-efb6e3837af5",
   "metadata": {},
   "outputs": [],
   "source": [
    "with open('../data/cache/babelfied.cache', 'rb') as f:\n",
    "    bab_cache = pickle.load(f)\n",
    "    \n",
    "with open('../data/cache/wikified.cache', 'rb') as f:\n",
    "    wk_cache = pickle.load(f)"
   ]
  },
  {
   "cell_type": "code",
   "execution_count": 188,
   "id": "eba31ded-013c-43de-9758-a64e310fcaa8",
   "metadata": {},
   "outputs": [],
   "source": [
    "wk_urls = []\n",
    "bab_urls = []\n",
    "\n",
    "for gu in bab_cache:\n",
    "    for a in bab_cache[gu]:\n",
    "        if a.get('DBpediaURL'):\n",
    "            bab_urls.append(a['DBpediaURL'])\n",
    "            \n",
    "for gu in wk_cache:\n",
    "    for a in wk_cache[gu]['annotations']:\n",
    "        if a.get('dbPediaIri'):\n",
    "            wk_urls.append(a['dbPediaIri'])"
   ]
  },
  {
   "cell_type": "code",
   "execution_count": 189,
   "id": "f6b3236e-b6fc-473e-8b63-01d500e15239",
   "metadata": {},
   "outputs": [],
   "source": [
    "all_dbpedia_urls = set(bab_urls).union(set(wk_urls))"
   ]
  },
  {
   "cell_type": "code",
   "execution_count": 190,
   "id": "3e13a747-fe89-43e0-a950-f71f4c7cd4cf",
   "metadata": {},
   "outputs": [],
   "source": [
    "urls_to_fetch = all_dbpedia_urls.difference(set(categories.keys()))"
   ]
  },
  {
   "cell_type": "code",
   "execution_count": 195,
   "id": "224ff862-1b8f-4486-8d85-59d79f490327",
   "metadata": {},
   "outputs": [
    {
     "ename": "ImportError",
     "evalue": "cannot import name 'DBPediaPhysicsResourcesFilter' from 'curry.km' (../curry/km.py)",
     "output_type": "error",
     "traceback": [
      "\u001b[0;31m---------------------------------------------------------------------------\u001b[0m",
      "\u001b[0;31mImportError\u001b[0m                               Traceback (most recent call last)",
      "\u001b[0;32m/tmp/ipykernel_343298/1440384300.py\u001b[0m in \u001b[0;36m<module>\u001b[0;34m\u001b[0m\n\u001b[0;32m----> 1\u001b[0;31m \u001b[0;32mfrom\u001b[0m \u001b[0mcurry\u001b[0m\u001b[0;34m.\u001b[0m\u001b[0mkm\u001b[0m \u001b[0;32mimport\u001b[0m \u001b[0mDBPediaPhysicsResourcesFilter\u001b[0m\u001b[0;34m\u001b[0m\u001b[0;34m\u001b[0m\u001b[0m\n\u001b[0m",
      "\u001b[0;31mImportError\u001b[0m: cannot import name 'DBPediaPhysicsResourcesFilter' from 'curry.km' (../curry/km.py)"
     ]
    }
   ],
   "source": [
    "from curry.km import DBPediaPhysicsResourcesFilter"
   ]
  },
  {
   "cell_type": "code",
   "execution_count": 194,
   "id": "cd0c699a-51da-4e1d-97ea-bc063fbf4bb8",
   "metadata": {},
   "outputs": [
    {
     "ename": "NameError",
     "evalue": "name 'DBPediaPhysicsResourcesFilter' is not defined",
     "output_type": "error",
     "traceback": [
      "\u001b[0;31m---------------------------------------------------------------------------\u001b[0m",
      "\u001b[0;31mNameError\u001b[0m                                 Traceback (most recent call last)",
      "\u001b[0;32m/tmp/ipykernel_343298/878192966.py\u001b[0m in \u001b[0;36m<module>\u001b[0;34m\u001b[0m\n\u001b[0;32m----> 1\u001b[0;31m \u001b[0mphysics_filter\u001b[0m \u001b[0;34m=\u001b[0m \u001b[0mDBPediaPhysicsResourcesFilter\u001b[0m\u001b[0;34m(\u001b[0m\u001b[0;34m)\u001b[0m\u001b[0;34m\u001b[0m\u001b[0;34m\u001b[0m\u001b[0m\n\u001b[0m",
      "\u001b[0;31mNameError\u001b[0m: name 'DBPediaPhysicsResourcesFilter' is not defined"
     ]
    }
   ],
   "source": [
    "physics_filter = DBPediaPhysicsResourcesFilter()"
   ]
  },
  {
   "cell_type": "code",
   "execution_count": null,
   "id": "ae275ce1-41a8-414e-9db9-eadd7a359651",
   "metadata": {},
   "outputs": [],
   "source": []
  },
  {
   "cell_type": "code",
   "execution_count": null,
   "id": "65601b6c-3c4b-4593-9bf7-cfa080bb08f3",
   "metadata": {},
   "outputs": [],
   "source": []
  },
  {
   "cell_type": "markdown",
   "id": "526d012d-3f0c-4f57-81d6-87f006c2d730",
   "metadata": {
    "jp-MarkdownHeadingCollapsed": true,
    "tags": []
   },
   "source": [
    "### Training"
   ]
  },
  {
   "cell_type": "code",
   "execution_count": 4,
   "id": "936b0843-3acf-47eb-b30c-a5a4b704995c",
   "metadata": {},
   "outputs": [],
   "source": [
    "import logging\n",
    "logging.basicConfig()\n",
    "logger = logging.getLogger()\n",
    "logger.setLevel(logging.ERROR)"
   ]
  },
  {
   "cell_type": "code",
   "execution_count": 5,
   "id": "01b6f4b5-5fa2-4f17-9275-923e107a8e6c",
   "metadata": {},
   "outputs": [],
   "source": [
    "from curry.model import Trainer, Models"
   ]
  },
  {
   "cell_type": "code",
   "execution_count": 6,
   "id": "de7cd672-bf3d-4da6-8e66-4d65f6dd6604",
   "metadata": {},
   "outputs": [],
   "source": [
    "trainer = Trainer('../data/')"
   ]
  },
  {
   "cell_type": "code",
   "execution_count": 7,
   "id": "2590666b-d5a2-4a74-9c5c-597065af0373",
   "metadata": {},
   "outputs": [],
   "source": [
    "from curry.model import Models"
   ]
  },
  {
   "cell_type": "code",
   "execution_count": 8,
   "id": "a37e5443-a196-4048-89ca-414f5732b597",
   "metadata": {},
   "outputs": [],
   "source": [
    "test = trainer.train_score(dict(\n",
    "            land='berlin',\n",
    "            name='xgbClassifier', \n",
    "            vec_type='babelkw',\n",
    "            vec_type_args=[0.05, True],\n",
    "            is_coarse=False,\n",
    "            args=[\n",
    "                10,\n",
    "                leifi[leifi.land == 'berlin'].klass.nunique()\n",
    "            ]\n",
    "        ))"
   ]
  },
  {
   "cell_type": "code",
   "execution_count": 9,
   "id": "677e2784-8d1d-4b35-923d-00f776ffd9a0",
   "metadata": {},
   "outputs": [
    {
     "data": {
      "text/plain": [
       "{'confusion_matrix': array([[12,  0,  9,  6, 59, 27,  7,  9],\n",
       "        [12,  0,  9,  6, 59, 27,  7,  9],\n",
       "        [12,  0,  4,  8, 53, 15,  4, 13],\n",
       "        [14,  0, 13,  7, 50, 16,  4, 13],\n",
       "        [48,  0, 26, 24, 37, 20, 52, 13],\n",
       "        [48,  0, 26, 24, 38, 19, 52, 13],\n",
       "        [ 8,  0,  3,  1, 63, 24, 14,  4],\n",
       "        [ 6,  0,  6,  4, 32, 12,  9, 53]]),\n",
       " 'accuracy': 0.12559160695099317,\n",
       " 'approx_accuracy': 0.3517452960032677}"
      ]
     },
     "execution_count": 9,
     "metadata": {},
     "output_type": "execute_result"
    }
   ],
   "source": [
    "test[0]"
   ]
  },
  {
   "cell_type": "code",
   "execution_count": 64,
   "id": "fbb6ab82-4f9e-4d45-9021-b1b4a5cbfd73",
   "metadata": {},
   "outputs": [],
   "source": [
    "# OG: For different feature types\n",
    "job_descs = []\n",
    "for (vec_type, vec_type_args) in \\\n",
    "    (\n",
    "    [('babelkw', [t,p]) for t in [0.7, 0.8, 0.9, 0.99] for p in [True, False]] + \n",
    "     [('wikikw', [t, p]) for t in [0.01, 0.02, 0.05, 0.07, 0.08, 0.1] for p in [True, False]] +\n",
    "     [(v, []) for v in [\n",
    "         # 'kw', \n",
    "         # 'st', \n",
    "         # 'tfidf'\n",
    "     ]]):\n",
    "    for land in leifi.land.unique():#[:2]:\n",
    "        job_descs.append(dict(\n",
    "            land=land,\n",
    "            name='xgbClassifier', \n",
    "            vec_type=vec_type,\n",
    "            vec_type_args=vec_type_args,\n",
    "            args=[\n",
    "                10,\n",
    "                leifi[leifi.land==land].klass.nunique()\n",
    "            ]\n",
    "        ))"
   ]
  },
  {
   "cell_type": "code",
   "execution_count": 14,
   "id": "56c10cc3-3b88-4d9d-b9e3-e0eefd80e729",
   "metadata": {},
   "outputs": [],
   "source": [
    "# To Vary Model type\n",
    "job_descs = []\n",
    "for (vec_type, vec_type_args, is_coarse) in [\n",
    "    ('babelkw', [0.7, True], False),\n",
    "    ('wikikw', [0.01, True], False),\n",
    "    ('st', [], False),\n",
    "    ('tfidf', [], False),\n",
    "    ('kw', [], False)\n",
    "]:\n",
    "    for land in leifi.land.unique():\n",
    "        for (clf, clf_args) in [\n",
    "            ('xgbClassifier', [10, leifi[leifi.land==land].klass.nunique()]),\n",
    "            # ('xgbMultilabelClassifer', [10]),\n",
    "            # ('xgbOrdinalClassifier', [10])\n",
    "        ]:\n",
    "            job_descs.append(dict(\n",
    "                land=land,\n",
    "                name=clf, \n",
    "                vec_type=vec_type,\n",
    "                vec_type_args=vec_type_args,\n",
    "                is_coarse=is_coarse,\n",
    "                args=clf_args\n",
    "            ))"
   ]
  },
  {
   "cell_type": "code",
   "execution_count": 16,
   "id": "c3ed4cfd-22a0-4e3a-abb9-5f1fc252d2cf",
   "metadata": {},
   "outputs": [],
   "source": [
    "# All states\n",
    "job_descs = []\n",
    "for (vec_type, vec_type_args, is_coarse) in [\n",
    "    ('babelkw', [0.7, True], True),\n",
    "    ('wikikw', [0.01, True], True),\n",
    "    ('st', [], True),\n",
    "    ('tfidf', [], True),\n",
    "    ('kw', [], True)\n",
    "]:\n",
    "    for (clf, clf_args) in [\n",
    "        ('xgbClassifier', [10, leifi.klass.nunique()]),\n",
    "        # ('xgbMultilabelClassifer', [10]),\n",
    "        # ('xgbOrdinalClassifier', [10])\n",
    "    ]:\n",
    "        job_descs.append(dict(\n",
    "            land=None,\n",
    "            name=clf, \n",
    "            vec_type=vec_type,\n",
    "            vec_type_args=vec_type_args,\n",
    "            is_coarse=False,\n",
    "            args=clf_args\n",
    "        ))"
   ]
  },
  {
   "cell_type": "code",
   "execution_count": 15,
   "id": "d5e2815b-49ae-4356-afa1-5368202213b7",
   "metadata": {},
   "outputs": [
    {
     "name": "stderr",
     "output_type": "stream",
     "text": [
      "100%|████████████████████████████████████████████████████████████████████████████████████████████████████████| 80/80 [06:10<00:00,  4.63s/it]\n"
     ]
    }
   ],
   "source": [
    "results = list()\n",
    "\n",
    "\n",
    "for job_desc in tqdm(job_descs):\n",
    "    result, _ = trainer.train_score(job_desc)\n",
    "    results.append((job_desc, result))"
   ]
  },
  {
   "cell_type": "code",
   "execution_count": 19,
   "id": "5d17e9fa-6054-4171-8cd4-da32bddede23",
   "metadata": {},
   "outputs": [
    {
     "name": "stdout",
     "output_type": "stream",
     "text": [
      "babelkw 0.112\n",
      "wikikw 0.1\n",
      "st 0.118\n",
      "tfidf 0.104\n",
      "kw 0.104\n"
     ]
    }
   ],
   "source": [
    "for r in results:\n",
    "    print(r[0]['vec_type'], round(r[1]['accuracy'], 3))"
   ]
  },
  {
   "cell_type": "code",
   "execution_count": 17,
   "id": "3ce4697b-1b15-45ea-8bda-191c42387eaf",
   "metadata": {},
   "outputs": [
    {
     "data": {
      "text/html": [
       "<div>\n",
       "<style scoped>\n",
       "    .dataframe tbody tr th:only-of-type {\n",
       "        vertical-align: middle;\n",
       "    }\n",
       "\n",
       "    .dataframe tbody tr th {\n",
       "        vertical-align: top;\n",
       "    }\n",
       "\n",
       "    .dataframe thead th {\n",
       "        text-align: right;\n",
       "    }\n",
       "</style>\n",
       "<table border=\"1\" class=\"dataframe\">\n",
       "  <thead>\n",
       "    <tr style=\"text-align: right;\">\n",
       "      <th></th>\n",
       "      <th></th>\n",
       "      <th></th>\n",
       "      <th>accuracy</th>\n",
       "      <th>aa</th>\n",
       "    </tr>\n",
       "    <tr>\n",
       "      <th>model</th>\n",
       "      <th>vec_type</th>\n",
       "      <th>is_coarse</th>\n",
       "      <th></th>\n",
       "      <th></th>\n",
       "    </tr>\n",
       "  </thead>\n",
       "  <tbody>\n",
       "    <tr>\n",
       "      <th rowspan=\"5\" valign=\"top\">xgbClassifier</th>\n",
       "      <th>babelkw</th>\n",
       "      <th>False</th>\n",
       "      <td>0.234843</td>\n",
       "      <td>0.455432</td>\n",
       "    </tr>\n",
       "    <tr>\n",
       "      <th>kw</th>\n",
       "      <th>False</th>\n",
       "      <td>0.211555</td>\n",
       "      <td>0.434413</td>\n",
       "    </tr>\n",
       "    <tr>\n",
       "      <th>st</th>\n",
       "      <th>False</th>\n",
       "      <td>0.265195</td>\n",
       "      <td>0.489176</td>\n",
       "    </tr>\n",
       "    <tr>\n",
       "      <th>tfidf</th>\n",
       "      <th>False</th>\n",
       "      <td>0.236752</td>\n",
       "      <td>0.461908</td>\n",
       "    </tr>\n",
       "    <tr>\n",
       "      <th>wikikw</th>\n",
       "      <th>False</th>\n",
       "      <td>0.241953</td>\n",
       "      <td>0.461451</td>\n",
       "    </tr>\n",
       "  </tbody>\n",
       "</table>\n",
       "</div>"
      ],
      "text/plain": [
       "                                  accuracy        aa\n",
       "model         vec_type is_coarse                    \n",
       "xgbClassifier babelkw  False      0.234843  0.455432\n",
       "              kw       False      0.211555  0.434413\n",
       "              st       False      0.265195  0.489176\n",
       "              tfidf    False      0.236752  0.461908\n",
       "              wikikw   False      0.241953  0.461451"
      ]
     },
     "execution_count": 17,
     "metadata": {},
     "output_type": "execute_result"
    }
   ],
   "source": [
    "# For model Extraction \n",
    "as_df = []\n",
    "for (job_desc, result) in results:\n",
    "    acc = result['accuracy']\n",
    "    a_acc = result['approx_accuracy']\n",
    "    model_name = job_desc['name']\n",
    "    vec_type = job_desc['vec_type']\n",
    "    is_coarse = job_desc['is_coarse']\n",
    "    land = job_desc['land']\n",
    "    as_df.append((model_name, vec_type, land, is_coarse, acc, a_acc))\n",
    "    \n",
    "df = pd.DataFrame(as_df, columns=['model', 'vec_type', 'land', 'is_coarse', 'accuracy', 'aa'])\n",
    "df.groupby(['model', 'vec_type', 'is_coarse'])[['accuracy', 'aa']].mean()\n",
    "\n",
    "\n",
    "# df.\\\n",
    "#     pivot(index='land', columns='vec_type').transpose().\\\n",
    "#     style.highlight_max(color='lightgreen').highlight_min(color='red')"
   ]
  },
  {
   "cell_type": "code",
   "execution_count": null,
   "id": "49946574-6a61-491c-a5b5-77bed5bc414f",
   "metadata": {},
   "outputs": [],
   "source": []
  },
  {
   "cell_type": "code",
   "execution_count": 82,
   "id": "c8e113fc-7c52-42c1-9267-b1b6020f8d91",
   "metadata": {},
   "outputs": [
    {
     "data": {
      "text/plain": [
       "vec_type  vec_spec \n",
       "babelkw   0.7,True     0.226879\n",
       "wikikw    0.01,True    0.234179\n",
       "Name: accuracy, dtype: float64"
      ]
     },
     "execution_count": 82,
     "metadata": {},
     "output_type": "execute_result"
    }
   ],
   "source": [
    "# For Feature Extraction\n",
    "as_df = []\n",
    "for (job_desc, result) in results:\n",
    "    acc = result['accuracy']\n",
    "    vec_type = job_desc['vec_type']\n",
    "    vec_spec = ','.join(list(map(str, job_desc['vec_type_args']))) if len(job_desc['vec_type_args']) >= 1 else None\n",
    "    land = job_desc['land']\n",
    "    as_df.append((vec_type, vec_spec, land, acc))\n",
    "    \n",
    "df = pd.DataFrame(as_df, columns=['vec_type', 'vec_spec', 'land', 'accuracy'])\n",
    "df.groupby(['vec_type', 'vec_spec']).accuracy.mean()\n",
    "\n",
    "\n",
    "# df.\\\n",
    "#     pivot(index='land', columns='vec_type').transpose().\\\n",
    "#     style.highlight_max(color='lightgreen').highlight_min(color='red')"
   ]
  },
  {
   "cell_type": "code",
   "execution_count": 67,
   "id": "63a1efe5-2dd9-4f60-a7f8-c13d72954b19",
   "metadata": {},
   "outputs": [],
   "source": [
    "data = Out[66].copy()\n"
   ]
  },
  {
   "cell_type": "code",
   "execution_count": 73,
   "id": "ef3911b1-7641-4c80-93ef-e3d8b40794de",
   "metadata": {},
   "outputs": [],
   "source": [
    "rows = []\n",
    "for i in data.index:\n",
    "    val = data[i]\n",
    "    feature_set, (threshold, is_physics_filtered) = i[0], i[1].split(',')\n",
    "    threshold = float(threshold)\n",
    "    is_physics_filtered = is_physics_filtered == 'True'\n",
    "    rows.append((feature_set, is_physics_filtered, threshold, val))\n",
    "    \n",
    "data = pd.DataFrame(rows, columns=['feature_set', 'is_physics_filtered', 'threshold', 'accuracy'])"
   ]
  },
  {
   "cell_type": "code",
   "execution_count": 79,
   "id": "84d493b3-3503-44ed-b8c0-62f9a6a52860",
   "metadata": {},
   "outputs": [
    {
     "data": {
      "image/png": "[encoded data removed]",
      "text/plain": [
       "<Figure size 720x288 with 2 Axes>"
      ]
     },
     "metadata": {
      "needs_background": "light"
     },
     "output_type": "display_data"
    }
   ],
   "source": [
    "fig, (ax1, ax2) = plt.subplots(1,2, figsize = (10, 4))\n",
    "s1 = data[(data.feature_set=='babelkw') & data.is_physics_filtered]\n",
    "s2 = data[(data.feature_set=='babelkw') & ~data.is_physics_filtered]\n",
    "ax1.plot(s1.threshold, s1.accuracy, label='Only Physics')\n",
    "ax1.plot(s2.threshold, s2.accuracy, label='All')\n",
    "ax1.set_title('Babelfy')\n",
    "ax1.set_ylabel('Prediction Accuracy')\n",
    "ax1.set_xlabel('Entity Linking Confidence Score')\n",
    "s3 = data[(data.feature_set=='wikikw') & data.is_physics_filtered]\n",
    "s4 = data[(data.feature_set=='wikikw') & ~data.is_physics_filtered]\n",
    "ax2.plot(s3.threshold, s3.accuracy, label='Only Physics')\n",
    "ax2.plot(s4.threshold, s4.accuracy, label='All')\n",
    "ax2.set_title('Wikifier')\n",
    "ax2.set_xlabel('PageRank Confidence Score')\n",
    "ax2.legend()\n",
    "plt.savefig('physics_filtering_over_threhsholds.png')"
   ]
  },
  {
   "cell_type": "code",
   "execution_count": 63,
   "id": "4b4315f3-9004-4b98-9f10-03cf9fc5fe1f",
   "metadata": {},
   "outputs": [
    {
     "data": {
      "text/plain": [
       "accuracy    0.265195\n",
       "dtype: float64"
      ]
     },
     "execution_count": 63,
     "metadata": {},
     "output_type": "execute_result"
    }
   ],
   "source": [
    "st.mean()"
   ]
  },
  {
   "cell_type": "code",
   "execution_count": 67,
   "id": "e5a7aad0-7f6a-48c9-beba-4b409d2e87a7",
   "metadata": {},
   "outputs": [],
   "source": [
    "sentence_transformer_results= sentence_transformer_results[['land', 'accuracy']].set_index('land')"
   ]
  },
  {
   "cell_type": "code",
   "execution_count": 72,
   "id": "92862d48-f680-46d3-a57a-6ade4d092b91",
   "metadata": {},
   "outputs": [],
   "source": [
    "with open('../results/iwildspaper/sentence_transformer_accuracies_by_state.pkl', 'wb') as f:\n",
    "    pickle.dump(sentence_transformer_results, f)"
   ]
  },
  {
   "cell_type": "code",
   "execution_count": 117,
   "id": "37cffb1e-2b96-4e70-ac4e-4144868e6c8f",
   "metadata": {},
   "outputs": [],
   "source": [
    "with open('../results/iwildspaper/wikikw_accuracies_by_state_threshold.pkl', 'wb') as f:\n",
    "    pickle.dump(wk.drop(wk.index[80:96]), f)"
   ]
  },
  {
   "cell_type": "code",
   "execution_count": 75,
   "id": "f204d540-749d-4cff-90f3-69b70042a81f",
   "metadata": {},
   "outputs": [],
   "source": [
    "with open('../results/iwildspaper/babelkw_accuracies_by_state_threshold.pkl', 'wb') as f:\n",
    "    pickle.dump(babel_results[['vec_spec', 'land', 'accuracy']], f)"
   ]
  },
  {
   "cell_type": "markdown",
   "id": "87b3eab6-5ef0-4785-9416-b122adddd527",
   "metadata": {
    "jp-MarkdownHeadingCollapsed": true,
    "tags": []
   },
   "source": [
    "### Multi-label"
   ]
  },
  {
   "cell_type": "code",
   "execution_count": 46,
   "id": "106e032b-a716-429a-b4f3-ef3b242612d3",
   "metadata": {},
   "outputs": [],
   "source": [
    "def accuracy(y_pred, y_test, _type):\n",
    "    correct_count = 0\n",
    "    for i in range(y_pred.shape[0]):\n",
    "        pred = y_pred[i, :]\n",
    "        gt = y_test[i, :]\n",
    "        labels_correct = 0\n",
    "        for p, g in zip(pred, gt):\n",
    "            if _type == 'atleastone':\n",
    "                if (p == 1) and (g == 1):\n",
    "                    correct_count += 1\n",
    "                    break\n",
    "            elif _type == 'all':\n",
    "                if p == g:\n",
    "                    labels_correct += 1\n",
    "                if labels_correct == y_pred.shape[1]:\n",
    "                    correct_count += 1\n",
    "    return correct_count / y_pred.shape[0]"
   ]
  },
  {
   "cell_type": "code",
   "execution_count": 51,
   "id": "c96234f9-f160-41aa-ba8a-693ca512cc79",
   "metadata": {},
   "outputs": [],
   "source": [
    "from curry.model import Models\n",
    "from curry.features import Extractor\n",
    "from sklearn.metrics import accuracy_score, hamming_loss\n",
    "from sklearn.model_selection import StratifiedKFold\n",
    "import numpy as np\n",
    "\n",
    "def onehot(ks):\n",
    "    out = np.zeros(9)\n",
    "    for k in ks:\n",
    "        out[k - 5] = 1\n",
    "    return out\n",
    "\n",
    "scores = {}\n",
    "for vec_type, vec_args in [\n",
    "    ('babelkw', [0.8, False]),\n",
    "    ('wikikw', [0.05, False]),\n",
    "    # ('st', []),\n",
    "    # ('tfidf', []),\n",
    "    # ('kw', [])\n",
    "]:\n",
    "    scores[vec_type] = {'sep': [], 'agg': None, 'predictions': None}\n",
    "    predictions = []\n",
    "    for land in leifi.land.unique():\n",
    "        extractorC = Extractor('../data/cache/')\n",
    "        df = leifi[leifi.land == land]\n",
    "        key_label = df.groupby('grundwissen_url').klass.unique().apply(onehot)\n",
    "        X, n = extractorC.content_vecs(key_label.index, vec_type, vec_args)\n",
    "        y = np.stack(key_label.values)\n",
    "\n",
    "        split_point = int(X.shape[0] * .8) \n",
    "        X_train = X[:split_point, :]\n",
    "        X_test = X[split_point:, :]\n",
    "        y_train = y[:split_point, :]\n",
    "        y_test = y[split_point:, :]\n",
    "\n",
    "        clf = Models.xgbMultilabelClassifer(10)\n",
    "        clf.fit(X_train, y_train)\n",
    "        y_pred = clf.predict(X_test)\n",
    "        predictions.append((y_pred, y_test))\n",
    "        scores[vec_type]['sep'].append(hamming_loss(y_pred, y_test))\n",
    "    scores[vec_type]['agg'] = np.mean(scores[vec_type]['sep'])\n",
    "    scores[vec_type]['predictions'] = predictions\n"
   ]
  },
  {
   "cell_type": "code",
   "execution_count": 48,
   "id": "0c678814-3dd2-4466-ba28-ae319f469679",
   "metadata": {},
   "outputs": [],
   "source": [
    "with open('../data/cache/mlp_results_1_wikikw_001_true_babel_05_true.pkl', 'wb') as f:\n",
    "    pickle.dump(scores, f)"
   ]
  },
  {
   "cell_type": "code",
   "execution_count": 55,
   "id": "6011cf13-6fea-43db-89c5-17d169f9df79",
   "metadata": {},
   "outputs": [
    {
     "name": "stdout",
     "output_type": "stream",
     "text": [
      "babelkw 0.20546255827898385\n",
      "wikikw 0.19371767571400172\n"
     ]
    }
   ],
   "source": [
    "for i in scores:\n",
    "    print(i, scores[i]['agg'])"
   ]
  },
  {
   "cell_type": "code",
   "execution_count": 56,
   "id": "06030f6c-75d5-473b-aa42-89c25a320fbf",
   "metadata": {},
   "outputs": [
    {
     "name": "stdout",
     "output_type": "stream",
     "text": [
      "babelkw 0.21330738707692512\n",
      "wikikw 0.05028582317073171\n"
     ]
    }
   ],
   "source": [
    "\n",
    "for i in scores:\n",
    "    accs = []\n",
    "    for y_pred, y_test in scores[i]['predictions']:\n",
    "        accs.append(accuracy(y_pred, y_test, 'atleastone'))\n",
    "    print(i, np.mean(accs))"
   ]
  },
  {
   "cell_type": "code",
   "execution_count": 57,
   "id": "025bba03-3694-4bc6-bdd8-06e5480375be",
   "metadata": {},
   "outputs": [
    {
     "name": "stdout",
     "output_type": "stream",
     "text": [
      "babelkw 0.13078499918450195\n",
      "wikikw 0.04723704268292683\n"
     ]
    }
   ],
   "source": [
    "\n",
    "for i in scores:\n",
    "    accs = []\n",
    "    for y_pred, y_test in scores[i]['predictions']:\n",
    "        accs.append(accuracy(y_pred, y_test, 'all'))\n",
    "    print(i, np.mean(accs))"
   ]
  },
  {
   "cell_type": "markdown",
   "id": "59bd1d03-ced9-4c91-add1-1d6eb9382f3a",
   "metadata": {
    "tags": []
   },
   "source": [
    "### Comparing results"
   ]
  },
  {
   "cell_type": "code",
   "execution_count": 11,
   "id": "be50c45f-67ea-4c88-9f25-3e3952d03ecc",
   "metadata": {},
   "outputs": [],
   "source": [
    "with open('../results/iwildspaper/sentence_transformer_accuracies_by_state.pkl', 'rb') as f:\n",
    "    st = pickle.load(f)"
   ]
  },
  {
   "cell_type": "code",
   "execution_count": 12,
   "id": "1b456351-8d3a-4c7a-a151-4a1806271830",
   "metadata": {},
   "outputs": [],
   "source": [
    "with open('../results/iwildspaper/wikikw_accuracies_by_state_threshold.pkl', 'rb') as f:\n",
    "    wk = pickle.load(f)"
   ]
  },
  {
   "cell_type": "code",
   "execution_count": 13,
   "id": "c4571317-0817-4e5a-8f83-32ced494b266",
   "metadata": {},
   "outputs": [],
   "source": [
    "with open('../results/iwildspaper/babelkw_accuracies_by_state_threshold.pkl', 'rb') as f:\n",
    "    bl = pickle.load(f)\n"
   ]
  },
  {
   "cell_type": "code",
   "execution_count": 59,
   "id": "efd8534e-e378-4387-bcc7-471d3c427539",
   "metadata": {},
   "outputs": [
    {
     "data": {
      "image/png": "[encoded data removed]",
      "text/plain": [
       "<Figure size 432x288 with 2 Axes>"
      ]
     },
     "metadata": {
      "needs_background": "light"
     },
     "output_type": "display_data"
    }
   ],
   "source": [
    "data_bl = bl.groupby('vec_spec').accuracy.mean()\n",
    "data_wk = wk.groupby('vec_spec').accuracy.mean()\n",
    "fig, ax = plt.subplots(1,1)\n",
    "ax2 = ax.twiny()\n",
    "ax.plot(data_bl.index, data_bl.values, label='Babelfy', color='orange')\n",
    "ax2.plot(data_wk.index, data_wk.values, label='Wikifier')\n",
    "ax.set_xlabel('Babelfy Confidence Score')\n",
    "ax2.set_xlabel('Wikifier Confidence Score (PageRank)')\n",
    "ax.set_ylabel('Prediction Accuracy')\n",
    "ax.legend(loc=3)\n",
    "ax2.legend(loc=1)\n",
    "plt.savefig('entity_linking_performance_w_confidence.png')"
   ]
  },
  {
   "cell_type": "code",
   "execution_count": 27,
   "id": "00c3d41e-3450-4bf8-971d-4c9e3cd9c458",
   "metadata": {},
   "outputs": [
    {
     "data": {
      "text/plain": [
       "accuracy    0.265195\n",
       "dtype: float64"
      ]
     },
     "execution_count": 27,
     "metadata": {},
     "output_type": "execute_result"
    }
   ],
   "source": [
    "st.mean()"
   ]
  },
  {
   "cell_type": "code",
   "execution_count": 26,
   "id": "e1729a94-d5bb-472f-b1c5-a35a6b22b3b7",
   "metadata": {},
   "outputs": [
    {
     "data": {
      "text/plain": [
       "vec_spec\n",
       "0.00001    0.244862\n",
       "0.00010    0.245659\n",
       "0.00050    0.243915\n",
       "0.00100    0.244765\n",
       "0.00500    0.249592\n",
       "0.01000    0.232347\n",
       "0.02000    0.216221\n",
       "0.03000    0.215580\n",
       "0.04000    0.217952\n",
       "0.05000    0.218642\n",
       "0.07000    0.220073\n",
       "0.08000    0.220073\n",
       "0.09000    0.220073\n",
       "Name: accuracy, dtype: float64"
      ]
     },
     "execution_count": 26,
     "metadata": {},
     "output_type": "execute_result"
    }
   ],
   "source": [
    "wk.groupby('vec_spec').accuracy.mean()"
   ]
  },
  {
   "cell_type": "code",
   "execution_count": 123,
   "id": "c4b4c01f-9cad-4ea3-8e63-c678d10d5f28",
   "metadata": {},
   "outputs": [
    {
     "data": {
      "text/html": [
       "<style type=\"text/css\">\n",
       "#T_17846_row2_col0, #T_17846_row2_col1, #T_17846_row2_col2, #T_17846_row2_col3, #T_17846_row2_col4, #T_17846_row2_col5, #T_17846_row2_col6, #T_17846_row2_col7, #T_17846_row2_col8, #T_17846_row2_col9 {\n",
       "  background-color: red;\n",
       "}\n",
       "#T_17846_row6_col0, #T_17846_row6_col1, #T_17846_row6_col2, #T_17846_row6_col3, #T_17846_row6_col4, #T_17846_row6_col7, #T_17846_row6_col8, #T_17846_row6_col9, #T_17846_row11_col5, #T_17846_row11_col6 {\n",
       "  background-color: lightgreen;\n",
       "}\n",
       "</style>\n",
       "<table id=\"T_17846_\">\n",
       "  <thead>\n",
       "    <tr>\n",
       "      <th class=\"blank level0\" >&nbsp;</th>\n",
       "      <th class=\"col_heading level0 col0\" colspan=\"10\">accuracy</th>\n",
       "    </tr>\n",
       "    <tr>\n",
       "      <th class=\"index_name level1\" >vec_spec</th>\n",
       "      <th class=\"col_heading level1 col0\" >0.7</th>\n",
       "      <th class=\"col_heading level1 col1\" >0.75</th>\n",
       "      <th class=\"col_heading level1 col2\" >0.8</th>\n",
       "      <th class=\"col_heading level1 col3\" >0.85</th>\n",
       "      <th class=\"col_heading level1 col4\" >0.9</th>\n",
       "      <th class=\"col_heading level1 col5\" >0.95</th>\n",
       "      <th class=\"col_heading level1 col6\" >0.96</th>\n",
       "      <th class=\"col_heading level1 col7\" >0.97</th>\n",
       "      <th class=\"col_heading level1 col8\" >0.98</th>\n",
       "      <th class=\"col_heading level1 col9\" >0.99</th>\n",
       "    </tr>\n",
       "    <tr>\n",
       "      <th class=\"index_name level0\" >land</th>\n",
       "      <th class=\"blank col0\" >&nbsp;</th>\n",
       "      <th class=\"blank col1\" >&nbsp;</th>\n",
       "      <th class=\"blank col2\" >&nbsp;</th>\n",
       "      <th class=\"blank col3\" >&nbsp;</th>\n",
       "      <th class=\"blank col4\" >&nbsp;</th>\n",
       "      <th class=\"blank col5\" >&nbsp;</th>\n",
       "      <th class=\"blank col6\" >&nbsp;</th>\n",
       "      <th class=\"blank col7\" >&nbsp;</th>\n",
       "      <th class=\"blank col8\" >&nbsp;</th>\n",
       "      <th class=\"blank col9\" >&nbsp;</th>\n",
       "    </tr>\n",
       "  </thead>\n",
       "  <tbody>\n",
       "    <tr>\n",
       "      <th id=\"T_17846_level0_row0\" class=\"row_heading level0 row0\" >baden-wuerttemberg</th>\n",
       "      <td id=\"T_17846_row0_col0\" class=\"data row0 col0\" >0.152011</td>\n",
       "      <td id=\"T_17846_row0_col1\" class=\"data row0 col1\" >0.161581</td>\n",
       "      <td id=\"T_17846_row0_col2\" class=\"data row0 col2\" >0.155834</td>\n",
       "      <td id=\"T_17846_row0_col3\" class=\"data row0 col3\" >0.163491</td>\n",
       "      <td id=\"T_17846_row0_col4\" class=\"data row0 col4\" >0.168272</td>\n",
       "      <td id=\"T_17846_row0_col5\" class=\"data row0 col5\" >0.158721</td>\n",
       "      <td id=\"T_17846_row0_col6\" class=\"data row0 col6\" >0.156811</td>\n",
       "      <td id=\"T_17846_row0_col7\" class=\"data row0 col7\" >0.161592</td>\n",
       "      <td id=\"T_17846_row0_col8\" class=\"data row0 col8\" >0.159682</td>\n",
       "      <td id=\"T_17846_row0_col9\" class=\"data row0 col9\" >0.155856</td>\n",
       "    </tr>\n",
       "    <tr>\n",
       "      <th id=\"T_17846_level0_row1\" class=\"row_heading level0 row1\" >bayern</th>\n",
       "      <td id=\"T_17846_row1_col0\" class=\"data row1 col0\" >0.278635</td>\n",
       "      <td id=\"T_17846_row1_col1\" class=\"data row1 col1\" >0.282603</td>\n",
       "      <td id=\"T_17846_row1_col2\" class=\"data row1 col2\" >0.272718</td>\n",
       "      <td id=\"T_17846_row1_col3\" class=\"data row1 col3\" >0.276709</td>\n",
       "      <td id=\"T_17846_row1_col4\" class=\"data row1 col4\" >0.270745</td>\n",
       "      <td id=\"T_17846_row1_col5\" class=\"data row1 col5\" >0.262821</td>\n",
       "      <td id=\"T_17846_row1_col6\" class=\"data row1 col6\" >0.256892</td>\n",
       "      <td id=\"T_17846_row1_col7\" class=\"data row1 col7\" >0.256939</td>\n",
       "      <td id=\"T_17846_row1_col8\" class=\"data row1 col8\" >0.266836</td>\n",
       "      <td id=\"T_17846_row1_col9\" class=\"data row1 col9\" >0.256927</td>\n",
       "    </tr>\n",
       "    <tr>\n",
       "      <th id=\"T_17846_level0_row2\" class=\"row_heading level0 row2\" >berlin</th>\n",
       "      <td id=\"T_17846_row2_col0\" class=\"data row2 col0\" >0.126451</td>\n",
       "      <td id=\"T_17846_row2_col1\" class=\"data row2 col1\" >0.123012</td>\n",
       "      <td id=\"T_17846_row2_col2\" class=\"data row2 col2\" >0.129024</td>\n",
       "      <td id=\"T_17846_row2_col3\" class=\"data row2 col3\" >0.138474</td>\n",
       "      <td id=\"T_17846_row2_col4\" class=\"data row2 col4\" >0.129869</td>\n",
       "      <td id=\"T_17846_row2_col5\" class=\"data row2 col5\" >0.135033</td>\n",
       "      <td id=\"T_17846_row2_col6\" class=\"data row2 col6\" >0.128162</td>\n",
       "      <td id=\"T_17846_row2_col7\" class=\"data row2 col7\" >0.131599</td>\n",
       "      <td id=\"T_17846_row2_col8\" class=\"data row2 col8\" >0.123005</td>\n",
       "      <td id=\"T_17846_row2_col9\" class=\"data row2 col9\" >0.130742</td>\n",
       "    </tr>\n",
       "    <tr>\n",
       "      <th id=\"T_17846_level0_row3\" class=\"row_heading level0 row3\" >brandenburg</th>\n",
       "      <td id=\"T_17846_row3_col0\" class=\"data row3 col0\" >0.196172</td>\n",
       "      <td id=\"T_17846_row3_col1\" class=\"data row3 col1\" >0.189334</td>\n",
       "      <td id=\"T_17846_row3_col2\" class=\"data row3 col2\" >0.182465</td>\n",
       "      <td id=\"T_17846_row3_col3\" class=\"data row3 col3\" >0.189303</td>\n",
       "      <td id=\"T_17846_row3_col4\" class=\"data row3 col4\" >0.175616</td>\n",
       "      <td id=\"T_17846_row3_col5\" class=\"data row3 col5\" >0.172184</td>\n",
       "      <td id=\"T_17846_row3_col6\" class=\"data row3 col6\" >0.165354</td>\n",
       "      <td id=\"T_17846_row3_col7\" class=\"data row3 col7\" >0.169924</td>\n",
       "      <td id=\"T_17846_row3_col8\" class=\"data row3 col8\" >0.163078</td>\n",
       "      <td id=\"T_17846_row3_col9\" class=\"data row3 col9\" >0.172203</td>\n",
       "    </tr>\n",
       "    <tr>\n",
       "      <th id=\"T_17846_level0_row4\" class=\"row_heading level0 row4\" >bremen</th>\n",
       "      <td id=\"T_17846_row4_col0\" class=\"data row4 col0\" >0.253367</td>\n",
       "      <td id=\"T_17846_row4_col1\" class=\"data row4 col1\" >0.250701</td>\n",
       "      <td id=\"T_17846_row4_col2\" class=\"data row4 col2\" >0.253341</td>\n",
       "      <td id=\"T_17846_row4_col3\" class=\"data row4 col3\" >0.275912</td>\n",
       "      <td id=\"T_17846_row4_col4\" class=\"data row4 col4\" >0.256039</td>\n",
       "      <td id=\"T_17846_row4_col5\" class=\"data row4 col5\" >0.257362</td>\n",
       "      <td id=\"T_17846_row4_col6\" class=\"data row4 col6\" >0.262653</td>\n",
       "      <td id=\"T_17846_row4_col7\" class=\"data row4 col7\" >0.252050</td>\n",
       "      <td id=\"T_17846_row4_col8\" class=\"data row4 col8\" >0.258685</td>\n",
       "      <td id=\"T_17846_row4_col9\" class=\"data row4 col9\" >0.254685</td>\n",
       "    </tr>\n",
       "    <tr>\n",
       "      <th id=\"T_17846_level0_row5\" class=\"row_heading level0 row5\" >hamburg</th>\n",
       "      <td id=\"T_17846_row5_col0\" class=\"data row5 col0\" >0.183140</td>\n",
       "      <td id=\"T_17846_row5_col1\" class=\"data row5 col1\" >0.187984</td>\n",
       "      <td id=\"T_17846_row5_col2\" class=\"data row5 col2\" >0.189922</td>\n",
       "      <td id=\"T_17846_row5_col3\" class=\"data row5 col3\" >0.183140</td>\n",
       "      <td id=\"T_17846_row5_col4\" class=\"data row5 col4\" >0.195736</td>\n",
       "      <td id=\"T_17846_row5_col5\" class=\"data row5 col5\" >0.196705</td>\n",
       "      <td id=\"T_17846_row5_col6\" class=\"data row5 col6\" >0.191860</td>\n",
       "      <td id=\"T_17846_row5_col7\" class=\"data row5 col7\" >0.188953</td>\n",
       "      <td id=\"T_17846_row5_col8\" class=\"data row5 col8\" >0.196705</td>\n",
       "      <td id=\"T_17846_row5_col9\" class=\"data row5 col9\" >0.187984</td>\n",
       "    </tr>\n",
       "    <tr>\n",
       "      <th id=\"T_17846_level0_row6\" class=\"row_heading level0 row6\" >hessen</th>\n",
       "      <td id=\"T_17846_row6_col0\" class=\"data row6 col0\" >0.361905</td>\n",
       "      <td id=\"T_17846_row6_col1\" class=\"data row6 col1\" >0.331429</td>\n",
       "      <td id=\"T_17846_row6_col2\" class=\"data row6 col2\" >0.320000</td>\n",
       "      <td id=\"T_17846_row6_col3\" class=\"data row6 col3\" >0.314286</td>\n",
       "      <td id=\"T_17846_row6_col4\" class=\"data row6 col4\" >0.291429</td>\n",
       "      <td id=\"T_17846_row6_col5\" class=\"data row6 col5\" >0.260952</td>\n",
       "      <td id=\"T_17846_row6_col6\" class=\"data row6 col6\" >0.280000</td>\n",
       "      <td id=\"T_17846_row6_col7\" class=\"data row6 col7\" >0.289524</td>\n",
       "      <td id=\"T_17846_row6_col8\" class=\"data row6 col8\" >0.312381</td>\n",
       "      <td id=\"T_17846_row6_col9\" class=\"data row6 col9\" >0.281905</td>\n",
       "    </tr>\n",
       "    <tr>\n",
       "      <th id=\"T_17846_level0_row7\" class=\"row_heading level0 row7\" >mecklenburg-vorpommern</th>\n",
       "      <td id=\"T_17846_row7_col0\" class=\"data row7 col0\" >0.295928</td>\n",
       "      <td id=\"T_17846_row7_col1\" class=\"data row7 col1\" >0.282842</td>\n",
       "      <td id=\"T_17846_row7_col2\" class=\"data row7 col2\" >0.267634</td>\n",
       "      <td id=\"T_17846_row7_col3\" class=\"data row7 col3\" >0.274114</td>\n",
       "      <td id=\"T_17846_row7_col4\" class=\"data row7 col4\" >0.263263</td>\n",
       "      <td id=\"T_17846_row7_col5\" class=\"data row7 col5\" >0.239269</td>\n",
       "      <td id=\"T_17846_row7_col6\" class=\"data row7 col6\" >0.254506</td>\n",
       "      <td id=\"T_17846_row7_col7\" class=\"data row7 col7\" >0.256727</td>\n",
       "      <td id=\"T_17846_row7_col8\" class=\"data row7 col8\" >0.239298</td>\n",
       "      <td id=\"T_17846_row7_col9\" class=\"data row7 col9\" >0.248012</td>\n",
       "    </tr>\n",
       "    <tr>\n",
       "      <th id=\"T_17846_level0_row8\" class=\"row_heading level0 row8\" >niedersachsen</th>\n",
       "      <td id=\"T_17846_row8_col0\" class=\"data row8 col0\" >0.207627</td>\n",
       "      <td id=\"T_17846_row8_col1\" class=\"data row8 col1\" >0.197740</td>\n",
       "      <td id=\"T_17846_row8_col2\" class=\"data row8 col2\" >0.190678</td>\n",
       "      <td id=\"T_17846_row8_col3\" class=\"data row8 col3\" >0.196328</td>\n",
       "      <td id=\"T_17846_row8_col4\" class=\"data row8 col4\" >0.194915</td>\n",
       "      <td id=\"T_17846_row8_col5\" class=\"data row8 col5\" >0.165254</td>\n",
       "      <td id=\"T_17846_row8_col6\" class=\"data row8 col6\" >0.182203</td>\n",
       "      <td id=\"T_17846_row8_col7\" class=\"data row8 col7\" >0.173729</td>\n",
       "      <td id=\"T_17846_row8_col8\" class=\"data row8 col8\" >0.175141</td>\n",
       "      <td id=\"T_17846_row8_col9\" class=\"data row8 col9\" >0.159605</td>\n",
       "    </tr>\n",
       "    <tr>\n",
       "      <th id=\"T_17846_level0_row9\" class=\"row_heading level0 row9\" >nordrhein-westfalen</th>\n",
       "      <td id=\"T_17846_row9_col0\" class=\"data row9 col0\" >0.176154</td>\n",
       "      <td id=\"T_17846_row9_col1\" class=\"data row9 col1\" >0.169604</td>\n",
       "      <td id=\"T_17846_row9_col2\" class=\"data row9 col2\" >0.176129</td>\n",
       "      <td id=\"T_17846_row9_col3\" class=\"data row9 col3\" >0.183786</td>\n",
       "      <td id=\"T_17846_row9_col4\" class=\"data row9 col4\" >0.191455</td>\n",
       "      <td id=\"T_17846_row9_col5\" class=\"data row9 col5\" >0.177222</td>\n",
       "      <td id=\"T_17846_row9_col6\" class=\"data row9 col6\" >0.181608</td>\n",
       "      <td id=\"T_17846_row9_col7\" class=\"data row9 col7\" >0.170679</td>\n",
       "      <td id=\"T_17846_row9_col8\" class=\"data row9 col8\" >0.185990</td>\n",
       "      <td id=\"T_17846_row9_col9\" class=\"data row9 col9\" >0.167386</td>\n",
       "    </tr>\n",
       "    <tr>\n",
       "      <th id=\"T_17846_level0_row10\" class=\"row_heading level0 row10\" >rheinland-pfalz</th>\n",
       "      <td id=\"T_17846_row10_col0\" class=\"data row10 col0\" >0.218578</td>\n",
       "      <td id=\"T_17846_row10_col1\" class=\"data row10 col1\" >0.227487</td>\n",
       "      <td id=\"T_17846_row10_col2\" class=\"data row10 col2\" >0.217070</td>\n",
       "      <td id=\"T_17846_row10_col3\" class=\"data row10 col3\" >0.218565</td>\n",
       "      <td id=\"T_17846_row10_col4\" class=\"data row10 col4\" >0.234927</td>\n",
       "      <td id=\"T_17846_row10_col5\" class=\"data row10 col5\" >0.212639</td>\n",
       "      <td id=\"T_17846_row10_col6\" class=\"data row10 col6\" >0.214107</td>\n",
       "      <td id=\"T_17846_row10_col7\" class=\"data row10 col7\" >0.217090</td>\n",
       "      <td id=\"T_17846_row10_col8\" class=\"data row10 col8\" >0.212612</td>\n",
       "      <td id=\"T_17846_row10_col9\" class=\"data row10 col9\" >0.217077</td>\n",
       "    </tr>\n",
       "    <tr>\n",
       "      <th id=\"T_17846_level0_row11\" class=\"row_heading level0 row11\" >saarland</th>\n",
       "      <td id=\"T_17846_row11_col0\" class=\"data row11 col0\" >0.336064</td>\n",
       "      <td id=\"T_17846_row11_col1\" class=\"data row11 col1\" >0.315360</td>\n",
       "      <td id=\"T_17846_row11_col2\" class=\"data row11 col2\" >0.315347</td>\n",
       "      <td id=\"T_17846_row11_col3\" class=\"data row11 col3\" >0.300802</td>\n",
       "      <td id=\"T_17846_row11_col4\" class=\"data row11 col4\" >0.286297</td>\n",
       "      <td id=\"T_17846_row11_col5\" class=\"data row11 col5\" >0.288380</td>\n",
       "      <td id=\"T_17846_row11_col6\" class=\"data row11 col6\" >0.282182</td>\n",
       "      <td id=\"T_17846_row11_col7\" class=\"data row11 col7\" >0.263483</td>\n",
       "      <td id=\"T_17846_row11_col8\" class=\"data row11 col8\" >0.269708</td>\n",
       "      <td id=\"T_17846_row11_col9\" class=\"data row11 col9\" >0.265515</td>\n",
       "    </tr>\n",
       "    <tr>\n",
       "      <th id=\"T_17846_level0_row12\" class=\"row_heading level0 row12\" >sachsen</th>\n",
       "      <td id=\"T_17846_row12_col0\" class=\"data row12 col0\" >0.242735</td>\n",
       "      <td id=\"T_17846_row12_col1\" class=\"data row12 col1\" >0.241026</td>\n",
       "      <td id=\"T_17846_row12_col2\" class=\"data row12 col2\" >0.239316</td>\n",
       "      <td id=\"T_17846_row12_col3\" class=\"data row12 col3\" >0.246154</td>\n",
       "      <td id=\"T_17846_row12_col4\" class=\"data row12 col4\" >0.246154</td>\n",
       "      <td id=\"T_17846_row12_col5\" class=\"data row12 col5\" >0.235897</td>\n",
       "      <td id=\"T_17846_row12_col6\" class=\"data row12 col6\" >0.225641</td>\n",
       "      <td id=\"T_17846_row12_col7\" class=\"data row12 col7\" >0.213675</td>\n",
       "      <td id=\"T_17846_row12_col8\" class=\"data row12 col8\" >0.234188</td>\n",
       "      <td id=\"T_17846_row12_col9\" class=\"data row12 col9\" >0.218803</td>\n",
       "    </tr>\n",
       "    <tr>\n",
       "      <th id=\"T_17846_level0_row13\" class=\"row_heading level0 row13\" >sachsen-anhalt</th>\n",
       "      <td id=\"T_17846_row13_col0\" class=\"data row13 col0\" >0.253034</td>\n",
       "      <td id=\"T_17846_row13_col1\" class=\"data row13 col1\" >0.251526</td>\n",
       "      <td id=\"T_17846_row13_col2\" class=\"data row13 col2\" >0.251547</td>\n",
       "      <td id=\"T_17846_row13_col3\" class=\"data row13 col3\" >0.248481</td>\n",
       "      <td id=\"T_17846_row13_col4\" class=\"data row13 col4\" >0.218005</td>\n",
       "      <td id=\"T_17846_row13_col5\" class=\"data row13 col5\" >0.204286</td>\n",
       "      <td id=\"T_17846_row13_col6\" class=\"data row13 col6\" >0.219548</td>\n",
       "      <td id=\"T_17846_row13_col7\" class=\"data row13 col7\" >0.214996</td>\n",
       "      <td id=\"T_17846_row13_col8\" class=\"data row13 col8\" >0.207358</td>\n",
       "      <td id=\"T_17846_row13_col9\" class=\"data row13 col9\" >0.218019</td>\n",
       "    </tr>\n",
       "    <tr>\n",
       "      <th id=\"T_17846_level0_row14\" class=\"row_heading level0 row14\" >schleswig-holstein</th>\n",
       "      <td id=\"T_17846_row14_col0\" class=\"data row14 col0\" >0.196881</td>\n",
       "      <td id=\"T_17846_row14_col1\" class=\"data row14 col1\" >0.194932</td>\n",
       "      <td id=\"T_17846_row14_col2\" class=\"data row14 col2\" >0.191033</td>\n",
       "      <td id=\"T_17846_row14_col3\" class=\"data row14 col3\" >0.165692</td>\n",
       "      <td id=\"T_17846_row14_col4\" class=\"data row14 col4\" >0.167641</td>\n",
       "      <td id=\"T_17846_row14_col5\" class=\"data row14 col5\" >0.167641</td>\n",
       "      <td id=\"T_17846_row14_col6\" class=\"data row14 col6\" >0.173489</td>\n",
       "      <td id=\"T_17846_row14_col7\" class=\"data row14 col7\" >0.159844</td>\n",
       "      <td id=\"T_17846_row14_col8\" class=\"data row14 col8\" >0.153996</td>\n",
       "      <td id=\"T_17846_row14_col9\" class=\"data row14 col9\" >0.157895</td>\n",
       "    </tr>\n",
       "    <tr>\n",
       "      <th id=\"T_17846_level0_row15\" class=\"row_heading level0 row15\" >thueringen</th>\n",
       "      <td id=\"T_17846_row15_col0\" class=\"data row15 col0\" >0.210861</td>\n",
       "      <td id=\"T_17846_row15_col1\" class=\"data row15 col1\" >0.196619</td>\n",
       "      <td id=\"T_17846_row15_col2\" class=\"data row15 col2\" >0.214727</td>\n",
       "      <td id=\"T_17846_row15_col3\" class=\"data row15 col3\" >0.208262</td>\n",
       "      <td id=\"T_17846_row15_col4\" class=\"data row15 col4\" >0.201807</td>\n",
       "      <td id=\"T_17846_row15_col5\" class=\"data row15 col5\" >0.194055</td>\n",
       "      <td id=\"T_17846_row15_col6\" class=\"data row15 col6\" >0.196634</td>\n",
       "      <td id=\"T_17846_row15_col7\" class=\"data row15 col7\" >0.213475</td>\n",
       "      <td id=\"T_17846_row15_col8\" class=\"data row15 col8\" >0.200530</td>\n",
       "      <td id=\"T_17846_row15_col9\" class=\"data row15 col9\" >0.199233</td>\n",
       "    </tr>\n",
       "  </tbody>\n",
       "</table>\n"
      ],
      "text/plain": [
       "<pandas.io.formats.style.Styler at 0x7f650c758ed0>"
      ]
     },
     "execution_count": 123,
     "metadata": {},
     "output_type": "execute_result"
    }
   ],
   "source": [
    "bl.pivot(index='land', columns='vec_spec').\\\n",
    "    style.highlight_max(color='lightgreen').highlight_min(color='red')"
   ]
  },
  {
   "cell_type": "code",
   "execution_count": 124,
   "id": "050b61a4-e6c6-442a-a630-0378e7bfcf03",
   "metadata": {},
   "outputs": [
    {
     "data": {
      "text/html": [
       "<div>\n",
       "<style scoped>\n",
       "    .dataframe tbody tr th:only-of-type {\n",
       "        vertical-align: middle;\n",
       "    }\n",
       "\n",
       "    .dataframe tbody tr th {\n",
       "        vertical-align: top;\n",
       "    }\n",
       "\n",
       "    .dataframe thead th {\n",
       "        text-align: right;\n",
       "    }\n",
       "</style>\n",
       "<table border=\"1\" class=\"dataframe\">\n",
       "  <thead>\n",
       "    <tr style=\"text-align: right;\">\n",
       "      <th></th>\n",
       "      <th>accuracy</th>\n",
       "    </tr>\n",
       "    <tr>\n",
       "      <th>land</th>\n",
       "      <th></th>\n",
       "    </tr>\n",
       "  </thead>\n",
       "  <tbody>\n",
       "    <tr>\n",
       "      <th>baden-wuerttemberg</th>\n",
       "      <td>0.183590</td>\n",
       "    </tr>\n",
       "    <tr>\n",
       "      <th>bayern</th>\n",
       "      <td>0.375493</td>\n",
       "    </tr>\n",
       "    <tr>\n",
       "      <th>berlin</th>\n",
       "      <td>0.125567</td>\n",
       "    </tr>\n",
       "    <tr>\n",
       "      <th>brandenburg</th>\n",
       "      <td>0.207529</td>\n",
       "    </tr>\n",
       "    <tr>\n",
       "      <th>bremen</th>\n",
       "      <td>0.305097</td>\n",
       "    </tr>\n",
       "    <tr>\n",
       "      <th>hamburg</th>\n",
       "      <td>0.229651</td>\n",
       "    </tr>\n",
       "    <tr>\n",
       "      <th>hessen</th>\n",
       "      <td>0.420952</td>\n",
       "    </tr>\n",
       "    <tr>\n",
       "      <th>mecklenburg-vorpommern</th>\n",
       "      <td>0.363226</td>\n",
       "    </tr>\n",
       "    <tr>\n",
       "      <th>nordrhein-westfalen</th>\n",
       "      <td>0.200252</td>\n",
       "    </tr>\n",
       "    <tr>\n",
       "      <th>saarland</th>\n",
       "      <td>0.358929</td>\n",
       "    </tr>\n",
       "    <tr>\n",
       "      <th>sachsen</th>\n",
       "      <td>0.288889</td>\n",
       "    </tr>\n",
       "    <tr>\n",
       "      <th>sachsen-anhalt</th>\n",
       "      <td>0.250073</td>\n",
       "    </tr>\n",
       "    <tr>\n",
       "      <th>schleswig-holstein</th>\n",
       "      <td>0.212476</td>\n",
       "    </tr>\n",
       "    <tr>\n",
       "      <th>thueringen</th>\n",
       "      <td>0.253587</td>\n",
       "    </tr>\n",
       "    <tr>\n",
       "      <th>niedersachsen</th>\n",
       "      <td>0.207627</td>\n",
       "    </tr>\n",
       "    <tr>\n",
       "      <th>rheinland-pfalz</th>\n",
       "      <td>0.260179</td>\n",
       "    </tr>\n",
       "  </tbody>\n",
       "</table>\n",
       "</div>"
      ],
      "text/plain": [
       "                        accuracy\n",
       "land                            \n",
       "baden-wuerttemberg      0.183590\n",
       "bayern                  0.375493\n",
       "berlin                  0.125567\n",
       "brandenburg             0.207529\n",
       "bremen                  0.305097\n",
       "hamburg                 0.229651\n",
       "hessen                  0.420952\n",
       "mecklenburg-vorpommern  0.363226\n",
       "nordrhein-westfalen     0.200252\n",
       "saarland                0.358929\n",
       "sachsen                 0.288889\n",
       "sachsen-anhalt          0.250073\n",
       "schleswig-holstein      0.212476\n",
       "thueringen              0.253587\n",
       "niedersachsen           0.207627\n",
       "rheinland-pfalz         0.260179"
      ]
     },
     "execution_count": 124,
     "metadata": {},
     "output_type": "execute_result"
    }
   ],
   "source": [
    "leifi.groupby"
   ]
  },
  {
   "cell_type": "code",
   "execution_count": 83,
   "id": "e2f81fab-0163-40a2-a463-cd30728eb336",
   "metadata": {},
   "outputs": [
    {
     "data": {
      "text/html": [
       "<div>\n",
       "<style scoped>\n",
       "    .dataframe tbody tr th:only-of-type {\n",
       "        vertical-align: middle;\n",
       "    }\n",
       "\n",
       "    .dataframe tbody tr th {\n",
       "        vertical-align: top;\n",
       "    }\n",
       "\n",
       "    .dataframe thead th {\n",
       "        text-align: right;\n",
       "    }\n",
       "</style>\n",
       "<table border=\"1\" class=\"dataframe\">\n",
       "  <thead>\n",
       "    <tr style=\"text-align: right;\">\n",
       "      <th></th>\n",
       "      <th>vec_spec</th>\n",
       "      <th>land</th>\n",
       "      <th>accuracyst</th>\n",
       "      <th>accuracybl</th>\n",
       "    </tr>\n",
       "  </thead>\n",
       "  <tbody>\n",
       "    <tr>\n",
       "      <th>0</th>\n",
       "      <td>0.70</td>\n",
       "      <td>baden-wuerttemberg</td>\n",
       "      <td>0.152011</td>\n",
       "      <td>0.183590</td>\n",
       "    </tr>\n",
       "    <tr>\n",
       "      <th>1</th>\n",
       "      <td>0.70</td>\n",
       "      <td>bayern</td>\n",
       "      <td>0.278635</td>\n",
       "      <td>0.375493</td>\n",
       "    </tr>\n",
       "    <tr>\n",
       "      <th>2</th>\n",
       "      <td>0.70</td>\n",
       "      <td>berlin</td>\n",
       "      <td>0.126451</td>\n",
       "      <td>0.125567</td>\n",
       "    </tr>\n",
       "    <tr>\n",
       "      <th>3</th>\n",
       "      <td>0.70</td>\n",
       "      <td>brandenburg</td>\n",
       "      <td>0.196172</td>\n",
       "      <td>0.207529</td>\n",
       "    </tr>\n",
       "    <tr>\n",
       "      <th>4</th>\n",
       "      <td>0.70</td>\n",
       "      <td>bremen</td>\n",
       "      <td>0.253367</td>\n",
       "      <td>0.305097</td>\n",
       "    </tr>\n",
       "    <tr>\n",
       "      <th>...</th>\n",
       "      <td>...</td>\n",
       "      <td>...</td>\n",
       "      <td>...</td>\n",
       "      <td>...</td>\n",
       "    </tr>\n",
       "    <tr>\n",
       "      <th>155</th>\n",
       "      <td>0.99</td>\n",
       "      <td>sachsen-anhalt</td>\n",
       "      <td>0.218019</td>\n",
       "      <td>0.250073</td>\n",
       "    </tr>\n",
       "    <tr>\n",
       "      <th>156</th>\n",
       "      <td>0.99</td>\n",
       "      <td>schleswig-holstein</td>\n",
       "      <td>0.157895</td>\n",
       "      <td>0.212476</td>\n",
       "    </tr>\n",
       "    <tr>\n",
       "      <th>157</th>\n",
       "      <td>0.99</td>\n",
       "      <td>thueringen</td>\n",
       "      <td>0.199233</td>\n",
       "      <td>0.253587</td>\n",
       "    </tr>\n",
       "    <tr>\n",
       "      <th>158</th>\n",
       "      <td>0.99</td>\n",
       "      <td>niedersachsen</td>\n",
       "      <td>0.159605</td>\n",
       "      <td>0.207627</td>\n",
       "    </tr>\n",
       "    <tr>\n",
       "      <th>159</th>\n",
       "      <td>0.99</td>\n",
       "      <td>rheinland-pfalz</td>\n",
       "      <td>0.217077</td>\n",
       "      <td>0.260179</td>\n",
       "    </tr>\n",
       "  </tbody>\n",
       "</table>\n",
       "<p>160 rows × 4 columns</p>\n",
       "</div>"
      ],
      "text/plain": [
       "     vec_spec                land  accuracyst  accuracybl\n",
       "0        0.70  baden-wuerttemberg    0.152011    0.183590\n",
       "1        0.70              bayern    0.278635    0.375493\n",
       "2        0.70              berlin    0.126451    0.125567\n",
       "3        0.70         brandenburg    0.196172    0.207529\n",
       "4        0.70              bremen    0.253367    0.305097\n",
       "..        ...                 ...         ...         ...\n",
       "155      0.99      sachsen-anhalt    0.218019    0.250073\n",
       "156      0.99  schleswig-holstein    0.157895    0.212476\n",
       "157      0.99          thueringen    0.199233    0.253587\n",
       "158      0.99       niedersachsen    0.159605    0.207627\n",
       "159      0.99     rheinland-pfalz    0.217077    0.260179\n",
       "\n",
       "[160 rows x 4 columns]"
      ]
     },
     "execution_count": 83,
     "metadata": {},
     "output_type": "execute_result"
    }
   ],
   "source": [
    "bl.join(st, on='land', rsuffix='bl', lsuffix='st')"
   ]
  },
  {
   "cell_type": "markdown",
   "id": "49dd6e2c-862b-4d97-8367-f1c1e72da71c",
   "metadata": {
    "tags": []
   },
   "source": [
    "### Features across grades"
   ]
  },
  {
   "cell_type": "code",
   "execution_count": 15,
   "id": "d7bb9961-a396-4e1d-8b34-fa03dacc2fad",
   "metadata": {},
   "outputs": [],
   "source": [
    "from curry.features import Extractor\n",
    "import numpy as np\n",
    "import json\n",
    "import urllib"
   ]
  },
  {
   "cell_type": "code",
   "execution_count": 6,
   "id": "970b7fd1-e62d-4f51-952a-91a1a83461c2",
   "metadata": {},
   "outputs": [],
   "source": [
    "extractorC = Extractor('../data/cache/')"
   ]
  },
  {
   "cell_type": "code",
   "execution_count": 7,
   "id": "28ce64a1-d227-46a2-95ef-f29e175228b0",
   "metadata": {},
   "outputs": [],
   "source": [
    "urls = leifi.grundwissen_url.unique()"
   ]
  },
  {
   "cell_type": "code",
   "execution_count": 8,
   "id": "6e9703f1-255c-4e14-9d34-2d2f4b405816",
   "metadata": {},
   "outputs": [],
   "source": [
    "def get_simple_feature(babel_feature):\n",
    "    try:\n",
    "        f = json.loads(babel_feature)\n",
    "    except Exception as e:\n",
    "        print(e)\n",
    "        return None\n",
    "    if f['dbpedia']:\n",
    "        return urllib.parse.unquote(f['dbpedia'][0].split('/')[-1])\n",
    "    else:\n",
    "        return urllib.parse.unquote(f['text'][0])\n"
   ]
  },
  {
   "cell_type": "code",
   "execution_count": 16,
   "id": "ee1a6e01-57c5-4172-8791-951a7f8e9149",
   "metadata": {},
   "outputs": [],
   "source": [
    "comp = pd.read_pickle('../data/cache/top_features_for_comparison.pkl')\n",
    "results = {'yake': [], 'babel': [], 'wiki': []}\n",
    "classes_by_url = leifi.groupby('grundwissen_url').klass.unique()\n",
    "class_counts = leifi.klass.value_counts().sort_index().values\n",
    "for extractor in results.keys():\n",
    "    by_class_feature_count = dict()\n",
    "    if extractor == 'yake':\n",
    "        (encoding, feature_names), features = extractorC.keywords(urls), comp.YAKE\n",
    "    elif extractor == 'babel':\n",
    "        (encoding, feature_names), features = extractorC.babelfy_kws(urls, 0.5, False), comp.Babelfy\n",
    "        feature_names = np.array([get_simple_feature(f) for f in feature_names])\n",
    "    elif extractor == 'wiki':\n",
    "        (encoding, feature_names), features = extractorC.wikifier_kws(urls, 0.01, False), comp.Wikifier\n",
    "    for feature in features:\n",
    "        out = np.zeros(9)\n",
    "        for url in classes_by_url.index:\n",
    "            x = np.where(urls == url)\n",
    "            y = np.where(feature_names == feature)\n",
    "            feature_count = encoding[x, y].todense()\n",
    "            try:\n",
    "                feature_count = feature_count.item()\n",
    "            except Exception as e:\n",
    "                print(x, y, extractor, feature, url)\n",
    "                raise e\n",
    "            for klass in classes_by_url[url]:\n",
    "                out[klass - 5] += feature_count\n",
    "        results[extractor].append((feature, np.divide(out, class_counts)))"
   ]
  },
  {
   "cell_type": "code",
   "execution_count": 52,
   "id": "7f3ded7c-c79c-406f-aab2-352d3287b97f",
   "metadata": {},
   "outputs": [
    {
     "data": {
      "image/png": "[encoded data removed]",
      "text/plain": [
       "<Figure size 720x360 with 9 Axes>"
      ]
     },
     "metadata": {
      "needs_background": "light"
     },
     "output_type": "display_data"
    }
   ],
   "source": [
    "fig, axs = plt.subplots(3, 3, figsize=(10,5))\n",
    "extractor == 'wiki'\n",
    "for i in range(3):\n",
    "    for j in range(3):\n",
    "        feature, result = results[extractor][i*3+j]\n",
    "        axs[j][i].plot(list(range(5, 14)), result)\n",
    "        if feature == 'Elektron':\n",
    "            axs[j][i].set_title(feature, y=1.0, pad=-14)\n",
    "        elif feature == 'Magnetismus':\n",
    "            axs[j][i].set_title(feature, y=1.0, pad=-74)\n",
    "        elif feature.startswith('Elektro'):\n",
    "            axs[j][i].set_title(feature.replace(' ', '\\n'), y=1.0, pad=-74, loc='right')\n",
    "        elif feature.startswith('Elektri'):\n",
    "            axs[j][i].set_title('Elektrischer     \\nStrom', y=1.0, pad=-74, loc='center')\n",
    "        else:\n",
    "            axs[j][i].set_title(feature, y=1.0, pad=-14)\n",
    "        # axs[j][i].set_xticks([])\n",
    "        axs[j][i].set_yticks([])\n",
    "\n",
    "# for i, feature in enumerate(by_class_feature_count):\n",
    "#     if i < 10:\n",
    "#         axs[i].plot(list(range(5, 14)), by_class_feature_count[feature])\n",
    "#         axs[i].set_title(feature)"
   ]
  },
  {
   "cell_type": "code",
   "execution_count": 185,
   "id": "6595b518-76ac-4547-8b4e-f67032c96c63",
   "metadata": {},
   "outputs": [
    {
     "data": {
      "image/png": "[encoded data removed]",
      "text/plain": [
       "<Figure size 720x720 with 30 Axes>"
      ]
     },
     "metadata": {},
     "output_type": "display_data"
    }
   ],
   "source": [
    "fig, axs = plt.subplots(10, 3, figsize=(10,10))\n",
    "extractors = list(results.keys())\n",
    "for i in range(3):\n",
    "    extractor = extractors[i]\n",
    "    for j in range(10):\n",
    "        feature, result = results[extractor][j]\n",
    "        axs[j][i].plot(list(range(5, 14)), result)\n",
    "        axs[j][i].set_title(feature, y=1.0, pad=-14)\n",
    "        axs[j][i].set_xticks([])\n",
    "        axs[j][i].set_yticks([])\n",
    "\n",
    "# for i, feature in enumerate(by_class_feature_count):\n",
    "#     if i < 10:\n",
    "#         axs[i].plot(list(range(5, 14)), by_class_feature_count[feature])\n",
    "#         axs[i].set_title(feature)"
   ]
  },
  {
   "cell_type": "code",
   "execution_count": 176,
   "id": "2f5935c4-45a5-4b74-8e3c-86da8e53864d",
   "metadata": {},
   "outputs": [],
   "source": [
    "from PIL import Image"
   ]
  },
  {
   "cell_type": "code",
   "execution_count": 179,
   "id": "9e5a7964-c136-4e0e-856d-a1289f8a3cda",
   "metadata": {},
   "outputs": [],
   "source": [
    "img = Image.open('/home/rsebastian/Downloads/feature_distribution.png')"
   ]
  },
  {
   "cell_type": "code",
   "execution_count": 182,
   "id": "9107fbb7-affc-4614-9236-83e622c91ef5",
   "metadata": {},
   "outputs": [
    {
     "data": {
      "image/png": "[encoded data removed]",
      "text/plain": [
       "<PIL.Image.Image image mode=RGBA size=583x500 at 0x7F68865BAD10>"
      ]
     },
     "execution_count": 182,
     "metadata": {},
     "output_type": "execute_result"
    }
   ],
   "source": [
    "img.resize((583, 500))"
   ]
  },
  {
   "cell_type": "code",
   "execution_count": null,
   "id": "5dd3a4b2-73a7-470e-b1d3-c3b456c9a45c",
   "metadata": {},
   "outputs": [],
   "source": []
  },
  {
   "cell_type": "code",
   "execution_count": 145,
   "id": "f8ba6421-7b3a-4fc8-8fde-498bd70c08a9",
   "metadata": {},
   "outputs": [],
   "source": [
    "comp = pd.read_pickle('../data/cache/top_features_for_comparison.pkl')"
   ]
  },
  {
   "cell_type": "code",
   "execution_count": 139,
   "id": "71d95d97-0f06-45df-a549-bca8ba82ad41",
   "metadata": {},
   "outputs": [],
   "source": [
    "comp.loc[10, 'Babelfy'] = '{\"dbpedia\": [], \"text\": [\"verschiedenen\"]}'"
   ]
  },
  {
   "cell_type": "code",
   "execution_count": 140,
   "id": "f8119106-d345-4359-8824-07d57ff5775f",
   "metadata": {},
   "outputs": [],
   "source": [
    "comp.to_pickle('../data/cache/top_features_for_comparison.pkl')"
   ]
  },
  {
   "cell_type": "code",
   "execution_count": null,
   "id": "b3a00378-6380-446c-b88e-0a3e1826c4d6",
   "metadata": {},
   "outputs": [],
   "source": []
  }
 ],
 "metadata": {
  "kernelspec": {
   "display_name": "Python 3 (ipykernel)",
   "language": "python",
   "name": "python3"
  },
  "language_info": {
   "codemirror_mode": {
    "name": "ipython",
    "version": 3
   },
   "file_extension": ".py",
   "mimetype": "text/x-python",
   "name": "python",
   "nbconvert_exporter": "python",
   "pygments_lexer": "ipython3",
   "version": "3.7.11"
  }
 },
 "nbformat": 4,
 "nbformat_minor": 5
}
