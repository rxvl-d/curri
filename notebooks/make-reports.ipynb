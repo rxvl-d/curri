{
 "cells": [
  {
   "cell_type": "code",
   "execution_count": 15,
   "id": "dfaca063",
   "metadata": {},
   "outputs": [],
   "source": [
    "import pandas as pd"
   ]
  },
  {
   "cell_type": "code",
   "execution_count": 16,
   "id": "2d3b9002",
   "metadata": {},
   "outputs": [],
   "source": [
    "better_col_names = {\n",
    "    'xgbClassifier': 'Simple Classification',\n",
    "    'xgbOrdinalClassifier': 'Ordinal Classification',\n",
    "    'xgbCoarseGrainedClassifier': 'Binned(3 Bins) Classification'\n",
    "}\n",
    "\n",
    "better_index_name = {\n",
    "    'babelkw': 'Babelfy KWs',\n",
    "    'kw': 'YAKE KWs',\n",
    "    'wikikw': 'Wikifier KWs',\n",
    "    'st': 'Sentence Transformer',\n",
    "    'tfidf': 'TF-IDF'\n",
    "}"
   ]
  },
  {
   "cell_type": "code",
   "execution_count": 17,
   "id": "38a62bf6",
   "metadata": {},
   "outputs": [],
   "source": [
    "results_dir = '../../ansible/results/accuracies'\n",
    "parsed = dict()\n",
    "with open(results_dir) as f:\n",
    "    for l in f:\n",
    "        label, acc = l.split('\\t')\n",
    "        parsed[label] = acc"
   ]
  },
  {
   "cell_type": "code",
   "execution_count": 26,
   "id": "3f870d13",
   "metadata": {},
   "outputs": [],
   "source": [
    "results = []\n",
    "for k in parsed:\n",
    "    model, features, filtered = k.split('.')[0].split('_')\n",
    "    filtered = filtered == 'True'\n",
    "    accuracy = float(parsed[k].strip())\n",
    "    results.append((model, features, filtered, accuracy))\n",
    "df = pd.DataFrame(results, columns=['model', 'features', 'filtered', 'accuracy'])"
   ]
  },
  {
   "cell_type": "code",
   "execution_count": 27,
   "id": "066c12ae",
   "metadata": {},
   "outputs": [
    {
     "data": {
      "text/html": [
       "<style type=\"text/css\">\n",
       "#T_95391_row2_col0, #T_95391_row2_col2, #T_95391_row3_col1 {\n",
       "  background-color: lightgreen;\n",
       "}\n",
       "</style>\n",
       "<table id=\"T_95391_\">\n",
       "  <thead>\n",
       "    <tr>\n",
       "      <th class=\"blank\" >&nbsp;</th>\n",
       "      <th class=\"index_name level0\" >model</th>\n",
       "      <th class=\"col_heading level0 col0\" >Simple Classification</th>\n",
       "      <th class=\"col_heading level0 col1\" >Binned(3 Bins) Classification</th>\n",
       "      <th class=\"col_heading level0 col2\" >Ordinal Classification</th>\n",
       "    </tr>\n",
       "    <tr>\n",
       "      <th class=\"index_name level0\" >&nbsp;</th>\n",
       "      <th class=\"index_name level1\" >features</th>\n",
       "      <th class=\"blank col0\" >&nbsp;</th>\n",
       "      <th class=\"blank col1\" >&nbsp;</th>\n",
       "      <th class=\"blank col2\" >&nbsp;</th>\n",
       "    </tr>\n",
       "  </thead>\n",
       "  <tbody>\n",
       "    <tr>\n",
       "      <th id=\"T_95391_level0_row0\" class=\"row_heading level0 row0\" rowspan=\"5\">accuracy</th>\n",
       "      <th id=\"T_95391_level1_row0\" class=\"row_heading level1 row0\" >Babelfy KWs</th>\n",
       "      <td id=\"T_95391_row0_col0\" class=\"data row0 col0\" >0.123890</td>\n",
       "      <td id=\"T_95391_row0_col1\" class=\"data row0 col1\" >0.496260</td>\n",
       "      <td id=\"T_95391_row0_col2\" class=\"data row0 col2\" >0.119565</td>\n",
       "    </tr>\n",
       "    <tr>\n",
       "      <th id=\"T_95391_level1_row1\" class=\"row_heading level1 row1\" >YAKE KWs</th>\n",
       "      <td id=\"T_95391_row1_col0\" class=\"data row1 col0\" >0.121201</td>\n",
       "      <td id=\"T_95391_row1_col1\" class=\"data row1 col1\" >0.477443</td>\n",
       "      <td id=\"T_95391_row1_col2\" class=\"data row1 col2\" >0.111851</td>\n",
       "    </tr>\n",
       "    <tr>\n",
       "      <th id=\"T_95391_level1_row2\" class=\"row_heading level1 row2\" >Sentence Transformer</th>\n",
       "      <td id=\"T_95391_row2_col0\" class=\"data row2 col0\" >0.135227</td>\n",
       "      <td id=\"T_95391_row2_col1\" class=\"data row2 col1\" >0.504208</td>\n",
       "      <td id=\"T_95391_row2_col2\" class=\"data row2 col2\" >0.134058</td>\n",
       "    </tr>\n",
       "    <tr>\n",
       "      <th id=\"T_95391_level1_row3\" class=\"row_heading level1 row3\" >TF-IDF</th>\n",
       "      <td id=\"T_95391_row3_col0\" class=\"data row3 col0\" >0.127747</td>\n",
       "      <td id=\"T_95391_row3_col1\" class=\"data row3 col1\" >0.505259</td>\n",
       "      <td id=\"T_95391_row3_col2\" class=\"data row3 col2\" >0.116994</td>\n",
       "    </tr>\n",
       "    <tr>\n",
       "      <th id=\"T_95391_level1_row4\" class=\"row_heading level1 row4\" >Wikifier KWs</th>\n",
       "      <td id=\"T_95391_row4_col0\" class=\"data row4 col0\" >0.126578</td>\n",
       "      <td id=\"T_95391_row4_col1\" class=\"data row4 col1\" >0.479313</td>\n",
       "      <td id=\"T_95391_row4_col2\" class=\"data row4 col2\" >0.123422</td>\n",
       "    </tr>\n",
       "  </tbody>\n",
       "</table>\n"
      ],
      "text/plain": [
       "<pandas.io.formats.style.Styler at 0x7f684a761e90>"
      ]
     },
     "execution_count": 27,
     "metadata": {},
     "output_type": "execute_result"
    }
   ],
   "source": [
    "df[df.filtered].\\\n",
    "    drop(columns=['filtered']).\\\n",
    "    pivot(index='model', columns='features').\\\n",
    "    transpose().\\\n",
    "    rename(columns=better_col_names, index=better_index_name).\\\n",
    "    style.highlight_max(color='lightgreen')"
   ]
  },
  {
   "cell_type": "code",
   "execution_count": 28,
   "id": "ec57ed58",
   "metadata": {},
   "outputs": [
    {
     "data": {
      "text/html": [
       "<style type=\"text/css\">\n",
       "#T_da02c_row2_col0, #T_da02c_row2_col1, #T_da02c_row2_col2 {\n",
       "  background-color: lightgreen;\n",
       "}\n",
       "</style>\n",
       "<table id=\"T_da02c_\">\n",
       "  <thead>\n",
       "    <tr>\n",
       "      <th class=\"blank\" >&nbsp;</th>\n",
       "      <th class=\"index_name level0\" >model</th>\n",
       "      <th class=\"col_heading level0 col0\" >Simple Classification</th>\n",
       "      <th class=\"col_heading level0 col1\" >Binned(3 Bins) Classification</th>\n",
       "      <th class=\"col_heading level0 col2\" >Ordinal Classification</th>\n",
       "    </tr>\n",
       "    <tr>\n",
       "      <th class=\"index_name level0\" >&nbsp;</th>\n",
       "      <th class=\"index_name level1\" >features</th>\n",
       "      <th class=\"blank col0\" >&nbsp;</th>\n",
       "      <th class=\"blank col1\" >&nbsp;</th>\n",
       "      <th class=\"blank col2\" >&nbsp;</th>\n",
       "    </tr>\n",
       "  </thead>\n",
       "  <tbody>\n",
       "    <tr>\n",
       "      <th id=\"T_da02c_level0_row0\" class=\"row_heading level0 row0\" rowspan=\"5\">accuracy</th>\n",
       "      <th id=\"T_da02c_level1_row0\" class=\"row_heading level1 row0\" >Babelfy KWs</th>\n",
       "      <td id=\"T_da02c_row0_col0\" class=\"data row0 col0\" >0.105340</td>\n",
       "      <td id=\"T_da02c_row0_col1\" class=\"data row0 col1\" >0.479643</td>\n",
       "      <td id=\"T_da02c_row0_col2\" class=\"data row0 col2\" >0.111768</td>\n",
       "    </tr>\n",
       "    <tr>\n",
       "      <th id=\"T_da02c_level1_row1\" class=\"row_heading level1 row1\" >YAKE KWs</th>\n",
       "      <td id=\"T_da02c_row1_col0\" class=\"data row1 col0\" >0.113397</td>\n",
       "      <td id=\"T_da02c_row1_col1\" class=\"data row1 col1\" >0.467472</td>\n",
       "      <td id=\"T_da02c_row1_col2\" class=\"data row1 col2\" >0.100626</td>\n",
       "    </tr>\n",
       "    <tr>\n",
       "      <th id=\"T_da02c_level1_row2\" class=\"row_heading level1 row2\" >Sentence Transformer</th>\n",
       "      <td id=\"T_da02c_row2_col0\" class=\"data row2 col0\" >0.118968</td>\n",
       "      <td id=\"T_da02c_row2_col1\" class=\"data row2 col1\" >0.492415</td>\n",
       "      <td id=\"T_da02c_row2_col2\" class=\"data row2 col2\" >0.114854</td>\n",
       "    </tr>\n",
       "    <tr>\n",
       "      <th id=\"T_da02c_level1_row3\" class=\"row_heading level1 row3\" >TF-IDF</th>\n",
       "      <td id=\"T_da02c_row3_col0\" class=\"data row3 col0\" >0.109540</td>\n",
       "      <td id=\"T_da02c_row3_col1\" class=\"data row3 col1\" >0.491900</td>\n",
       "      <td id=\"T_da02c_row3_col2\" class=\"data row3 col2\" >0.109454</td>\n",
       "    </tr>\n",
       "    <tr>\n",
       "      <th id=\"T_da02c_level1_row4\" class=\"row_heading level1 row4\" >Wikifier KWs</th>\n",
       "      <td id=\"T_da02c_row4_col0\" class=\"data row4 col0\" >0.103797</td>\n",
       "      <td id=\"T_da02c_row4_col1\" class=\"data row4 col1\" >0.454273</td>\n",
       "      <td id=\"T_da02c_row4_col2\" class=\"data row4 col2\" >0.106368</td>\n",
       "    </tr>\n",
       "  </tbody>\n",
       "</table>\n"
      ],
      "text/plain": [
       "<pandas.io.formats.style.Styler at 0x7f684b427a50>"
      ]
     },
     "execution_count": 28,
     "metadata": {},
     "output_type": "execute_result"
    }
   ],
   "source": [
    "df[~df.filtered].\\\n",
    "    drop(columns=['filtered']).\\\n",
    "    pivot(index='model', columns='features').\\\n",
    "    transpose().\\\n",
    "    rename(columns=better_col_names, index=better_index_name).\\\n",
    "    style.highlight_max(color='lightgreen')"
   ]
  }
 ],
 "metadata": {
  "kernelspec": {
   "display_name": "Python 3 (ipykernel)",
   "language": "python",
   "name": "python3"
  },
  "language_info": {
   "codemirror_mode": {
    "name": "ipython",
    "version": 3
   },
   "file_extension": ".py",
   "mimetype": "text/x-python",
   "name": "python",
   "nbconvert_exporter": "python",
   "pygments_lexer": "ipython3",
   "version": "3.7.11"
  }
 },
 "nbformat": 4,
 "nbformat_minor": 5
}
