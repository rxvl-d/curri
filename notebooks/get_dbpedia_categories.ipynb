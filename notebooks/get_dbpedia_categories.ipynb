{
 "cells": [
  {
   "cell_type": "code",
   "execution_count": 1,
   "id": "2ada7507-dab5-4730-a7a1-3c39972d01d0",
   "metadata": {},
   "outputs": [],
   "source": [
    "import sys\n",
    "sys.path.append('../')"
   ]
  },
  {
   "cell_type": "code",
   "execution_count": 4,
   "id": "c241368c-218c-4c15-9ca7-6a4eb1342f7e",
   "metadata": {},
   "outputs": [],
   "source": [
    "from curry.km import DBPediaPhysicsResources"
   ]
  },
  {
   "cell_type": "code",
   "execution_count": 5,
   "id": "44d490a9-b5c2-4c5b-bece-a99ab186f05f",
   "metadata": {},
   "outputs": [],
   "source": [
    "dbpedia = DBPediaPhysicsResources()"
   ]
  },
  {
   "cell_type": "code",
   "execution_count": 7,
   "id": "01bcbd22-c609-4d8c-a5c7-5577676bc2b3",
   "metadata": {},
   "outputs": [],
   "source": [
    "import pickle\n",
    "from tqdm import tqdm"
   ]
  },
  {
   "cell_type": "code",
   "execution_count": 2,
   "id": "399e01cb-7daa-406e-b1be-1b2152ff72e7",
   "metadata": {},
   "outputs": [],
   "source": [
    "with open('../data/cache/more_urls_to_fetch_categories_for.pkl', 'rb') as f:\n",
    "    urls_to_fetch = pickle.load(f)"
   ]
  },
  {
   "cell_type": "code",
   "execution_count": 8,
   "id": "4ed65478-327d-47ff-ba96-af86085d45d5",
   "metadata": {},
   "outputs": [
    {
     "name": "stderr",
     "output_type": "stream",
     "text": [
      "100%|█████████████████████████████████████████████████████████████████████████████████████████████████████████| 3293/3293 [20:43<00:00,  2.65it/s]\n"
     ]
    }
   ],
   "source": [
    "fetched = dict()\n",
    "\n",
    "for url in tqdm(urls_to_fetch):\n",
    "    fetched[url] = dbpedia.get_rdf_type(url, 5)\n",
    "    "
   ]
  },
  {
   "cell_type": "code",
   "execution_count": 9,
   "id": "772192d4-305b-45d0-a99e-0eaed295a910",
   "metadata": {},
   "outputs": [
    {
     "data": {
      "text/plain": [
       "3293"
      ]
     },
     "execution_count": 9,
     "metadata": {},
     "output_type": "execute_result"
    }
   ],
   "source": [
    "len(fetched)"
   ]
  },
  {
   "cell_type": "code",
   "execution_count": 10,
   "id": "87f5b331-27c4-46be-a2f3-1e65c5f359b2",
   "metadata": {},
   "outputs": [],
   "source": [
    "with open('../data/cache/categories_depth_5_addendum.pkl', 'wb') as f:\n",
    "    pickle.dump(fetched, f)"
   ]
  },
  {
   "cell_type": "code",
   "execution_count": null,
   "id": "0e37bb19-736a-4bd5-8067-67a2294a48ff",
   "metadata": {},
   "outputs": [],
   "source": []
  }
 ],
 "metadata": {
  "kernelspec": {
   "display_name": "Python 3 (ipykernel)",
   "language": "python",
   "name": "python3"
  },
  "language_info": {
   "codemirror_mode": {
    "name": "ipython",
    "version": 3
   },
   "file_extension": ".py",
   "mimetype": "text/x-python",
   "name": "python",
   "nbconvert_exporter": "python",
   "pygments_lexer": "ipython3",
   "version": "3.7.11"
  }
 },
 "nbformat": 4,
 "nbformat_minor": 5
}
