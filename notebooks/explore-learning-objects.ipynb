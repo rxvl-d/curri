{
 "cells": [
  {
   "cell_type": "code",
   "execution_count": 1,
   "id": "26849e22",
   "metadata": {},
   "outputs": [],
   "source": [
    "import sys\n",
    "sys.path.append('..')"
   ]
  },
  {
   "cell_type": "code",
   "execution_count": 24,
   "id": "19ee9cb8",
   "metadata": {},
   "outputs": [],
   "source": [
    "import pickle\n",
    "import pandas as pd\n",
    "from bs4 import BeautifulSoup"
   ]
  },
  {
   "cell_type": "code",
   "execution_count": 3,
   "id": "200229ac",
   "metadata": {},
   "outputs": [],
   "source": [
    "from curry.loader import Loader"
   ]
  },
  {
   "cell_type": "code",
   "execution_count": 4,
   "id": "617b3137",
   "metadata": {},
   "outputs": [],
   "source": [
    "loader = Loader()"
   ]
  },
  {
   "cell_type": "code",
   "execution_count": 5,
   "id": "2f4b36cc",
   "metadata": {},
   "outputs": [],
   "source": [
    "df, _, _ = loader.sublessons_w_content(False, None)"
   ]
  },
  {
   "cell_type": "code",
   "execution_count": 6,
   "id": "8a4bac44",
   "metadata": {},
   "outputs": [
    {
     "data": {
      "text/plain": [
       "(11667, 7)"
      ]
     },
     "execution_count": 6,
     "metadata": {},
     "output_type": "execute_result"
    }
   ],
   "source": [
    "df.shape"
   ]
  },
  {
   "cell_type": "code",
   "execution_count": 7,
   "id": "7c68075d",
   "metadata": {},
   "outputs": [
    {
     "name": "stderr",
     "output_type": "stream",
     "text": [
      "/home/rsebastian/.anaconda3/envs/curry/lib/python3.7/site-packages/pandas/core/apply.py:1101: GuessedAtParserWarning: No parser was explicitly specified, so I'm using the best available HTML parser for this system (\"lxml\"). This usually isn't a problem, but if you run this code on another system, or in a different virtual environment, it may use a different parser and behave differently.\n",
      "\n",
      "The code that caused this warning is on line 1101 of the file /home/rsebastian/.anaconda3/envs/curry/lib/python3.7/site-packages/pandas/core/apply.py. To get rid of this warning, pass the additional argument 'features=\"lxml\"' to the BeautifulSoup constructor.\n",
      "\n",
      "  convert=self.convert_dtype,\n"
     ]
    }
   ],
   "source": [
    "soups = df.groupby('grundwissen_url').content.first().apply(BeautifulSoup)"
   ]
  },
  {
   "cell_type": "code",
   "execution_count": 8,
   "id": "7e0ca620",
   "metadata": {},
   "outputs": [],
   "source": [
    "def get_summary(soup):\n",
    "    topic_teaser = soup.find('div', {'class':'topic_teaser'})\n",
    "    ul = topic_teaser.find('ul')\n",
    "    if ul is None:\n",
    "        return ('nonli', [topic_teaser.text.strip()])\n",
    "    else:\n",
    "        return ('li', [li.text for li in ul.find_all('li')])"
   ]
  },
  {
   "cell_type": "code",
   "execution_count": 9,
   "id": "49ce4bec",
   "metadata": {},
   "outputs": [],
   "source": [
    "wichtigste = [get_summary(s) for s in soups]"
   ]
  },
  {
   "cell_type": "code",
   "execution_count": 10,
   "id": "f7ee2bf2",
   "metadata": {},
   "outputs": [],
   "source": [
    "wichtigste_df = pd.DataFrame(wichtigste, columns=['struct', 'points'], index = soups.index)"
   ]
  },
  {
   "cell_type": "code",
   "execution_count": 11,
   "id": "53b820a7",
   "metadata": {},
   "outputs": [],
   "source": [
    "wichtigste_df['point_len'] = wichtigste_df.points.apply(len)"
   ]
  },
  {
   "cell_type": "code",
   "execution_count": 12,
   "id": "91bcf243",
   "metadata": {},
   "outputs": [
    {
     "data": {
      "text/plain": [
       "<AxesSubplot:>"
      ]
     },
     "execution_count": 12,
     "metadata": {},
     "output_type": "execute_result"
    },
    {
     "data": {
      "image/png": "[encoded data removed]",
      "text/plain": [
       "<Figure size 432x288 with 1 Axes>"
      ]
     },
     "metadata": {
      "needs_background": "light"
     },
     "output_type": "display_data"
    }
   ],
   "source": [
    "wichtigste_df.point_len.hist()"
   ]
  },
  {
   "cell_type": "code",
   "execution_count": 13,
   "id": "428d6117",
   "metadata": {},
   "outputs": [
    {
     "data": {
      "text/plain": [
       "li       491\n",
       "nonli     48\n",
       "Name: struct, dtype: int64"
      ]
     },
     "execution_count": 13,
     "metadata": {},
     "output_type": "execute_result"
    }
   ],
   "source": [
    "wichtigste_df.struct.value_counts()"
   ]
  },
  {
   "cell_type": "code",
   "execution_count": 14,
   "id": "cade2bd9",
   "metadata": {},
   "outputs": [],
   "source": [
    "all_points = wichtigste_df[wichtigste_df.struct == 'li'].points.apply(pd.Series).stack().reset_index(drop=True)"
   ]
  },
  {
   "cell_type": "code",
   "execution_count": 15,
   "id": "6529c817",
   "metadata": {},
   "outputs": [
    {
     "data": {
      "text/plain": [
       "0       Jede Eigenschwingung lässt sich eindeutig aus ...\n",
       "1       Die Klanghöhe wird durch den Grundton (Frequen...\n",
       "2       Die Klangfarbe wird durch die Obertöne bestimm...\n",
       "3       Schall entsteht durch in Bewegung bringen eine...\n",
       "4       Schall breitet sich aus, indem sich die Bewegu...\n",
       "                              ...                        \n",
       "1355     Im Alltag treten oft mehrere Arten gemeinsam auf\n",
       "1356    Häufig leistet eine Transportart den mit Absta...\n",
       "1357    Man unterscheidet zwischen natürlichem und vom...\n",
       "1358    Der natürliche Treibhauseffekt macht die Erde ...\n",
       "1359    Der menschengemachte Treibhauseffekt durch Aus...\n",
       "Length: 1360, dtype: object"
      ]
     },
     "execution_count": 15,
     "metadata": {},
     "output_type": "execute_result"
    }
   ],
   "source": [
    "all_points"
   ]
  },
  {
   "cell_type": "code",
   "execution_count": 17,
   "id": "16b920cb",
   "metadata": {},
   "outputs": [],
   "source": [
    "with open('../data/learning_objectives.txt', 'a') as f:\n",
    "    for point in all_points:\n",
    "        f.write(point + '\\n')"
   ]
  },
  {
   "cell_type": "code",
   "execution_count": 27,
   "id": "e5723628",
   "metadata": {},
   "outputs": [],
   "source": [
    "with open('../data/learning_objectives.txt_encoded', 'rb') as f:\n",
    "    all_points_encoded = pickle.load(f)"
   ]
  },
  {
   "cell_type": "code",
   "execution_count": 28,
   "id": "46a73537",
   "metadata": {},
   "outputs": [
    {
     "data": {
      "text/plain": [
       "(1388, 512)"
      ]
     },
     "execution_count": 28,
     "metadata": {},
     "output_type": "execute_result"
    }
   ],
   "source": [
    "all_points_encoded.shape"
   ]
  },
  {
   "cell_type": "code",
   "execution_count": 29,
   "id": "c9103297",
   "metadata": {},
   "outputs": [],
   "source": [
    "from sklearn.decomposition import PCA"
   ]
  },
  {
   "cell_type": "code",
   "execution_count": 39,
   "id": "cd7e189a",
   "metadata": {},
   "outputs": [],
   "source": [
    "from sklearn.manifold import TSNE"
   ]
  },
  {
   "cell_type": "code",
   "execution_count": 40,
   "id": "372c2ace",
   "metadata": {},
   "outputs": [],
   "source": [
    "pca = PCA(n_components=2)"
   ]
  },
  {
   "cell_type": "code",
   "execution_count": 41,
   "id": "0be21d4f",
   "metadata": {},
   "outputs": [],
   "source": [
    "tsne = TSNE(n_components=2)"
   ]
  },
  {
   "cell_type": "code",
   "execution_count": 42,
   "id": "5148808c",
   "metadata": {},
   "outputs": [
    {
     "name": "stderr",
     "output_type": "stream",
     "text": [
      "/home/rsebastian/.anaconda3/envs/curry/lib/python3.7/site-packages/sklearn/manifold/_t_sne.py:783: FutureWarning: The default initialization in TSNE will change from 'random' to 'pca' in 1.2.\n",
      "  FutureWarning,\n",
      "/home/rsebastian/.anaconda3/envs/curry/lib/python3.7/site-packages/sklearn/manifold/_t_sne.py:793: FutureWarning: The default learning rate in TSNE will change from 200.0 to 'auto' in 1.2.\n",
      "  FutureWarning,\n"
     ]
    }
   ],
   "source": [
    "X2_tsne = tsne.fit_transform(all_points_encoded)"
   ]
  },
  {
   "cell_type": "code",
   "execution_count": 43,
   "id": "db2b4b76",
   "metadata": {},
   "outputs": [],
   "source": [
    "X2_pca = pca.fit_transform(all_points_encoded)"
   ]
  },
  {
   "cell_type": "code",
   "execution_count": 44,
   "id": "b072d8fd",
   "metadata": {},
   "outputs": [],
   "source": [
    "from matplotlib import pyplot as plt"
   ]
  },
  {
   "cell_type": "code",
   "execution_count": 45,
   "id": "288861cb",
   "metadata": {},
   "outputs": [
    {
     "data": {
      "text/plain": [
       "<matplotlib.collections.PathCollection at 0x7f84c3219510>"
      ]
     },
     "execution_count": 45,
     "metadata": {},
     "output_type": "execute_result"
    },
    {
     "data": {
      "image/png": "[encoded data removed]",
      "text/plain": [
       "<Figure size 432x288 with 1 Axes>"
      ]
     },
     "metadata": {
      "needs_background": "light"
     },
     "output_type": "display_data"
    }
   ],
   "source": [
    "plt.scatter(X2_pca[:, 0], X2_pca[:, 1])"
   ]
  },
  {
   "cell_type": "code",
   "execution_count": 46,
   "id": "3f7a1fff",
   "metadata": {},
   "outputs": [
    {
     "data": {
      "text/plain": [
       "<matplotlib.collections.PathCollection at 0x7f84c32a02d0>"
      ]
     },
     "execution_count": 46,
     "metadata": {},
     "output_type": "execute_result"
    },
    {
     "data": {
      "image/png": "[encoded data removed]",
      "text/plain": [
       "<Figure size 432x288 with 1 Axes>"
      ]
     },
     "metadata": {
      "needs_background": "light"
     },
     "output_type": "display_data"
    }
   ],
   "source": [
    "plt.scatter(X2_tsne[:, 0], X2_tsne[:, 1])"
   ]
  },
  {
   "cell_type": "code",
   "execution_count": 47,
   "id": "fd38a51e",
   "metadata": {},
   "outputs": [],
   "source": [
    "def get_content(soup):\n",
    "    return [p.text for p in soup.find_all('p')if len(p.text) > 100]"
   ]
  },
  {
   "cell_type": "code",
   "execution_count": 48,
   "id": "e9a93c15",
   "metadata": {},
   "outputs": [],
   "source": [
    "contents = [get_content(soup) for soup in soups]"
   ]
  },
  {
   "cell_type": "code",
   "execution_count": 54,
   "id": "1cc2c24e",
   "metadata": {},
   "outputs": [
    {
     "data": {
      "text/plain": [
       "['Bei den Saiteninstrumenten wird eine gespannte Saite durch Zupfen, Streichen oder durch den Schlag eines kleinen Hammers (z.B. Klavier) zu Schwingungen angeregt. Dabei können recht komplexe Schwingungsformen auftreten, die deutlich von den sinusförmigen stehenden Wellen wie wir sie am Gummiseil beobachtet haben, abweichen.',\n",
       " 'Grundsätzlich ist eine schwingende Saite keine sehr intensive Schallquelle, da durch sie nur wenig Luft in Bewegung gesetzt wird. Daher wird die gespannte Saite über einen sogenannten Steg geführt. Dieser wiederum überträgt die Schwingungen auf einen Holzkörper z.B. den Korpus einer Violine, der eine im Verhältnis zur Saite wesentlich größere Oberfläche besitzt.',\n",
       " 'Zupfst du\\xa0eine Saite in ihrer Mitte an, so schwingt die Saite als Ganzes nicht sinusförmig. Vielmehr erinnert die Schwingungsform an ein Dreieck bzw. an eine Rampe. Im Folgenden wollen wir als einfaches Modell einer schwingenden Saite diese Dreiecksschwingung benutzen.',\n",
       " 'Der französische Mathematiker und Physiker Jean Baptiste Joseph FOURIER (1768 - 1830) hat nachgewiesen, dass sich jedes periodische Signal - z.B. auch eine Dreiecksschwingung - aus Sinusschwingungen aufbauen lässt. Welche Schwingungen man dazu auswählen muss, ist mathematisch komplex und mit Schulmathematik nicht zu lösen. Es gibt jedoch eine Vielzahl von\\xa0Computerprogrammen und Apps wie \"phyphox\", mit deren Hilfe man vorgegebene Kurvenformen in Sinusschwingungen zerlegen kann (Fourier-Transformation).',\n",
       " 'Für den Aufbau unseres oben gezeigten Dreieckssignals kann man z.B. folgende Sinusfunktionen benutzen: \\\\[\\\\begin{eqnarray}y\\\\left( x \\\\right) &=& \\\\frac{1}{{{1^2}}} \\\\cdot \\\\sin \\\\left( x \\\\right) \\\\quad {\\\\rm{(Grundschwingung,\\\\;Frequenz}}\\\\;{f_0}{\\\\rm{)}}\\\\\\\\ &-& \\\\frac{1}{{{3^2}}} \\\\cdot \\\\sin \\\\left( {3 \\\\cdot x} \\\\right)\\\\quad {\\\\rm{(2.\\\\;Oberschwingung,\\\\;Frequenz}}\\\\;{3 \\\\cdot f_0}{\\\\rm{)}}\\\\\\\\ &+& {\\\\rm{ }}\\\\frac{1}{{{5^2}}} \\\\cdot \\\\sin \\\\left( {5 \\\\cdot x} \\\\right)\\\\quad {\\\\rm{(4.\\\\;Oberschwingung,\\\\;Frequenz}}\\\\;{5 \\\\cdot f_0}{\\\\rm{)}}\\\\\\\\ &-& \\\\frac{1}{{{7^2}}} \\\\cdot \\\\sin \\\\left( {7 \\\\cdot x} \\\\right)\\\\quad {\\\\rm{(6.\\\\;Oberschwingung,\\\\;Frequenz}}\\\\;{7 \\\\cdot f_0}{\\\\rm{)}}\\\\\\\\ &+& {\\\\rm{ }}\\\\frac{1}{{{9^2}}} \\\\cdot \\\\sin \\\\left( {9 \\\\cdot x} \\\\right)\\\\quad {\\\\rm{(8.\\\\;Oberschwingung,\\\\;Frequenz}}\\\\;{9 \\\\cdot f_0}{\\\\rm{)}}\\\\\\\\ &-& \\\\;...\\\\end{eqnarray}\\\\]',\n",
       " 'In Abb. 3 kannst du dir neben der Dreiecksschwingung auch einige\\xa0der verschiedenen\\xa0 Sinusschwingungen einblenden lassen, aus denen sich die Dreiecksschwingung zusammensetzen lässt. Wenn Du dir auch die Summe der aktivierten Sinusschwingungen anzeigen lässt, kannst du sehen, dass mit jeder zusätzlichen Oberschwingung die Summe der Sinusschwingungen sich etwas mehr der Dreiecksschwingung annähert.',\n",
       " 'Die Frequenzen und die Amplituden der Sinusschwingungen, die man zum Aufbau des periodischen Signals - im Beispiel unsere Dreiecksschwingung -\\xa0 benötigt, stellt man häufig in einem sogenannten Frequenzspektrum dar. Abb. 4 zeigt ein entsprechendes Beispiel.',\n",
       " 'Du kannst mit verschiedenen Instrumenten Töne gleicher Höhe spielen. Dennoch klingen die Töne auf verschiedenen Instrumenten natürlich unterschiedlich. Ursache hier ist, dass die Klanghöhe\\xa0durch den Grundton (Frequenz \\\\(f_0\\\\)) bestimmt wird, welcher durch die Grundschwingung hervorgerufen wird. Die Klangfarbe des Tones wird aber durch die Obertöne bestimmt, welche durch die Oberschwingungen hervorgerufen werden. Und bei verschiedenen Instrumenten sind verschiedene Oberschwingungen unterschiedlich stark ausgeprägt.']"
      ]
     },
     "execution_count": 54,
     "metadata": {},
     "output_type": "execute_result"
    }
   ],
   "source": [
    "contents[0]"
   ]
  },
  {
   "cell_type": "code",
   "execution_count": 53,
   "id": "23c2ed5d",
   "metadata": {},
   "outputs": [
    {
     "data": {
      "text/plain": [
       "<AxesSubplot:>"
      ]
     },
     "execution_count": 53,
     "metadata": {},
     "output_type": "execute_result"
    },
    {
     "data": {
      "image/png": "[encoded data removed]",
      "text/plain": [
       "<Figure size 432x288 with 1 Axes>"
      ]
     },
     "metadata": {
      "needs_background": "light"
     },
     "output_type": "display_data"
    }
   ],
   "source": [
    "pd.Series(contents)"
   ]
  },
  {
   "cell_type": "code",
   "execution_count": 36,
   "id": "407e08ad",
   "metadata": {},
   "outputs": [
    {
     "data": {
      "text/plain": [
       "a             194\n",
       "li            168\n",
       "div           159\n",
       "source         72\n",
       "script         60\n",
       "img            23\n",
       "picture        23\n",
       "p              22\n",
       "ul             22\n",
       "span           21\n",
       "input          14\n",
       "h4              9\n",
       "meta            9\n",
       "label           9\n",
       "h2              7\n",
       "link            6\n",
       "i               5\n",
       "strong          4\n",
       "nav             4\n",
       "figcaption      3\n",
       "canvas          2\n",
       "h3              2\n",
       "ol              1\n",
       "h1              1\n",
       "form            1\n",
       "head            1\n",
       "header          1\n",
       "body            1\n",
       "title           1\n",
       "figure          1\n",
       "h5              1\n",
       "html            1\n",
       "dtype: int64"
      ]
     },
     "execution_count": 36,
     "metadata": {},
     "output_type": "execute_result"
    }
   ],
   "source": [
    "pd.Series([t.name for t in soups[0].find_all()]).value_counts().sort_values(ascending=False)"
   ]
  },
  {
   "cell_type": "code",
   "execution_count": 11,
   "id": "0af61373",
   "metadata": {},
   "outputs": [
    {
     "data": {
      "text/html": [
       "<div>\n",
       "<style scoped>\n",
       "    .dataframe tbody tr th:only-of-type {\n",
       "        vertical-align: middle;\n",
       "    }\n",
       "\n",
       "    .dataframe tbody tr th {\n",
       "        vertical-align: top;\n",
       "    }\n",
       "\n",
       "    .dataframe thead th {\n",
       "        text-align: right;\n",
       "    }\n",
       "</style>\n",
       "<table border=\"1\" class=\"dataframe\">\n",
       "  <thead>\n",
       "    <tr style=\"text-align: right;\">\n",
       "      <th></th>\n",
       "      <th>themenbereich</th>\n",
       "      <th>titel für schüler</th>\n",
       "      <th>ortsbezüge</th>\n",
       "      <th>lange beschreibung</th>\n",
       "      <th>herausgeber</th>\n",
       "      <th>anbieter</th>\n",
       "      <th>lernressourcentyp</th>\n",
       "      <th>lizenz</th>\n",
       "      <th>beschreibung für schüler</th>\n",
       "      <th>title</th>\n",
       "      <th>...</th>\n",
       "      <th>bildungsebene</th>\n",
       "      <th>schlagwörter</th>\n",
       "      <th>höchstalter</th>\n",
       "      <th>sprache</th>\n",
       "      <th>description</th>\n",
       "      <th>geeignet für</th>\n",
       "      <th>mindestalter</th>\n",
       "      <th>url</th>\n",
       "      <th>domain</th>\n",
       "      <th>is_pdf</th>\n",
       "    </tr>\n",
       "  </thead>\n",
       "  <tbody>\n",
       "    <tr>\n",
       "      <th>0</th>\n",
       "      <td>Schule mathematisch-naturwissenschaftliche Fäc...</td>\n",
       "      <td>NaN</td>\n",
       "      <td>NaN</td>\n",
       "      <td>NaN</td>\n",
       "      <td>NaN</td>\n",
       "      <td>NaN</td>\n",
       "      <td>Arbeitsblatt</td>\n",
       "      <td>Keine Angabe, es gilt die gesetzliche Regelung</td>\n",
       "      <td>NaN</td>\n",
       "      <td>Neptun in Opposition zur Sonne</td>\n",
       "      <td>...</td>\n",
       "      <td>Sekundarstufe I Sekundarstufe II</td>\n",
       "      <td>Astronomie Planet Sekundarstufe I Sekundarstuf...</td>\n",
       "      <td>Lehrer Online: 18</td>\n",
       "      <td>Deutsch</td>\n",
       "      <td>Am 17. August 2009 steht der Planet Neptun im ...</td>\n",
       "      <td>Lehrer; Schüler</td>\n",
       "      <td>Lehrer Online: 10</td>\n",
       "      <td>http://www.lehrer-online.de/neptun-uranus.php</td>\n",
       "      <td>www.lehrer-online.de</td>\n",
       "      <td>False</td>\n",
       "    </tr>\n",
       "    <tr>\n",
       "      <th>1</th>\n",
       "      <td>Schule mathematisch-naturwissenschaftliche Fäc...</td>\n",
       "      <td>NaN</td>\n",
       "      <td>NaN</td>\n",
       "      <td>NaN</td>\n",
       "      <td>NaN</td>\n",
       "      <td>NaN</td>\n",
       "      <td>Arbeitsblatt</td>\n",
       "      <td>Keine Angabe, es gilt die gesetzliche Regelung</td>\n",
       "      <td>NaN</td>\n",
       "      <td>Der Venustransit am 8. Juni 2004</td>\n",
       "      <td>...</td>\n",
       "      <td>Sekundarstufe I Sekundarstufe II</td>\n",
       "      <td>Physik Astronomie Planet Himmelskörper Sekunda...</td>\n",
       "      <td>Lehrer Online: 18</td>\n",
       "      <td>Deutsch</td>\n",
       "      <td>Mit XEphem können Sie den Transit oder andere ...</td>\n",
       "      <td>Lehrer; Schüler</td>\n",
       "      <td>Lehrer Online: 10</td>\n",
       "      <td>http://www.lehrer-online.de/venustransit-2004.php</td>\n",
       "      <td>www.lehrer-online.de</td>\n",
       "      <td>False</td>\n",
       "    </tr>\n",
       "    <tr>\n",
       "      <th>2</th>\n",
       "      <td>Schule mathematisch-naturwissenschaftliche Fäc...</td>\n",
       "      <td>NaN</td>\n",
       "      <td>NaN</td>\n",
       "      <td>NaN</td>\n",
       "      <td>NaN</td>\n",
       "      <td>NaN</td>\n",
       "      <td>Arbeitsblatt</td>\n",
       "      <td>Keine Angabe, es gilt die gesetzliche Regelung</td>\n",
       "      <td>NaN</td>\n",
       "      <td>Virtuelle Experimente zur Elektrizitätslehre</td>\n",
       "      <td>...</td>\n",
       "      <td>Sekundarstufe I</td>\n",
       "      <td>Physik Elektrizität Sekundarstufe I Elektrizit...</td>\n",
       "      <td>Lehrer Online: 14</td>\n",
       "      <td>Deutsch</td>\n",
       "      <td>Viele interaktive Flash-Applikationen der Phys...</td>\n",
       "      <td>Lehrer; Schüler</td>\n",
       "      <td>Lehrer Online: 10</td>\n",
       "      <td>http://www.lehrer-online.de/virtuelle-elektriz...</td>\n",
       "      <td>www.lehrer-online.de</td>\n",
       "      <td>False</td>\n",
       "    </tr>\n",
       "    <tr>\n",
       "      <th>3</th>\n",
       "      <td>Schule mathematisch-naturwissenschaftliche Fäc...</td>\n",
       "      <td>NaN</td>\n",
       "      <td>NaN</td>\n",
       "      <td>NaN</td>\n",
       "      <td>NaN</td>\n",
       "      <td>NaN</td>\n",
       "      <td>Arbeitsblatt</td>\n",
       "      <td>Keine Angabe, es gilt die gesetzliche Regelung</td>\n",
       "      <td>NaN</td>\n",
       "      <td>Simulation einer Wellenwanne</td>\n",
       "      <td>...</td>\n",
       "      <td>Sekundarstufe I Sekundarstufe II</td>\n",
       "      <td>Physik Wellenlehre Sekundarstufe II</td>\n",
       "      <td>Lehrer Online: 18</td>\n",
       "      <td>Deutsch</td>\n",
       "      <td>Eine Software zur Simulation einer Wellenwanne...</td>\n",
       "      <td>Lehrer; Schüler</td>\n",
       "      <td>Lehrer Online: 15</td>\n",
       "      <td>http://www.lehrer-online.de/wellenwanne.php</td>\n",
       "      <td>www.lehrer-online.de</td>\n",
       "      <td>False</td>\n",
       "    </tr>\n",
       "    <tr>\n",
       "      <th>4</th>\n",
       "      <td>Schule mathematisch-naturwissenschaftliche Fäc...</td>\n",
       "      <td>NaN</td>\n",
       "      <td>NaN</td>\n",
       "      <td>NaN</td>\n",
       "      <td>NaN</td>\n",
       "      <td>NaN</td>\n",
       "      <td>Arbeitsblatt</td>\n",
       "      <td>Keine Angabe, es gilt die gesetzliche Regelung</td>\n",
       "      <td>NaN</td>\n",
       "      <td>Physix</td>\n",
       "      <td>...</td>\n",
       "      <td>Sekundarstufe I Sekundarstufe II</td>\n",
       "      <td>Lernsoftware Physik</td>\n",
       "      <td>Lehrer Online: 18</td>\n",
       "      <td>Deutsch</td>\n",
       "      <td>Newtons Gesetze für die Klassen 10 und 11 unte...</td>\n",
       "      <td>Lehrer; Schüler</td>\n",
       "      <td>Lehrer Online: 15</td>\n",
       "      <td>http://www.lehrer-online.de/physix.php</td>\n",
       "      <td>www.lehrer-online.de</td>\n",
       "      <td>False</td>\n",
       "    </tr>\n",
       "    <tr>\n",
       "      <th>...</th>\n",
       "      <td>...</td>\n",
       "      <td>...</td>\n",
       "      <td>...</td>\n",
       "      <td>...</td>\n",
       "      <td>...</td>\n",
       "      <td>...</td>\n",
       "      <td>...</td>\n",
       "      <td>...</td>\n",
       "      <td>...</td>\n",
       "      <td>...</td>\n",
       "      <td>...</td>\n",
       "      <td>...</td>\n",
       "      <td>...</td>\n",
       "      <td>...</td>\n",
       "      <td>...</td>\n",
       "      <td>...</td>\n",
       "      <td>...</td>\n",
       "      <td>...</td>\n",
       "      <td>...</td>\n",
       "      <td>...</td>\n",
       "      <td>...</td>\n",
       "    </tr>\n",
       "    <tr>\n",
       "      <th>2894</th>\n",
       "      <td>Schule Sprachen und Literatur Deutsch Nichtlit...</td>\n",
       "      <td>NaN</td>\n",
       "      <td>Antarktis; Grönland</td>\n",
       "      <td>NaN</td>\n",
       "      <td>NaN</td>\n",
       "      <td>NaN</td>\n",
       "      <td>Text; Arbeitsblatt</td>\n",
       "      <td>keine Angabe</td>\n",
       "      <td>NaN</td>\n",
       "      <td>forscher - Das Magazin für Neugierige: Leinen ...</td>\n",
       "      <td>...</td>\n",
       "      <td>Primarstufe Sekundarstufe I</td>\n",
       "      <td>Zeitschrift Forscher Forschung Müll Abfall Mee...</td>\n",
       "      <td>15</td>\n",
       "      <td>de</td>\n",
       "      <td>Eine unerwartete Entdeckung haben die Jugendli...</td>\n",
       "      <td>Schüler</td>\n",
       "      <td>6</td>\n",
       "      <td>https://www.forscher-online.de/fileadmin/user_...</td>\n",
       "      <td>www.forscher-online.de</td>\n",
       "      <td>True</td>\n",
       "    </tr>\n",
       "    <tr>\n",
       "      <th>2895</th>\n",
       "      <td>Schule mathematisch-naturwissenschaftliche Fäc...</td>\n",
       "      <td>NaN</td>\n",
       "      <td>NaN</td>\n",
       "      <td>NaN</td>\n",
       "      <td>NaN</td>\n",
       "      <td>NaN</td>\n",
       "      <td>Arbeitsblatt</td>\n",
       "      <td>keine Angabe</td>\n",
       "      <td>NaN</td>\n",
       "      <td>Lingo macht MINT: Heft 6 - Feuer auf der Erde</td>\n",
       "      <td>...</td>\n",
       "      <td>Primarstufe Sekundarstufe I</td>\n",
       "      <td>Deutsch als Zweitsprache Deutsch als Fremdspra...</td>\n",
       "      <td>15</td>\n",
       "      <td>de</td>\n",
       "      <td>Feuer ist eines der usprünglichsten und faszin...</td>\n",
       "      <td>Schüler; Lehrer</td>\n",
       "      <td>6</td>\n",
       "      <td>https://www.lingonetz.de/schule/lingo-macht-mi...</td>\n",
       "      <td>www.lingonetz.de</td>\n",
       "      <td>False</td>\n",
       "    </tr>\n",
       "    <tr>\n",
       "      <th>2896</th>\n",
       "      <td>Schule Sprachen und Literatur Deutsch Nichtlit...</td>\n",
       "      <td>NaN</td>\n",
       "      <td>NaN</td>\n",
       "      <td>NaN</td>\n",
       "      <td>NaN</td>\n",
       "      <td>NaN</td>\n",
       "      <td>Text; Arbeitsblatt</td>\n",
       "      <td>keine Angabe</td>\n",
       "      <td>NaN</td>\n",
       "      <td>forscher - Das Magazin für Neugierige: Stadt s...</td>\n",
       "      <td>...</td>\n",
       "      <td>Primarstufe Sekundarstufe I</td>\n",
       "      <td>Zeitschrift Forscher Forschung Stadt Nahrung L...</td>\n",
       "      <td>15</td>\n",
       "      <td>de</td>\n",
       "      <td>Was ist hier echt und was nur eine Idee? Wir z...</td>\n",
       "      <td>Schüler</td>\n",
       "      <td>6</td>\n",
       "      <td>https://www.forscher-online.de/fileadmin/user_...</td>\n",
       "      <td>www.forscher-online.de</td>\n",
       "      <td>True</td>\n",
       "    </tr>\n",
       "    <tr>\n",
       "      <th>2897</th>\n",
       "      <td>Schule mathematisch-naturwissenschaftliche Fäc...</td>\n",
       "      <td>NaN</td>\n",
       "      <td>NaN</td>\n",
       "      <td>NaN</td>\n",
       "      <td>NaN</td>\n",
       "      <td>NaN</td>\n",
       "      <td>Arbeitsblatt</td>\n",
       "      <td>Keine Angabe, es gilt die gesetzliche Regelung</td>\n",
       "      <td>NaN</td>\n",
       "      <td>Energiespiel 2010</td>\n",
       "      <td>...</td>\n",
       "      <td>Sekundarstufe I Sekundarstufe II</td>\n",
       "      <td>Ökologie Grundschule Technik</td>\n",
       "      <td>Lehrer Online: 18</td>\n",
       "      <td>Deutsch</td>\n",
       "      <td>Energie einmal ganz anders: Die Schülerinnen u...</td>\n",
       "      <td>Lehrer; Schüler</td>\n",
       "      <td>Lehrer Online: 10</td>\n",
       "      <td>http://www.lehrer-online.de/energiespiel2010.php</td>\n",
       "      <td>www.lehrer-online.de</td>\n",
       "      <td>False</td>\n",
       "    </tr>\n",
       "    <tr>\n",
       "      <th>2898</th>\n",
       "      <td>Schule mathematisch-naturwissenschaftliche Fäc...</td>\n",
       "      <td>NaN</td>\n",
       "      <td>NaN</td>\n",
       "      <td>NaN</td>\n",
       "      <td>NaN</td>\n",
       "      <td>NaN</td>\n",
       "      <td>Arbeitsblatt</td>\n",
       "      <td>Keine Angabe, es gilt die gesetzliche Regelung</td>\n",
       "      <td>NaN</td>\n",
       "      <td>Interaktives Whiteboard mit Wiimote zum \"Selbe...</td>\n",
       "      <td>...</td>\n",
       "      <td>Sekundarstufe I Sekundarstufe II</td>\n",
       "      <td>Lehrmittel</td>\n",
       "      <td>Lehrer Online: 18</td>\n",
       "      <td>Deutsch</td>\n",
       "      <td>Das selbstgebaute \"Wiimote-Whiteboard\" ist ein...</td>\n",
       "      <td>Lehrer; Schüler</td>\n",
       "      <td>Lehrer Online: 10</td>\n",
       "      <td>http://www.lehrer-online.de/wiimote-whiteboard...</td>\n",
       "      <td>www.lehrer-online.de</td>\n",
       "      <td>False</td>\n",
       "    </tr>\n",
       "  </tbody>\n",
       "</table>\n",
       "<p>2899 rows × 25 columns</p>\n",
       "</div>"
      ],
      "text/plain": [
       "                                          themenbereich titel für schüler  \\\n",
       "0     Schule mathematisch-naturwissenschaftliche Fäc...               NaN   \n",
       "1     Schule mathematisch-naturwissenschaftliche Fäc...               NaN   \n",
       "2     Schule mathematisch-naturwissenschaftliche Fäc...               NaN   \n",
       "3     Schule mathematisch-naturwissenschaftliche Fäc...               NaN   \n",
       "4     Schule mathematisch-naturwissenschaftliche Fäc...               NaN   \n",
       "...                                                 ...               ...   \n",
       "2894  Schule Sprachen und Literatur Deutsch Nichtlit...               NaN   \n",
       "2895  Schule mathematisch-naturwissenschaftliche Fäc...               NaN   \n",
       "2896  Schule Sprachen und Literatur Deutsch Nichtlit...               NaN   \n",
       "2897  Schule mathematisch-naturwissenschaftliche Fäc...               NaN   \n",
       "2898  Schule mathematisch-naturwissenschaftliche Fäc...               NaN   \n",
       "\n",
       "               ortsbezüge lange beschreibung herausgeber anbieter  \\\n",
       "0                     NaN                NaN         NaN      NaN   \n",
       "1                     NaN                NaN         NaN      NaN   \n",
       "2                     NaN                NaN         NaN      NaN   \n",
       "3                     NaN                NaN         NaN      NaN   \n",
       "4                     NaN                NaN         NaN      NaN   \n",
       "...                   ...                ...         ...      ...   \n",
       "2894  Antarktis; Grönland                NaN         NaN      NaN   \n",
       "2895                  NaN                NaN         NaN      NaN   \n",
       "2896                  NaN                NaN         NaN      NaN   \n",
       "2897                  NaN                NaN         NaN      NaN   \n",
       "2898                  NaN                NaN         NaN      NaN   \n",
       "\n",
       "       lernressourcentyp                                          lizenz  \\\n",
       "0           Arbeitsblatt  Keine Angabe, es gilt die gesetzliche Regelung   \n",
       "1           Arbeitsblatt  Keine Angabe, es gilt die gesetzliche Regelung   \n",
       "2           Arbeitsblatt  Keine Angabe, es gilt die gesetzliche Regelung   \n",
       "3           Arbeitsblatt  Keine Angabe, es gilt die gesetzliche Regelung   \n",
       "4           Arbeitsblatt  Keine Angabe, es gilt die gesetzliche Regelung   \n",
       "...                  ...                                             ...   \n",
       "2894  Text; Arbeitsblatt                                    keine Angabe   \n",
       "2895        Arbeitsblatt                                    keine Angabe   \n",
       "2896  Text; Arbeitsblatt                                    keine Angabe   \n",
       "2897        Arbeitsblatt  Keine Angabe, es gilt die gesetzliche Regelung   \n",
       "2898        Arbeitsblatt  Keine Angabe, es gilt die gesetzliche Regelung   \n",
       "\n",
       "     beschreibung für schüler  \\\n",
       "0                         NaN   \n",
       "1                         NaN   \n",
       "2                         NaN   \n",
       "3                         NaN   \n",
       "4                         NaN   \n",
       "...                       ...   \n",
       "2894                      NaN   \n",
       "2895                      NaN   \n",
       "2896                      NaN   \n",
       "2897                      NaN   \n",
       "2898                      NaN   \n",
       "\n",
       "                                                  title  ...  \\\n",
       "0                        Neptun in Opposition zur Sonne  ...   \n",
       "1                      Der Venustransit am 8. Juni 2004  ...   \n",
       "2          Virtuelle Experimente zur Elektrizitätslehre  ...   \n",
       "3                          Simulation einer Wellenwanne  ...   \n",
       "4                                                Physix  ...   \n",
       "...                                                 ...  ...   \n",
       "2894  forscher - Das Magazin für Neugierige: Leinen ...  ...   \n",
       "2895      Lingo macht MINT: Heft 6 - Feuer auf der Erde  ...   \n",
       "2896  forscher - Das Magazin für Neugierige: Stadt s...  ...   \n",
       "2897                                  Energiespiel 2010  ...   \n",
       "2898  Interaktives Whiteboard mit Wiimote zum \"Selbe...  ...   \n",
       "\n",
       "                         bildungsebene  \\\n",
       "0     Sekundarstufe I Sekundarstufe II   \n",
       "1     Sekundarstufe I Sekundarstufe II   \n",
       "2                      Sekundarstufe I   \n",
       "3     Sekundarstufe I Sekundarstufe II   \n",
       "4     Sekundarstufe I Sekundarstufe II   \n",
       "...                                ...   \n",
       "2894       Primarstufe Sekundarstufe I   \n",
       "2895       Primarstufe Sekundarstufe I   \n",
       "2896       Primarstufe Sekundarstufe I   \n",
       "2897  Sekundarstufe I Sekundarstufe II   \n",
       "2898  Sekundarstufe I Sekundarstufe II   \n",
       "\n",
       "                                           schlagwörter        höchstalter  \\\n",
       "0     Astronomie Planet Sekundarstufe I Sekundarstuf...  Lehrer Online: 18   \n",
       "1     Physik Astronomie Planet Himmelskörper Sekunda...  Lehrer Online: 18   \n",
       "2     Physik Elektrizität Sekundarstufe I Elektrizit...  Lehrer Online: 14   \n",
       "3                   Physik Wellenlehre Sekundarstufe II  Lehrer Online: 18   \n",
       "4                                   Lernsoftware Physik  Lehrer Online: 18   \n",
       "...                                                 ...                ...   \n",
       "2894  Zeitschrift Forscher Forschung Müll Abfall Mee...                 15   \n",
       "2895  Deutsch als Zweitsprache Deutsch als Fremdspra...                 15   \n",
       "2896  Zeitschrift Forscher Forschung Stadt Nahrung L...                 15   \n",
       "2897                       Ökologie Grundschule Technik  Lehrer Online: 18   \n",
       "2898                                         Lehrmittel  Lehrer Online: 18   \n",
       "\n",
       "      sprache                                        description  \\\n",
       "0     Deutsch  Am 17. August 2009 steht der Planet Neptun im ...   \n",
       "1     Deutsch  Mit XEphem können Sie den Transit oder andere ...   \n",
       "2     Deutsch  Viele interaktive Flash-Applikationen der Phys...   \n",
       "3     Deutsch  Eine Software zur Simulation einer Wellenwanne...   \n",
       "4     Deutsch  Newtons Gesetze für die Klassen 10 und 11 unte...   \n",
       "...       ...                                                ...   \n",
       "2894       de  Eine unerwartete Entdeckung haben die Jugendli...   \n",
       "2895       de  Feuer ist eines der usprünglichsten und faszin...   \n",
       "2896       de  Was ist hier echt und was nur eine Idee? Wir z...   \n",
       "2897  Deutsch  Energie einmal ganz anders: Die Schülerinnen u...   \n",
       "2898  Deutsch  Das selbstgebaute \"Wiimote-Whiteboard\" ist ein...   \n",
       "\n",
       "         geeignet für       mindestalter  \\\n",
       "0     Lehrer; Schüler  Lehrer Online: 10   \n",
       "1     Lehrer; Schüler  Lehrer Online: 10   \n",
       "2     Lehrer; Schüler  Lehrer Online: 10   \n",
       "3     Lehrer; Schüler  Lehrer Online: 15   \n",
       "4     Lehrer; Schüler  Lehrer Online: 15   \n",
       "...               ...                ...   \n",
       "2894          Schüler                  6   \n",
       "2895  Schüler; Lehrer                  6   \n",
       "2896          Schüler                  6   \n",
       "2897  Lehrer; Schüler  Lehrer Online: 10   \n",
       "2898  Lehrer; Schüler  Lehrer Online: 10   \n",
       "\n",
       "                                                    url  \\\n",
       "0         http://www.lehrer-online.de/neptun-uranus.php   \n",
       "1     http://www.lehrer-online.de/venustransit-2004.php   \n",
       "2     http://www.lehrer-online.de/virtuelle-elektriz...   \n",
       "3           http://www.lehrer-online.de/wellenwanne.php   \n",
       "4                http://www.lehrer-online.de/physix.php   \n",
       "...                                                 ...   \n",
       "2894  https://www.forscher-online.de/fileadmin/user_...   \n",
       "2895  https://www.lingonetz.de/schule/lingo-macht-mi...   \n",
       "2896  https://www.forscher-online.de/fileadmin/user_...   \n",
       "2897   http://www.lehrer-online.de/energiespiel2010.php   \n",
       "2898  http://www.lehrer-online.de/wiimote-whiteboard...   \n",
       "\n",
       "                      domain is_pdf  \n",
       "0       www.lehrer-online.de  False  \n",
       "1       www.lehrer-online.de  False  \n",
       "2       www.lehrer-online.de  False  \n",
       "3       www.lehrer-online.de  False  \n",
       "4       www.lehrer-online.de  False  \n",
       "...                      ...    ...  \n",
       "2894  www.forscher-online.de   True  \n",
       "2895        www.lingonetz.de  False  \n",
       "2896  www.forscher-online.de   True  \n",
       "2897    www.lehrer-online.de  False  \n",
       "2898    www.lehrer-online.de  False  \n",
       "\n",
       "[2899 rows x 25 columns]"
      ]
     },
     "execution_count": 11,
     "metadata": {},
     "output_type": "execute_result"
    }
   ],
   "source": [
    "oer = pd.read_csv('../../elixier-scraper/data/elixier_physics_all.csv', index_col=0)\n",
    "oer"
   ]
  },
  {
   "cell_type": "code",
   "execution_count": null,
   "id": "86f812c4",
   "metadata": {},
   "outputs": [],
   "source": []
  }
 ],
 "metadata": {
  "kernelspec": {
   "display_name": "Python 3 (ipykernel)",
   "language": "python",
   "name": "python3"
  },
  "language_info": {
   "codemirror_mode": {
    "name": "ipython",
    "version": 3
   },
   "file_extension": ".py",
   "mimetype": "text/x-python",
   "name": "python",
   "nbconvert_exporter": "python",
   "pygments_lexer": "ipython3",
   "version": "3.7.11"
  }
 },
 "nbformat": 4,
 "nbformat_minor": 5
}
